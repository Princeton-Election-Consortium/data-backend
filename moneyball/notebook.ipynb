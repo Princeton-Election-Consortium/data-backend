{
 "metadata": {
  "language_info": {
   "codemirror_mode": {
    "name": "ipython",
    "version": 3
   },
   "file_extension": ".py",
   "mimetype": "text/x-python",
   "name": "python",
   "nbconvert_exporter": "python",
   "pygments_lexer": "ipython3",
   "version": 3
  },
  "orig_nbformat": 2,
  "kernelspec": {
   "name": "python_defaultSpec_1595434019045",
   "display_name": "Python 3.7.3 64-bit"
  }
 },
 "nbformat": 4,
 "nbformat_minor": 2,
 "cells": [
  {
   "cell_type": "code",
   "execution_count": 3,
   "metadata": {},
   "outputs": [],
   "source": [
    "\n",
    "import shapefile\n",
    "from collections import OrderedDict\n",
    "import pandas as pd \n",
    "import csv"
   ]
  },
  {
   "cell_type": "code",
   "execution_count": null,
   "metadata": {},
   "outputs": [],
   "source": [
    "### process moneyball data"
   ]
  },
  {
   "cell_type": "code",
   "execution_count": 29,
   "metadata": {},
   "outputs": [],
   "source": [
    "# ******* update to include other input and output cases *********\n",
    "\n",
    "def get_state_code(input, FIPS=True, TwoDigit=False, Full=False):\n",
    "    if (FIPS + TwoDigit + Full != 1):\n",
    "        raise ValueError(\"Exactly one format argument must be True. Default = FIPS\")\n",
    "\n",
    "    code_hash = {\n",
    "        'AL': {'full': 'Alabama', 'two_digit': 'AL', 'FIPS': 1},\n",
    "        'AK': {'full': 'Alaska', 'two_digit': 'AK', 'FIPS': 2},\n",
    "        'AZ': {'full': 'Arizona', 'two_digit': 'AZ', 'FIPS': 4},\n",
    "        'AR': {'full': 'Arkansas', 'two_digit': 'AR', 'FIPS': 5},\n",
    "        'CA': {'full': 'California', 'two_digit': 'CA', 'FIPS': 6},\n",
    "        'CO': {'full': 'Colorado', 'two_digit': 'CO', 'FIPS': 8},\n",
    "        'CT': {'full': 'Connecticut', 'two_digit': 'CT', 'FIPS': 9},\n",
    "        'DE': {'full': 'Delaware', 'two_digit': 'DE', 'FIPS': 10},\n",
    "        'DC': {'full': 'District of Columbia', 'two_digit': 'DC', 'FIPS': 11},\n",
    "        'FL': {'full': 'Florida', 'two_digit': 'FL', 'FIPS': 12},\n",
    "        'GA': {'full': 'Georgia', 'two_digit': 'GA', 'FIPS': 13},\n",
    "        'HI': {'full': 'Hawaii', 'two_digit': 'HI', 'FIPS': 15},\n",
    "        'ID': {'full': 'Idaho', 'two_digit': 'ID', 'FIPS': 16},\n",
    "        'IL': {'full': 'Illinois', 'two_digit': 'IL', 'FIPS': 17},\n",
    "        'IN': {'full': 'Indiana', 'two_digit': 'IN', 'FIPS': 18},\n",
    "        'IA': {'full': 'Iowa', 'two_digit': 'IA', 'FIPS': 19},\n",
    "        'KS': {'full': 'Kansas', 'two_digit': 'KS', 'FIPS': 20},\n",
    "        'KY': {'full': 'Kentucky', 'two_digit': 'KY', 'FIPS': 21},\n",
    "        'LA': {'full': 'Louisiana', 'two_digit': 'LA', 'FIPS': 22},\n",
    "        'ME': {'full': 'Maine', 'two_digit': 'ME', 'FIPS': 23},\n",
    "        'MD': {'full': 'Maryland', 'two_digit': 'MD', 'FIPS': 24},\n",
    "        'MA': {'full': 'Massachusetts', 'two_digit': 'MA', 'FIPS': 25},\n",
    "        'MI': {'full': 'Michigan', 'two_digit': 'MI', 'FIPS': 26},\n",
    "        'MN': {'full': 'Minnesota', 'two_digit': 'MN', 'FIPS': 27},\n",
    "        'MS': {'full': 'Mississippi', 'two_digit': 'MS', 'FIPS': 28},\n",
    "        'MO': {'full': 'Missouri', 'two_digit': 'MO', 'FIPS': 29},\n",
    "        'MT': {'full': 'Montana', 'two_digit': 'MT', 'FIPS': 30},\n",
    "        'NE': {'full': 'Nebraska', 'two_digit': 'NE', 'FIPS': 31},\n",
    "        'NV': {'full': 'Nevada', 'two_digit': 'NV', 'FIPS': 32},\n",
    "        'NH': {'full': 'New Hampshire', 'two_digit': 'NH', 'FIPS': 33},\n",
    "        'NJ': {'full': 'New Jersey', 'two_digit': 'NJ', 'FIPS': 34},\n",
    "        'NM': {'full': 'New Mexico', 'two_digit': 'NM', 'FIPS': 35},\n",
    "        'NY': {'full': 'New York', 'two_digit': 'NY', 'FIPS': 36},\n",
    "        'NC': {'full': 'North Carolina', 'two_digit': 'NC', 'FIPS': 37},\n",
    "        'ND': {'full': 'North Dakota', 'two_digit': 'ND', 'FIPS': 38},\n",
    "        'OH': {'full': 'Ohio', 'two_digit': 'OH', 'FIPS': 39},\n",
    "        'OK': {'full': 'Oklahoma', 'two_digit': 'OK', 'FIPS': 40},\n",
    "        'OR': {'full': 'Oregon', 'two_digit': 'OR', 'FIPS': 41},\n",
    "        'PA': {'full': 'Pennsylvania', 'two_digit': 'PA', 'FIPS': 42},\n",
    "        'RI': {'full': 'Rhode Island', 'two_digit': 'RI', 'FIPS': 44},\n",
    "        'SC': {'full': 'South Carolina', 'two_digit': 'SC', 'FIPS': 45},\n",
    "        'SD': {'full': 'South Dakota', 'two_digit': 'SD', 'FIPS': 46},\n",
    "        'TN': {'full': 'Tennessee', 'two_digit': 'TN', 'FIPS': 47},\n",
    "        'TX': {'full': 'Texas', 'two_digit': 'TX', 'FIPS': 48},\n",
    "        'UT': {'full': 'Utah', 'two_digit': 'UT', 'FIPS': 49},\n",
    "        'VT': {'full': 'Vermont', 'two_digit': 'VT', 'FIPS': 50},\n",
    "        'VA': {'full': 'Virginia', 'two_digit': 'VA', 'FIPS': 51},\n",
    "        'WA': {'full': 'Washington', 'two_digit': 'WA', 'FIPS': 53},\n",
    "        'WV': {'full': 'West Virginia', 'two_digit': 'WV', 'FIPS': 54},\n",
    "        'WI': {'full': 'Wisconsin', 'two_digit': 'WI', 'FIPS': 55},\n",
    "        'WY': {'full': 'Wyoming', 'two_digit': 'WY', 'FIPS': 56},\n",
    "        'PR': {'full': 'Puerto Rico', 'two_digit': 'PR', 'FIPS': 72}\n",
    "    }\n",
    "\n",
    "    if FIPS:\n",
    "        return code_hash[input]['FIPS']\n",
    "    \n",
    "    return None\n",
    "\n"
   ]
  },
  {
   "cell_type": "code",
   "execution_count": 43,
   "metadata": {},
   "outputs": [],
   "source": [
    "def getGEOID(district_str, leading_zero = False):\n",
    "    state, chamber, dist_num = district_str.split('-')\n",
    "    GEOID = str(get_state_code(state)) \n",
    "    if leading_zero and len(GEOID) < 2: \n",
    "        GEOID= '0' + GEOID\n",
    "    while len(dist_num) <3: \n",
    "        dist_num = '0' + dist_num\n",
    "    GEOID =  GEOID + dist_num\n",
    "    return GEOID"
   ]
  },
  {
   "cell_type": "code",
   "execution_count": 55,
   "metadata": {},
   "outputs": [],
   "source": [
    "def getChamber(district_str):\n",
    "    state, chamber, dist_num = district_str.split('-')\n",
    "    return chamber"
   ]
  },
  {
   "cell_type": "code",
   "execution_count": 56,
   "metadata": {},
   "outputs": [],
   "source": [
    "def process_moneyball_data(inPath, outPath):\n",
    "    raw = pd.read_csv(inPath)"
   ]
  },
  {
   "cell_type": "code",
   "execution_count": 57,
   "metadata": {},
   "outputs": [],
   "source": [
    "df = pd.read_csv(\"dummy_data.csv\")"
   ]
  },
  {
   "cell_type": "code",
   "execution_count": 58,
   "metadata": {
    "tags": []
   },
   "outputs": [
    {
     "output_type": "execute_result",
     "data": {
      "text/plain": "  state district incumbent favored confidence  nom_R  nom_D  nom_I  \\\n0    CT  CT-HD-1         D       D       Safe  FALSE  FALSE  FALSE   \n1    CT  CT-HD-2         D       D       Lean  FALSE  FALSE  FALSE   \n2    CT  CT-HD-3         D       D       Safe  FALSE  FALSE  FALSE   \n3    CT  CT-HD-4         D       D       Safe  FALSE  FALSE  FALSE   \n4    CT  CT-HD-5         D       D       Safe  FALSE  FALSE  FALSE   \n\n   turnout_cvap   VOTER_POWER  \n0          8256 -7.480000e-07  \n1          9538 -2.770000e-06  \n2          7240 -8.530000e-07  \n3          8519 -7.250000e-07  \n4          8851 -6.980000e-07  ",
      "text/html": "<div>\n<style scoped>\n    .dataframe tbody tr th:only-of-type {\n        vertical-align: middle;\n    }\n\n    .dataframe tbody tr th {\n        vertical-align: top;\n    }\n\n    .dataframe thead th {\n        text-align: right;\n    }\n</style>\n<table border=\"1\" class=\"dataframe\">\n  <thead>\n    <tr style=\"text-align: right;\">\n      <th></th>\n      <th>state</th>\n      <th>district</th>\n      <th>incumbent</th>\n      <th>favored</th>\n      <th>confidence</th>\n      <th>nom_R</th>\n      <th>nom_D</th>\n      <th>nom_I</th>\n      <th>turnout_cvap</th>\n      <th>VOTER_POWER</th>\n    </tr>\n  </thead>\n  <tbody>\n    <tr>\n      <th>0</th>\n      <td>CT</td>\n      <td>CT-HD-1</td>\n      <td>D</td>\n      <td>D</td>\n      <td>Safe</td>\n      <td>FALSE</td>\n      <td>FALSE</td>\n      <td>FALSE</td>\n      <td>8256</td>\n      <td>-7.480000e-07</td>\n    </tr>\n    <tr>\n      <th>1</th>\n      <td>CT</td>\n      <td>CT-HD-2</td>\n      <td>D</td>\n      <td>D</td>\n      <td>Lean</td>\n      <td>FALSE</td>\n      <td>FALSE</td>\n      <td>FALSE</td>\n      <td>9538</td>\n      <td>-2.770000e-06</td>\n    </tr>\n    <tr>\n      <th>2</th>\n      <td>CT</td>\n      <td>CT-HD-3</td>\n      <td>D</td>\n      <td>D</td>\n      <td>Safe</td>\n      <td>FALSE</td>\n      <td>FALSE</td>\n      <td>FALSE</td>\n      <td>7240</td>\n      <td>-8.530000e-07</td>\n    </tr>\n    <tr>\n      <th>3</th>\n      <td>CT</td>\n      <td>CT-HD-4</td>\n      <td>D</td>\n      <td>D</td>\n      <td>Safe</td>\n      <td>FALSE</td>\n      <td>FALSE</td>\n      <td>FALSE</td>\n      <td>8519</td>\n      <td>-7.250000e-07</td>\n    </tr>\n    <tr>\n      <th>4</th>\n      <td>CT</td>\n      <td>CT-HD-5</td>\n      <td>D</td>\n      <td>D</td>\n      <td>Safe</td>\n      <td>FALSE</td>\n      <td>FALSE</td>\n      <td>FALSE</td>\n      <td>8851</td>\n      <td>-6.980000e-07</td>\n    </tr>\n  </tbody>\n</table>\n</div>"
     },
     "metadata": {},
     "execution_count": 58
    }
   ],
   "source": [
    "df.head()"
   ]
  },
  {
   "cell_type": "code",
   "execution_count": 59,
   "metadata": {},
   "outputs": [],
   "source": [
    "lambdafunc = lambda x: pd.Series(\n",
    "    [getGEOID(x['district']),\n",
    "    getChamber(x['district'])]\n",
    ")"
   ]
  },
  {
   "cell_type": "code",
   "execution_count": 60,
   "metadata": {
    "tags": []
   },
   "outputs": [
    {
     "output_type": "execute_result",
     "data": {
      "text/plain": "'9005'"
     },
     "metadata": {},
     "execution_count": 60
    }
   ],
   "source": [
    "getGEOID('CT-HD-5')"
   ]
  },
  {
   "cell_type": "code",
   "execution_count": 61,
   "metadata": {},
   "outputs": [],
   "source": [
    "df [['GEOID', 'chamber']] = df.apply(lambdafunc, axis = 1)"
   ]
  },
  {
   "cell_type": "code",
   "execution_count": 62,
   "metadata": {},
   "outputs": [
    {
     "output_type": "execute_result",
     "data": {
      "text/plain": "  state district incumbent favored confidence  nom_R  nom_D  nom_I  \\\n0    CT  CT-HD-1         D       D       Safe  FALSE  FALSE  FALSE   \n1    CT  CT-HD-2         D       D       Lean  FALSE  FALSE  FALSE   \n2    CT  CT-HD-3         D       D       Safe  FALSE  FALSE  FALSE   \n3    CT  CT-HD-4         D       D       Safe  FALSE  FALSE  FALSE   \n4    CT  CT-HD-5         D       D       Safe  FALSE  FALSE  FALSE   \n\n   turnout_cvap   VOTER_POWER GEOID chamber  \n0          8256 -7.480000e-07  9001      HD  \n1          9538 -2.770000e-06  9002      HD  \n2          7240 -8.530000e-07  9003      HD  \n3          8519 -7.250000e-07  9004      HD  \n4          8851 -6.980000e-07  9005      HD  ",
      "text/html": "<div>\n<style scoped>\n    .dataframe tbody tr th:only-of-type {\n        vertical-align: middle;\n    }\n\n    .dataframe tbody tr th {\n        vertical-align: top;\n    }\n\n    .dataframe thead th {\n        text-align: right;\n    }\n</style>\n<table border=\"1\" class=\"dataframe\">\n  <thead>\n    <tr style=\"text-align: right;\">\n      <th></th>\n      <th>state</th>\n      <th>district</th>\n      <th>incumbent</th>\n      <th>favored</th>\n      <th>confidence</th>\n      <th>nom_R</th>\n      <th>nom_D</th>\n      <th>nom_I</th>\n      <th>turnout_cvap</th>\n      <th>VOTER_POWER</th>\n      <th>GEOID</th>\n      <th>chamber</th>\n    </tr>\n  </thead>\n  <tbody>\n    <tr>\n      <th>0</th>\n      <td>CT</td>\n      <td>CT-HD-1</td>\n      <td>D</td>\n      <td>D</td>\n      <td>Safe</td>\n      <td>FALSE</td>\n      <td>FALSE</td>\n      <td>FALSE</td>\n      <td>8256</td>\n      <td>-7.480000e-07</td>\n      <td>9001</td>\n      <td>HD</td>\n    </tr>\n    <tr>\n      <th>1</th>\n      <td>CT</td>\n      <td>CT-HD-2</td>\n      <td>D</td>\n      <td>D</td>\n      <td>Lean</td>\n      <td>FALSE</td>\n      <td>FALSE</td>\n      <td>FALSE</td>\n      <td>9538</td>\n      <td>-2.770000e-06</td>\n      <td>9002</td>\n      <td>HD</td>\n    </tr>\n    <tr>\n      <th>2</th>\n      <td>CT</td>\n      <td>CT-HD-3</td>\n      <td>D</td>\n      <td>D</td>\n      <td>Safe</td>\n      <td>FALSE</td>\n      <td>FALSE</td>\n      <td>FALSE</td>\n      <td>7240</td>\n      <td>-8.530000e-07</td>\n      <td>9003</td>\n      <td>HD</td>\n    </tr>\n    <tr>\n      <th>3</th>\n      <td>CT</td>\n      <td>CT-HD-4</td>\n      <td>D</td>\n      <td>D</td>\n      <td>Safe</td>\n      <td>FALSE</td>\n      <td>FALSE</td>\n      <td>FALSE</td>\n      <td>8519</td>\n      <td>-7.250000e-07</td>\n      <td>9004</td>\n      <td>HD</td>\n    </tr>\n    <tr>\n      <th>4</th>\n      <td>CT</td>\n      <td>CT-HD-5</td>\n      <td>D</td>\n      <td>D</td>\n      <td>Safe</td>\n      <td>FALSE</td>\n      <td>FALSE</td>\n      <td>FALSE</td>\n      <td>8851</td>\n      <td>-6.980000e-07</td>\n      <td>9005</td>\n      <td>HD</td>\n    </tr>\n  </tbody>\n</table>\n</div>"
     },
     "metadata": {},
     "execution_count": 62
    }
   ],
   "source": [
    "df.head()"
   ]
  },
  {
   "cell_type": "code",
   "execution_count": 63,
   "metadata": {},
   "outputs": [
    {
     "output_type": "execute_result",
     "data": {
      "text/plain": "    state  district incumbent favored confidence             nom_R  \\\n0      CT   CT-HD-1         D       D       Safe             FALSE   \n1      CT   CT-HD-2         D       D       Lean             FALSE   \n2      CT   CT-HD-3         D       D       Safe             FALSE   \n3      CT   CT-HD-4         D       D       Safe             FALSE   \n4      CT   CT-HD-5         D       D       Safe             FALSE   \n..    ...       ...       ...     ...        ...               ...   \n950    NV   NV-SD-6         D       D       Lean      April Becker   \n951    NV  NV-SD-11         D       D       Safe     Joshua Dowden   \n952    NV  NV-SD-15         R       R       Lean  Heidi S. Gansert   \n953    NV  NV-SD-18         R       R     Likely     Scott Hammond   \n954    NV  NV-SD-19     FALSE       R       Safe   Pete Goicoechea   \n\n                      nom_D            nom_I  turnout_cvap   VOTER_POWER  \\\n0                     FALSE            FALSE          8256 -7.480000e-07   \n1                     FALSE            FALSE          9538 -2.770000e-06   \n2                     FALSE            FALSE          7240 -8.530000e-07   \n3                     FALSE            FALSE          8519 -7.250000e-07   \n4                     FALSE            FALSE          8851 -6.980000e-07   \n..                      ...              ...           ...           ...   \n950       Nicole Cannizzaro            FALSE         48662 -1.660000e-06   \n951           Dallas Harris            FALSE         45728 -1.420000e-06   \n952  Wendy Jauregui-Jackins    Catana Barnes         48583 -2.150000e-07   \n953                     TBA            FALSE         52294 -8.620000e-08   \n954                   FALSE  Tiffany Seeback         51481 -2.230000e-08   \n\n     GEOID chamber  \n0     9001      HD  \n1     9002      HD  \n2     9003      HD  \n3     9004      HD  \n4     9005      HD  \n..     ...     ...  \n950  32006      SD  \n951  32011      SD  \n952  32015      SD  \n953  32018      SD  \n954  32019      SD  \n\n[955 rows x 12 columns]",
      "text/html": "<div>\n<style scoped>\n    .dataframe tbody tr th:only-of-type {\n        vertical-align: middle;\n    }\n\n    .dataframe tbody tr th {\n        vertical-align: top;\n    }\n\n    .dataframe thead th {\n        text-align: right;\n    }\n</style>\n<table border=\"1\" class=\"dataframe\">\n  <thead>\n    <tr style=\"text-align: right;\">\n      <th></th>\n      <th>state</th>\n      <th>district</th>\n      <th>incumbent</th>\n      <th>favored</th>\n      <th>confidence</th>\n      <th>nom_R</th>\n      <th>nom_D</th>\n      <th>nom_I</th>\n      <th>turnout_cvap</th>\n      <th>VOTER_POWER</th>\n      <th>GEOID</th>\n      <th>chamber</th>\n    </tr>\n  </thead>\n  <tbody>\n    <tr>\n      <th>0</th>\n      <td>CT</td>\n      <td>CT-HD-1</td>\n      <td>D</td>\n      <td>D</td>\n      <td>Safe</td>\n      <td>FALSE</td>\n      <td>FALSE</td>\n      <td>FALSE</td>\n      <td>8256</td>\n      <td>-7.480000e-07</td>\n      <td>9001</td>\n      <td>HD</td>\n    </tr>\n    <tr>\n      <th>1</th>\n      <td>CT</td>\n      <td>CT-HD-2</td>\n      <td>D</td>\n      <td>D</td>\n      <td>Lean</td>\n      <td>FALSE</td>\n      <td>FALSE</td>\n      <td>FALSE</td>\n      <td>9538</td>\n      <td>-2.770000e-06</td>\n      <td>9002</td>\n      <td>HD</td>\n    </tr>\n    <tr>\n      <th>2</th>\n      <td>CT</td>\n      <td>CT-HD-3</td>\n      <td>D</td>\n      <td>D</td>\n      <td>Safe</td>\n      <td>FALSE</td>\n      <td>FALSE</td>\n      <td>FALSE</td>\n      <td>7240</td>\n      <td>-8.530000e-07</td>\n      <td>9003</td>\n      <td>HD</td>\n    </tr>\n    <tr>\n      <th>3</th>\n      <td>CT</td>\n      <td>CT-HD-4</td>\n      <td>D</td>\n      <td>D</td>\n      <td>Safe</td>\n      <td>FALSE</td>\n      <td>FALSE</td>\n      <td>FALSE</td>\n      <td>8519</td>\n      <td>-7.250000e-07</td>\n      <td>9004</td>\n      <td>HD</td>\n    </tr>\n    <tr>\n      <th>4</th>\n      <td>CT</td>\n      <td>CT-HD-5</td>\n      <td>D</td>\n      <td>D</td>\n      <td>Safe</td>\n      <td>FALSE</td>\n      <td>FALSE</td>\n      <td>FALSE</td>\n      <td>8851</td>\n      <td>-6.980000e-07</td>\n      <td>9005</td>\n      <td>HD</td>\n    </tr>\n    <tr>\n      <th>...</th>\n      <td>...</td>\n      <td>...</td>\n      <td>...</td>\n      <td>...</td>\n      <td>...</td>\n      <td>...</td>\n      <td>...</td>\n      <td>...</td>\n      <td>...</td>\n      <td>...</td>\n      <td>...</td>\n      <td>...</td>\n    </tr>\n    <tr>\n      <th>950</th>\n      <td>NV</td>\n      <td>NV-SD-6</td>\n      <td>D</td>\n      <td>D</td>\n      <td>Lean</td>\n      <td>April Becker</td>\n      <td>Nicole Cannizzaro</td>\n      <td>FALSE</td>\n      <td>48662</td>\n      <td>-1.660000e-06</td>\n      <td>32006</td>\n      <td>SD</td>\n    </tr>\n    <tr>\n      <th>951</th>\n      <td>NV</td>\n      <td>NV-SD-11</td>\n      <td>D</td>\n      <td>D</td>\n      <td>Safe</td>\n      <td>Joshua Dowden</td>\n      <td>Dallas Harris</td>\n      <td>FALSE</td>\n      <td>45728</td>\n      <td>-1.420000e-06</td>\n      <td>32011</td>\n      <td>SD</td>\n    </tr>\n    <tr>\n      <th>952</th>\n      <td>NV</td>\n      <td>NV-SD-15</td>\n      <td>R</td>\n      <td>R</td>\n      <td>Lean</td>\n      <td>Heidi S. Gansert</td>\n      <td>Wendy Jauregui-Jackins</td>\n      <td>Catana Barnes</td>\n      <td>48583</td>\n      <td>-2.150000e-07</td>\n      <td>32015</td>\n      <td>SD</td>\n    </tr>\n    <tr>\n      <th>953</th>\n      <td>NV</td>\n      <td>NV-SD-18</td>\n      <td>R</td>\n      <td>R</td>\n      <td>Likely</td>\n      <td>Scott Hammond</td>\n      <td>TBA</td>\n      <td>FALSE</td>\n      <td>52294</td>\n      <td>-8.620000e-08</td>\n      <td>32018</td>\n      <td>SD</td>\n    </tr>\n    <tr>\n      <th>954</th>\n      <td>NV</td>\n      <td>NV-SD-19</td>\n      <td>FALSE</td>\n      <td>R</td>\n      <td>Safe</td>\n      <td>Pete Goicoechea</td>\n      <td>FALSE</td>\n      <td>Tiffany Seeback</td>\n      <td>51481</td>\n      <td>-2.230000e-08</td>\n      <td>32019</td>\n      <td>SD</td>\n    </tr>\n  </tbody>\n</table>\n<p>955 rows × 12 columns</p>\n</div>"
     },
     "metadata": {},
     "execution_count": 63
    }
   ],
   "source": [
    "df"
   ]
  },
  {
   "cell_type": "code",
   "execution_count": 66,
   "metadata": {},
   "outputs": [],
   "source": [
    "df.to_csv('./processed_data.csv', index=False, float_format='%.16f')"
   ]
  },
  {
   "cell_type": "code",
   "execution_count": null,
   "metadata": {},
   "outputs": [],
   "source": []
  },
  {
   "cell_type": "code",
   "execution_count": 70,
   "metadata": {},
   "outputs": [],
   "source": [
    "    # read in moneyball data\n",
    "    df = pd.read_csv('./processed_data.csv')\n",
    "\n",
    "    # segment to upper and lower chamber\n",
    "    upper_df = df[df['chamber'] == 'SD']\n",
    "    lower_df = df[df['chamber'] == 'HD']"
   ]
  },
  {
   "cell_type": "code",
   "execution_count": 72,
   "metadata": {},
   "outputs": [
    {
     "output_type": "execute_result",
     "data": {
      "text/plain": "    state  district incumbent favored confidence        nom_R  \\\n0      CT   CT-HD-1         D       D       Safe        FALSE   \n1      CT   CT-HD-2         D       D       Lean        FALSE   \n2      CT   CT-HD-3         D       D       Safe        FALSE   \n3      CT   CT-HD-4         D       D       Safe        FALSE   \n4      CT   CT-HD-5         D       D       Safe        FALSE   \n..    ...       ...       ...     ...        ...          ...   \n943    NV  NV-HD-37         D       D       Tilt          TBA   \n944    NV  NV-HD-39         R       R       Safe  Jim Wheeler   \n945    NV  NV-HD-40     FALSE       R       Safe          TBA   \n946    NV  NV-HD-41         D       D     Likely  Erika Smith   \n947    NV  NV-HD-42     FALSE       D       Safe        FALSE   \n\n                nom_D                     nom_I  turnout_cvap   VOTER_POWER  \\\n0               FALSE                     FALSE          8256 -7.480000e-07   \n1               FALSE                     FALSE          9538 -2.770000e-06   \n2               FALSE                     FALSE          7240 -8.530000e-07   \n3               FALSE                     FALSE          8519 -7.250000e-07   \n4               FALSE                     FALSE          8851 -6.980000e-07   \n..                ...                       ...           ...           ...   \n943       Shea Backus                     FALSE         26156 -2.710000e-07   \n944     Deborah Chang                Dave Jones         25240 -4.960000e-09   \n945               TBA                     FALSE         23507 -5.330000e-09   \n946   Sandra Jauregui          Victoria DaCosta         27643 -4.330000e-07   \n947  Alexander Assefa  Liz Delsignore, SM Zaidi         21399 -2.860000e-07   \n\n     GEOID chamber  \n0     9001      HD  \n1     9002      HD  \n2     9003      HD  \n3     9004      HD  \n4     9005      HD  \n..     ...     ...  \n943  32037      HD  \n944  32039      HD  \n945  32040      HD  \n946  32041      HD  \n947  32042      HD  \n\n[717 rows x 12 columns]",
      "text/html": "<div>\n<style scoped>\n    .dataframe tbody tr th:only-of-type {\n        vertical-align: middle;\n    }\n\n    .dataframe tbody tr th {\n        vertical-align: top;\n    }\n\n    .dataframe thead th {\n        text-align: right;\n    }\n</style>\n<table border=\"1\" class=\"dataframe\">\n  <thead>\n    <tr style=\"text-align: right;\">\n      <th></th>\n      <th>state</th>\n      <th>district</th>\n      <th>incumbent</th>\n      <th>favored</th>\n      <th>confidence</th>\n      <th>nom_R</th>\n      <th>nom_D</th>\n      <th>nom_I</th>\n      <th>turnout_cvap</th>\n      <th>VOTER_POWER</th>\n      <th>GEOID</th>\n      <th>chamber</th>\n    </tr>\n  </thead>\n  <tbody>\n    <tr>\n      <th>0</th>\n      <td>CT</td>\n      <td>CT-HD-1</td>\n      <td>D</td>\n      <td>D</td>\n      <td>Safe</td>\n      <td>FALSE</td>\n      <td>FALSE</td>\n      <td>FALSE</td>\n      <td>8256</td>\n      <td>-7.480000e-07</td>\n      <td>9001</td>\n      <td>HD</td>\n    </tr>\n    <tr>\n      <th>1</th>\n      <td>CT</td>\n      <td>CT-HD-2</td>\n      <td>D</td>\n      <td>D</td>\n      <td>Lean</td>\n      <td>FALSE</td>\n      <td>FALSE</td>\n      <td>FALSE</td>\n      <td>9538</td>\n      <td>-2.770000e-06</td>\n      <td>9002</td>\n      <td>HD</td>\n    </tr>\n    <tr>\n      <th>2</th>\n      <td>CT</td>\n      <td>CT-HD-3</td>\n      <td>D</td>\n      <td>D</td>\n      <td>Safe</td>\n      <td>FALSE</td>\n      <td>FALSE</td>\n      <td>FALSE</td>\n      <td>7240</td>\n      <td>-8.530000e-07</td>\n      <td>9003</td>\n      <td>HD</td>\n    </tr>\n    <tr>\n      <th>3</th>\n      <td>CT</td>\n      <td>CT-HD-4</td>\n      <td>D</td>\n      <td>D</td>\n      <td>Safe</td>\n      <td>FALSE</td>\n      <td>FALSE</td>\n      <td>FALSE</td>\n      <td>8519</td>\n      <td>-7.250000e-07</td>\n      <td>9004</td>\n      <td>HD</td>\n    </tr>\n    <tr>\n      <th>4</th>\n      <td>CT</td>\n      <td>CT-HD-5</td>\n      <td>D</td>\n      <td>D</td>\n      <td>Safe</td>\n      <td>FALSE</td>\n      <td>FALSE</td>\n      <td>FALSE</td>\n      <td>8851</td>\n      <td>-6.980000e-07</td>\n      <td>9005</td>\n      <td>HD</td>\n    </tr>\n    <tr>\n      <th>...</th>\n      <td>...</td>\n      <td>...</td>\n      <td>...</td>\n      <td>...</td>\n      <td>...</td>\n      <td>...</td>\n      <td>...</td>\n      <td>...</td>\n      <td>...</td>\n      <td>...</td>\n      <td>...</td>\n      <td>...</td>\n    </tr>\n    <tr>\n      <th>943</th>\n      <td>NV</td>\n      <td>NV-HD-37</td>\n      <td>D</td>\n      <td>D</td>\n      <td>Tilt</td>\n      <td>TBA</td>\n      <td>Shea Backus</td>\n      <td>FALSE</td>\n      <td>26156</td>\n      <td>-2.710000e-07</td>\n      <td>32037</td>\n      <td>HD</td>\n    </tr>\n    <tr>\n      <th>944</th>\n      <td>NV</td>\n      <td>NV-HD-39</td>\n      <td>R</td>\n      <td>R</td>\n      <td>Safe</td>\n      <td>Jim Wheeler</td>\n      <td>Deborah Chang</td>\n      <td>Dave Jones</td>\n      <td>25240</td>\n      <td>-4.960000e-09</td>\n      <td>32039</td>\n      <td>HD</td>\n    </tr>\n    <tr>\n      <th>945</th>\n      <td>NV</td>\n      <td>NV-HD-40</td>\n      <td>FALSE</td>\n      <td>R</td>\n      <td>Safe</td>\n      <td>TBA</td>\n      <td>TBA</td>\n      <td>FALSE</td>\n      <td>23507</td>\n      <td>-5.330000e-09</td>\n      <td>32040</td>\n      <td>HD</td>\n    </tr>\n    <tr>\n      <th>946</th>\n      <td>NV</td>\n      <td>NV-HD-41</td>\n      <td>D</td>\n      <td>D</td>\n      <td>Likely</td>\n      <td>Erika Smith</td>\n      <td>Sandra Jauregui</td>\n      <td>Victoria DaCosta</td>\n      <td>27643</td>\n      <td>-4.330000e-07</td>\n      <td>32041</td>\n      <td>HD</td>\n    </tr>\n    <tr>\n      <th>947</th>\n      <td>NV</td>\n      <td>NV-HD-42</td>\n      <td>FALSE</td>\n      <td>D</td>\n      <td>Safe</td>\n      <td>FALSE</td>\n      <td>Alexander Assefa</td>\n      <td>Liz Delsignore, SM Zaidi</td>\n      <td>21399</td>\n      <td>-2.860000e-07</td>\n      <td>32042</td>\n      <td>HD</td>\n    </tr>\n  </tbody>\n</table>\n<p>717 rows × 12 columns</p>\n</div>"
     },
     "metadata": {},
     "execution_count": 72
    }
   ],
   "source": []
  },
  {
   "cell_type": "code",
   "execution_count": null,
   "metadata": {},
   "outputs": [],
   "source": []
  },
  {
   "cell_type": "code",
   "execution_count": null,
   "metadata": {},
   "outputs": [],
   "source": []
  },
  {
   "cell_type": "code",
   "execution_count": 73,
   "metadata": {},
   "outputs": [
    {
     "output_type": "execute_result",
     "data": {
      "text/plain": "[('DeletionFlag', 'C', 1, 0),\n ['STATEFP', 'C', 2, 0],\n ['SLDUST', 'C', 3, 0],\n ['AFFGEOID', 'C', 14, 0],\n ['GEOID', 'C', 5, 0],\n ['NAME', 'C', 100, 0],\n ['LSAD', 'C', 2, 0],\n ['LSY', 'C', 4, 0],\n ['ALAND', 'N', 14, 0],\n ['AWATER', 'N', 14, 0]]"
     },
     "metadata": {},
     "execution_count": 73
    }
   ],
   "source": [
    "r = shapefile.Reader('./raw/UPPER_cb_2019_us_sldu_500k/cb_2019_us_sldu_500k.shp')\n",
    "\n",
    "r.fields\n"
   ]
  },
  {
   "cell_type": "code",
   "execution_count": null,
   "metadata": {},
   "outputs": [],
   "source": []
  }
 ]
}