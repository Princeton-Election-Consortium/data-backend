{
 "metadata": {
  "language_info": {
   "codemirror_mode": {
    "name": "ipython",
    "version": 3
   },
   "file_extension": ".py",
   "mimetype": "text/x-python",
   "name": "python",
   "nbconvert_exporter": "python",
   "pygments_lexer": "ipython3",
   "version": 3
  },
  "orig_nbformat": 2,
  "kernelspec": {
   "name": "python_defaultSpec_1598396886223",
   "display_name": "Python 3.7.3 64-bit"
  }
 },
 "nbformat": 4,
 "nbformat_minor": 2,
 "cells": [
  {
   "cell_type": "code",
   "execution_count": 8,
   "metadata": {},
   "outputs": [],
   "source": [
    "import pandas as pd \n",
    "import csv\n",
    "from pathlib import Path\n",
    "\n",
    "from collections import OrderedDict\n",
    "\n",
    "from bs4 import BeautifulSoup\n",
    "from selenium import webdriver\n",
    "from selenium.webdriver.common.by import By\n",
    "from selenium.webdriver.support.ui import WebDriverWait\n",
    "from selenium.webdriver.support import expected_conditions as EC\n",
    "from selenium.common.exceptions import TimeoutException\n",
    "import time\n",
    "\n",
    "from num2words import num2words\n",
    "\n",
    "from collections import OrderedDict"
   ]
  },
  {
   "cell_type": "code",
   "execution_count": 9,
   "metadata": {},
   "outputs": [],
   "source": [
    "# Util method to come between state formats \n",
    "# returnType must be either 'full' 'two_digit' or 'FIPS'\n",
    "def get_state_code(input, returnType = 'FIPS'):\n",
    "    if (returnType != 'full' and returnType != 'two_digit' and returnType != 'FIPS'):\n",
    "        raise ValueError(\"returnType must be either 'full' 'two_digit' or 'FIPS'\")\n",
    "\n",
    "    code_hash = {\n",
    "        'AL': {'full': 'Alabama', 'two_digit': 'AL', 'FIPS': 1},\n",
    "        'AK': {'full': 'Alaska', 'two_digit': 'AK', 'FIPS': 2},\n",
    "        'AZ': {'full': 'Arizona', 'two_digit': 'AZ', 'FIPS': 4},\n",
    "        'AR': {'full': 'Arkansas', 'two_digit': 'AR', 'FIPS': 5},\n",
    "        'CA': {'full': 'California', 'two_digit': 'CA', 'FIPS': 6},\n",
    "        'CO': {'full': 'Colorado', 'two_digit': 'CO', 'FIPS': 8},\n",
    "        'CT': {'full': 'Connecticut', 'two_digit': 'CT', 'FIPS': 9},\n",
    "        'DE': {'full': 'Delaware', 'two_digit': 'DE', 'FIPS': 10},\n",
    "        'DC': {'full': 'District of Columbia', 'two_digit': 'DC', 'FIPS': 11},\n",
    "        'FL': {'full': 'Florida', 'two_digit': 'FL', 'FIPS': 12},\n",
    "        'GA': {'full': 'Georgia', 'two_digit': 'GA', 'FIPS': 13},\n",
    "        'HI': {'full': 'Hawaii', 'two_digit': 'HI', 'FIPS': 15},\n",
    "        'ID': {'full': 'Idaho', 'two_digit': 'ID', 'FIPS': 16},\n",
    "        'IL': {'full': 'Illinois', 'two_digit': 'IL', 'FIPS': 17},\n",
    "        'IN': {'full': 'Indiana', 'two_digit': 'IN', 'FIPS': 18},\n",
    "        'IA': {'full': 'Iowa', 'two_digit': 'IA', 'FIPS': 19},\n",
    "        'KS': {'full': 'Kansas', 'two_digit': 'KS', 'FIPS': 20},\n",
    "        'KY': {'full': 'Kentucky', 'two_digit': 'KY', 'FIPS': 21},\n",
    "        'LA': {'full': 'Louisiana', 'two_digit': 'LA', 'FIPS': 22},\n",
    "        'ME': {'full': 'Maine', 'two_digit': 'ME', 'FIPS': 23},\n",
    "        'MD': {'full': 'Maryland', 'two_digit': 'MD', 'FIPS': 24},\n",
    "        'MA': {'full': 'Massachusetts', 'two_digit': 'MA', 'FIPS': 25},\n",
    "        'MI': {'full': 'Michigan', 'two_digit': 'MI', 'FIPS': 26},\n",
    "        'MN': {'full': 'Minnesota', 'two_digit': 'MN', 'FIPS': 27},\n",
    "        'MS': {'full': 'Mississippi', 'two_digit': 'MS', 'FIPS': 28},\n",
    "        'MO': {'full': 'Missouri', 'two_digit': 'MO', 'FIPS': 29},\n",
    "        'MT': {'full': 'Montana', 'two_digit': 'MT', 'FIPS': 30},\n",
    "        'NE': {'full': 'Nebraska', 'two_digit': 'NE', 'FIPS': 31},\n",
    "        'NV': {'full': 'Nevada', 'two_digit': 'NV', 'FIPS': 32},\n",
    "        'NH': {'full': 'New Hampshire', 'two_digit': 'NH', 'FIPS': 33},\n",
    "        'NJ': {'full': 'New Jersey', 'two_digit': 'NJ', 'FIPS': 34},\n",
    "        'NM': {'full': 'New Mexico', 'two_digit': 'NM', 'FIPS': 35},\n",
    "        'NY': {'full': 'New York', 'two_digit': 'NY', 'FIPS': 36},\n",
    "        'NC': {'full': 'North Carolina', 'two_digit': 'NC', 'FIPS': 37},\n",
    "        'ND': {'full': 'North Dakota', 'two_digit': 'ND', 'FIPS': 38},\n",
    "        'OH': {'full': 'Ohio', 'two_digit': 'OH', 'FIPS': 39},\n",
    "        'OK': {'full': 'Oklahoma', 'two_digit': 'OK', 'FIPS': 40},\n",
    "        'OR': {'full': 'Oregon', 'two_digit': 'OR', 'FIPS': 41},\n",
    "        'PA': {'full': 'Pennsylvania', 'two_digit': 'PA', 'FIPS': 42},\n",
    "        'RI': {'full': 'Rhode Island', 'two_digit': 'RI', 'FIPS': 44},\n",
    "        'SC': {'full': 'South Carolina', 'two_digit': 'SC', 'FIPS': 45},\n",
    "        'SD': {'full': 'South Dakota', 'two_digit': 'SD', 'FIPS': 46},\n",
    "        'TN': {'full': 'Tennessee', 'two_digit': 'TN', 'FIPS': 47},\n",
    "        'TX': {'full': 'Texas', 'two_digit': 'TX', 'FIPS': 48},\n",
    "        'UT': {'full': 'Utah', 'two_digit': 'UT', 'FIPS': 49},\n",
    "        'VT': {'full': 'Vermont', 'two_digit': 'VT', 'FIPS': 50},\n",
    "        'VA': {'full': 'Virginia', 'two_digit': 'VA', 'FIPS': 51},\n",
    "        'WA': {'full': 'Washington', 'two_digit': 'WA', 'FIPS': 53},\n",
    "        'WV': {'full': 'West Virginia', 'two_digit': 'WV', 'FIPS': 54},\n",
    "        'WI': {'full': 'Wisconsin', 'two_digit': 'WI', 'FIPS': 55},\n",
    "        'WY': {'full': 'Wyoming', 'two_digit': 'WY', 'FIPS': 56},\n",
    "        'PR': {'full': 'Puerto Rico', 'two_digit': 'PR', 'FIPS': 72}\n",
    "    }\n",
    "    for row in code_hash:\n",
    "        for value in code_hash[row]:\n",
    "            if code_hash[row][value] == input:\n",
    "                return code_hash[row][returnType]\n",
    "    return None"
   ]
  },
  {
   "cell_type": "code",
   "execution_count": 103,
   "metadata": {},
   "outputs": [],
   "source": [
    "def get_ballotpedia_page(district):\n",
    "    ballotpedia = 'https://ballotpedia.org/'\n",
    "    ballotpedia += get_state_code(district[0:2], returnType='full') + '_'\n",
    "    district_name = district[6:]\n",
    "    # deal with annoying MA districts *** still not working for all --> just dont scrape MA\n",
    "    district_name = district[6:]\n",
    "    if len(district_name) > 3:\n",
    "        i = 0\n",
    "        while district_name[i] in ['0','1','2','3','4','5','6','7','8','9']:\n",
    "            i += 1\n",
    "        if i > 0:\n",
    "            num_str = district_name[0:i]\n",
    "            # use to='ordinal' parameter if '-nd' '-rd' etc wanted automatically\n",
    "            num_words = num2words(num_str, to='ordinal').capitalize()\n",
    "            name_str = district_name[i:].replace('th ', ' ').replace('st ', ' ').replace('nd ', ' ').replace('rd ', ' ')\n",
    "            dist_str = (num_words + name_str).replace(' ', '_')\n",
    "            ballotpedia += 'House_of_Representatives_' if (district[3:5] == 'HD') else 'State_Senate_'\n",
    "            ballotpedia += dist_str + '_District'\n",
    "            return(ballotpedia)\n",
    "    \n",
    "    # all non MA districts\n",
    "    if district[0:2] == 'WI':\n",
    "        ballotpedia += 'State_Assembly_District_' if (district[3:5] == 'HD') else 'State_Senate_District_'\n",
    "    else:\n",
    "        ballotpedia += 'House_of_Representatives_District_' if (district[3:5] == 'HD') else 'State_Senate_District_'\n",
    "    district_name = district[6:]\n",
    "    while (district_name[0] == '0'):\n",
    "        district_name = district_name[1:]\n",
    "    ballotpedia += district_name.replace(' ', '_').replace('&','%26')\n",
    "\n",
    "    return ballotpedia\n"
   ]
  },
  {
   "cell_type": "code",
   "execution_count": 141,
   "metadata": {
    "tags": []
   },
   "outputs": [
    {
     "output_type": "execute_result",
     "data": {
      "text/plain": "'https://ballotpedia.org/Florida_House_of_Representatives_District_20'"
     },
     "metadata": {},
     "execution_count": 141
    }
   ],
   "source": [
    "# th st nd rd \n",
    "get_ballotpedia_page('FL-HD-20')"
   ]
  },
  {
   "cell_type": "code",
   "execution_count": 56,
   "metadata": {},
   "outputs": [
    {
     "output_type": "execute_result",
     "data": {
      "text/plain": "'https://ballotpedia.org/Minnesota_State_Senate_District_5'"
     },
     "metadata": {},
     "execution_count": 56
    }
   ],
   "source": [
    "get_ballotpedia_page(\"MN-SD-05\")"
   ]
  },
  {
   "cell_type": "code",
   "execution_count": null,
   "metadata": {},
   "outputs": [],
   "source": []
  },
  {
   "cell_type": "code",
   "execution_count": 12,
   "metadata": {},
   "outputs": [],
   "source": [
    "moneyball_dir = Path.cwd() "
   ]
  },
  {
   "cell_type": "code",
   "execution_count": 13,
   "metadata": {},
   "outputs": [],
   "source": [
    "# setup dataframe to store data as its scraped\n",
    "df = pd.read_csv(moneyball_dir / 'processed_data_8_11.csv')\n",
    "df = df[['state', 'district', 'rep_nominee', 'dem_nominee', 'incumbent']]\n",
    "df = pd.concat([df, pd.DataFrame(columns=['r_cand', 'd_cand', 'y_cand', 'y_cand_party', 'r_cand_b_link', 'd_cand_b_link', 'y_cand_b_link', 'r_cand_p_link', 'd_cand_p_link', 'y_cand_p_link' ])])"
   ]
  },
  {
   "cell_type": "code",
   "execution_count": 61,
   "metadata": {},
   "outputs": [
    {
     "output_type": "execute_result",
     "data": {
      "text/plain": "  state   district        rep_nominee          dem_nominee incumbent r_cand  \\\n0    TX  TX-HD-112  Angie Chen Button      Brandy Chambers         R    NaN   \n1    TX   TX-HD-26       Jacey Jetton  L. Sarah DeMerchant      Open    NaN   \n2    TX   TX-HD-66       Matt Shaheen        Sharon Hirsch         R    NaN   \n3    TX   TX-HD-67         Jeff Leach      Lorenzo Sanchez         R    NaN   \n4    TX   TX-HD-96         David Cook            Joe Drago      Open    NaN   \n\n  d_cand y_cand y_cand_party r_cand_b_link d_cand_b_link y_cand_b_link  \\\n0    NaN    NaN          NaN           NaN           NaN           NaN   \n1    NaN    NaN          NaN           NaN           NaN           NaN   \n2    NaN    NaN          NaN           NaN           NaN           NaN   \n3    NaN    NaN          NaN           NaN           NaN           NaN   \n4    NaN    NaN          NaN           NaN           NaN           NaN   \n\n  r_cand_p_link d_cand_p_link y_cand_p_link  \n0           NaN           NaN           NaN  \n1           NaN           NaN           NaN  \n2           NaN           NaN           NaN  \n3           NaN           NaN           NaN  \n4           NaN           NaN           NaN  ",
      "text/html": "<div>\n<style scoped>\n    .dataframe tbody tr th:only-of-type {\n        vertical-align: middle;\n    }\n\n    .dataframe tbody tr th {\n        vertical-align: top;\n    }\n\n    .dataframe thead th {\n        text-align: right;\n    }\n</style>\n<table border=\"1\" class=\"dataframe\">\n  <thead>\n    <tr style=\"text-align: right;\">\n      <th></th>\n      <th>state</th>\n      <th>district</th>\n      <th>rep_nominee</th>\n      <th>dem_nominee</th>\n      <th>incumbent</th>\n      <th>r_cand</th>\n      <th>d_cand</th>\n      <th>y_cand</th>\n      <th>y_cand_party</th>\n      <th>r_cand_b_link</th>\n      <th>d_cand_b_link</th>\n      <th>y_cand_b_link</th>\n      <th>r_cand_p_link</th>\n      <th>d_cand_p_link</th>\n      <th>y_cand_p_link</th>\n    </tr>\n  </thead>\n  <tbody>\n    <tr>\n      <th>0</th>\n      <td>TX</td>\n      <td>TX-HD-112</td>\n      <td>Angie Chen Button</td>\n      <td>Brandy Chambers</td>\n      <td>R</td>\n      <td>NaN</td>\n      <td>NaN</td>\n      <td>NaN</td>\n      <td>NaN</td>\n      <td>NaN</td>\n      <td>NaN</td>\n      <td>NaN</td>\n      <td>NaN</td>\n      <td>NaN</td>\n      <td>NaN</td>\n    </tr>\n    <tr>\n      <th>1</th>\n      <td>TX</td>\n      <td>TX-HD-26</td>\n      <td>Jacey Jetton</td>\n      <td>L. Sarah DeMerchant</td>\n      <td>Open</td>\n      <td>NaN</td>\n      <td>NaN</td>\n      <td>NaN</td>\n      <td>NaN</td>\n      <td>NaN</td>\n      <td>NaN</td>\n      <td>NaN</td>\n      <td>NaN</td>\n      <td>NaN</td>\n      <td>NaN</td>\n    </tr>\n    <tr>\n      <th>2</th>\n      <td>TX</td>\n      <td>TX-HD-66</td>\n      <td>Matt Shaheen</td>\n      <td>Sharon Hirsch</td>\n      <td>R</td>\n      <td>NaN</td>\n      <td>NaN</td>\n      <td>NaN</td>\n      <td>NaN</td>\n      <td>NaN</td>\n      <td>NaN</td>\n      <td>NaN</td>\n      <td>NaN</td>\n      <td>NaN</td>\n      <td>NaN</td>\n    </tr>\n    <tr>\n      <th>3</th>\n      <td>TX</td>\n      <td>TX-HD-67</td>\n      <td>Jeff Leach</td>\n      <td>Lorenzo Sanchez</td>\n      <td>R</td>\n      <td>NaN</td>\n      <td>NaN</td>\n      <td>NaN</td>\n      <td>NaN</td>\n      <td>NaN</td>\n      <td>NaN</td>\n      <td>NaN</td>\n      <td>NaN</td>\n      <td>NaN</td>\n      <td>NaN</td>\n    </tr>\n    <tr>\n      <th>4</th>\n      <td>TX</td>\n      <td>TX-HD-96</td>\n      <td>David Cook</td>\n      <td>Joe Drago</td>\n      <td>Open</td>\n      <td>NaN</td>\n      <td>NaN</td>\n      <td>NaN</td>\n      <td>NaN</td>\n      <td>NaN</td>\n      <td>NaN</td>\n      <td>NaN</td>\n      <td>NaN</td>\n      <td>NaN</td>\n      <td>NaN</td>\n    </tr>\n  </tbody>\n</table>\n</div>"
     },
     "metadata": {},
     "execution_count": 61
    }
   ],
   "source": [
    "df.head()"
   ]
  },
  {
   "cell_type": "code",
   "execution_count": 142,
   "metadata": {
    "tags": [
     "outputPrepend"
    ]
   },
   "outputs": [
    {
     "output_type": "stream",
     "name": "stdout",
     "text": "me: Glen Casada Party: R Site: \nName: Elizabeth Madeira Party: D Site: \nName: Brad Fiscus Party: INDEPENDENT Site: \ndistrict: IL-HD-76\nName: Lance Yednock Party: D Site: \nName: Travis Breeden Party: R Site: \ndistrict: TN-HD-40\nName: Terri Lynn Weaver Party: R Site: \nName: Paddy Sizemore Party: INDEPENDENT Site: \ndistrict: UT-HD-11\nName: Kelly Miles Party: R Site: \nName: Jason Allen Party: D Site: \ndistrict: TN-HD-89\nName: Justin Lafferty Party: R Site: \nName: Greg Mills Party: INDEPENDENT Site: \ndistrict: TN-HD-64\nName: Scott Cepicky Party: R Site: \nName: James Campbell Party: D Site: \ndistrict: OR-HD-53\nName: Jack Zika Party: R Site: \nName: Emerson Levy Party: D Site: \ndistrict: TN-HD-38\nName: Kelly Keisling Party: R Site: \nName: Carol Veneá Abney Party: D Site: \ndistrict: TN-HD-25\nName: Cameron Sexton Party: R Site: \nName: Robyn Deck Party: D Site: \ndistrict: TN-HD-57\nName: Susan Lynn Party: R Site: \nName: Tom Sottek Party: INDEPENDENT Site: \ndistrict: GA-HD-124\nName: Henry Howard Party: D Site: \nName: Scott Cambers Party: INDEPENDENT Site: \ndistrict: TN-HD-26\nName: Robin Smith Party: R Site: \nName: Joan Farrell Party: D Site: \ndistrict: TN-HD-48\nName: Bryan Terry Party: R Site: \nName: Matt Ferry Party: D Site: \ndistrict: TN-HD-34\nName: Tim Rudd Party: R Site: \nName: Mary Vaughn Party: D Site: \ndistrict: GA-HD-92\nName: Doreen Carter Party: D Site: \nName: Raymond Davis Party: INDEPENDENT Site: \ndistrict: GA-HD-39\nName: Erica Thomas Party: D Site: \nName: Jim Hickey Party: R Site: \ndistrict: SC-SD-22\nName: Mia McLeod Party: D Site: \nName: Lee Blatt Party: R Site: \ndistrict: GA-HD-126\nName: Gloria Frazier Party: D Site: \ndistrict: GA-SD-48\nName: Michelle Au Party: D Site: \nName: Matt Reeves Party: R Site: \ndistrict: GA-HD-63\nName: Debra Bazemore Party: D Site: \nName: David Callahan Party: R Site: \ndistrict: GA-HD-93\nName: Dar'shun Kendrick Party: D Site: \nName: Hubert Owens Jr. Party: R Site: \ndistrict: OR-HD-25\nName: Bill Post Party: R Site: \nName: Ramiro Navarro Jr. Party: D Site: \ndistrict: NV-SD-19\nName: Peter Goicoechea Party: R Site: \nName: Tiffany Seeback Party: INDEPENDENT AMERICAN PARTY OF NEVADA Site: \ndistrict: GA-HD-55\nName: Marie Robinson Metze Party: D Site: \ndistrict: IN-HD-89\nName: Cindy Kirchhofer Party: R Site: \nName: Mitch Gore Party: D Site: \ndistrict: IN-HD-7\nName: Ross Deal Party: D Site: \nName: Jake Teshka Party: R Site: \ndistrict: OR-HD-59\nName: Daniel Bonham Party: R Site: \nName: Arlene Burns Party: D Site: \ndistrict: GA-HD-66\nName: Kimberly Alexander Party: D Site: \nName: Jason Jones Party: R Site: \ndistrict: SC-SD-36\nName: Kevin Johnson Party: D Site: \nName: Leon Winn Party: R Site: \ndistrict: UT-HD-49\nName: Robert Spendlove Party: R Site: \nName: Siamak Khadjenoury Party: D Site: \ndistrict: TN-HD-82\nName: Chris Hurt Party: R Site: \nName: Andrea Bond-Johnson Party: D Site: \ndistrict: TN-HD-30\nName: Esther Helton Party: R Site: \nName: Joseph Udeaja Party: D Site: \ndistrict: TN-HD-37\nName: Charlie Baum Party: R Site: \nName: Mariah Phillips Party: D Site: \ndistrict: UT-HD-47\nName: Steve Christiansen Party: R Site: \nName: Scott Bell Party: D Site: \ndistrict: NV-HD-40\ndistrict: KY-HD-46\nName: Alan Gentry Party: D Site: \nName: Bob DeVore Party: R Site: \ndistrict: OR-HD-56\nName: E. Werner Reschke Party: R Site: \nName: Faith Leith Party: D Site: \ndistrict: UT-HD-9\nName: Calvin Musselman Party: R Site: \nName: Steve Olsen Party: D Site: \ndistrict: UT-HD-38\nName: Eric Hutchings Party: R Site: \nName: Ashlee Matthews Party: D Site: \ndistrict: SC-SD-26\nName: Nikki Setzler Party: D Site: \nName: Chris Smith Party: R Site: \ndistrict: OR-HD-3\nName: Jerry Morgan Party: D Site: \nName: Lily Morgan Party: R Site: \ndistrict: AR-HD-96\nName: Jill Bryant Party: R Site: \ndistrict: AR-HD-59\nName: Jack Ladyman Party: R Site: \nName: Reginald Prunty Party: D Site: \ndistrict: AR-HD-88\nName: Clint Penzo Party: R Site: \nName: Hawley Woods Party: D Site: \ndistrict: SC-SD-39\nName: Vernon Stephens Party: D Site: \nName: Tom Connor Party: R Site: \ndistrict: AR-HD-28\nName: Tony Furman Party: R Site: \ndistrict: IN-HD-15\nName: Chris Chyung Party: D Site: \nName: Harold Slager Party: R Site: \ndistrict: UT-HD-33\nName: Craig Hall Party: R Site: \nName: Fatima Dirie Party: D Site: \ndistrict: AR-HD-15\nName: Ken Bragg Party: R Site: \nName: Wayne Willems Party: L Site: \ndistrict: AR-HD-87\nName: Robin Lundstrum Party: R Site: \nName: Michael Bennett-Spears Party: D Site: \ndistrict: AR-HD-67\nName: Stephen Meeks Party: R Site: \nName: Steve Wilson Party: D Site: \ndistrict: AR-HD-80\nName: Charlene Fite Party: R Site: \nName: Lou Sharp Party: D Site: \ndistrict: AR-HD-65\nName: Rick Beck Party: R Site: \nName: David Norman Party: D Site: \ndistrict: OR-HD-57\nName: Greg Smith Party: R Site: \nName: Roland Ruhe Party: D Site: \ndistrict: AR-HD-77\nName: Justin Boyd Party: R Site: \nName: Stephen Edwards Party: L Site: \ndistrict: AR-HD-74\nName: Jon S. Eubanks Party: R Site: \nName: June Anteski Party: D Site: \ndistrict: UT-HD-8\nName: Steve Waldrip Party: R Site: \nName: Oscar Mata Party: D Site: \ndistrict: AR-HD-82\nName: Gwen Faulkenberry Party: D Site: \nName: Mark Berry Party: R Site: \ndistrict: AR-HD-27\nName: Julie Mayberry Party: R Site: \ndistrict: AR-HD-76\nName: Cindy Crawford Party: R Site: \nName: Caleb Harwell Party: D Site: \ndistrict: AR-HD-53\nName: Shawn Only Party: D Site: \nName: Jon Milligan Party: R Site: \ndistrict: AR-HD-90\nName: Kelly Krout Party: D Site: \nName: Kendon Underwood Party: R Site: \ndistrict: OR-HD-60\nName: Mark Owens Party: R Site: \nName: Beth Spell Party: D Site: \ndistrict: AR-HD-22\nName: Richard McGrew Party: R Site: \nName: Judy Bowers Party: L Site: \ndistrict: AR-HD-44\nName: Cameron Cooper Party: R Site: \nName: Rodney Govens Party: D Site: \ndistrict: AR-HD-100\nName: Nelda Speaks Party: R Site: \nName: Kevin Vornheder Party: L Site: \ndistrict: IL-HD-49\nName: Maura Hirschauer Party: D Site: \nName: Laura Curtis Party: R Site: \ndistrict: AR-HD-40\nName: David Ray Party: R Site: \ndistrict: AR-HD-91\nName: Nick Jones Party: D Site: \nName: Delia Haak Party: R Site: \ndistrict: AR-HD-93\nName: Jim Dotson Party: R Site: \nName: Daisy Bonilla Party: D Site: \ndistrict: KY-HD-65\nName: Charles Wheatley Party: D Site: \nName: J. Davis Party: R Site: \ndistrict: IL-HD-48\nName: Terra Costa Howard Party: D Site: \nName: Peter Breen Party: R Site: \ndistrict: GA-SD-40\nName: Sally Harrell Party: D Site: \nName: Garry Guan Party: R Site: \ndistrict: AR-HD-31\nName: Mazhil Rajendran Party: D Site: \nName: Keith Brooks Party: R Site: \ndistrict: AR-HD-26\nName: Joyce Schimenti Party: D Site: \nName: Rick McClure Party: R Site: \ndistrict: OR-HD-18\nName: Rick Lewis Party: R Site: \nName: Jamie Morrison Party: D Site: \ndistrict: AR-HD-68\nName: Stan Berry Party: R Site: \nName: Lisa Hassell Party: D Site: \ndistrict: OR-HD-58\nName: Nolan Bylenga Party: D Site: \nName: Bobby Levy Party: R Site: \ndistrict: KY-HD-79\nName: Susan Westrom Party: D Site: \nName: Jon Larson Party: R Site: \ndistrict: OR-HD-1\nName: David Smith Party: R Site: \nName: Calla Felicity Party: D Site: \ndistrict: IL-HD-61\nName: Joyce Mason Party: D Site: \nName: Dan Yost Party: R Site: \ndistrict: OR-HD-17\nName: Paige Hook Party: D Site: \nName: Jami Cate Party: R Site: \nName: Tim Dehne Party: PACIFIC GREEN PARTY Site: \ndistrict: OR-HD-55\nName: Vikki Breese-Iverson Party: R Site: \nName: Barbara Fontaine Party: D Site: \ndistrict: UT-HD-43\nName: Cheryl K. Acton Party: R Site: \nName: Diane Lewis Party: D Site: \nName: Jefferson Bardin Party: UNITED UTAH PARTY Site: \ndistrict: OR-HD-7\nName: Cedric Hayden Party: R Site: \nName: Jerry Samaniego Party: D Site: \ndistrict: OR-HD-4\nName: Duane Stark Party: R Site: \nName: Mary Middleton Party: D Site: \ndistrict: SC-SD-32\nName: Ronnie Sabb Party: D Site: \nName: David Ellison Party: R Site: \ndistrict: OR-HD-2\nName: Gary Leif Party: R Site: \nName: Charles Lee Party: D Site: \ndistrict: IL-HD-51\nName: Mary Edly-Allen Party: D Site: \nName: Chris Bos Party: R Site: \ndistrict: SC-SD-29\nName: Gerald Malloy Party: D Site: \nName: J.D. Chaplin Party: R Site: \ndistrict: SC-SD-45\nName: Margie Bright Matthews Party: D Site: \nName: Rodney Buncum Party: R Site: \ndistrict: IN-HD-19\nName: Lisa Beck Party: D Site: \nName: Julie Olthoff Party: R Site: \ndistrict: SC-HD-019\nName: Patrick Haddon Party: R Site: \nName: Jevarus Howard Party: D Site: \ndistrict: NV-HD-32\ndistrict: SC-HD-123\nName: Jeff Bradley Party: R Site: \nName: Christine deVries Party: D Site: \ndistrict: IL-HD-116\nName: Nathan Reitz Party: D Site: \nName: David Friess Party: R Site: \ndistrict: KY-HD-57\nName: Derrick Graham Party: D Site: \nName: Gary Stratton Party: R Site: \ndistrict: TN-HD-83\nName: Mark White Party: R Site: \nName: Jerri Green Party: D Site: \ndistrict: SC-HD-094\nName: Patricia Cannon Party: D Site: \nName: Gil Gatch Party: R Site: \ndistrict: IL-HD-45\nName: Diane Pappas Party: D Site: \nName: Michael Camerer Party: R Site: \ndistrict: AR-HD-58\nName: Brandt Smith Party: R Site: \nName: Jim Burton Party: D Site: \ndistrict: SC-HD-026\nName: R. Raye Felder Party: R Site: \nName: Monica Danneman Party: D Site: \ndistrict: SC-HD-112\nName: Daniel Brownstein Party: D Site: \nName: Joe Bustos Party: R Site: \ndistrict: SC-SD-7\nName: Karl Allen Party: D Site: \nName: Jack Logan Party: R Site: \ndistrict: IL-HD-81\nName: Anne Stava-Murray Party: D Site: \nName: Laura Hois Party: R Site: \ndistrict: SC-HD-020\nName: Adam Morgan Party: R Site: \nName: Stephen Dreyfus Party: D Site: \ndistrict: NV-HD-39\ndistrict: IN-HD-35\nName: Melanie Wright Party: D Site: \nName: Elizabeth Rowray Party: R Site: \ndistrict: SC-HD-048\nName: Bruce M. Bryant Party: R Site: \nName: Kathryn Roberts Party: D Site: \ndistrict: SC-HD-060\nName: Phillip Lowe Party: R Site: \nName: Teresa Cain Party: D Site: \ndistrict: SC-HD-083\nName: Bill Hixon Party: R Site: \nName: Evelyn Robinson Party: D Site: \ndistrict: SC-HD-043\nName: Randy Ligon Party: R Site: \nName: Reid Carrico Party: D Site: \ndistrict: SC-HD-007\nName: Jay West Party: R Site: \nName: Andrea Bejarano-Robinson Party: D Site: \ndistrict: SC-HD-018\nName: Tommy Stringer Party: R Site: \nName: Benjamin Smith Party: D Site: \ndistrict: SC-HD-013\nName: John McCravy Party: R Site: \nName: Denise Waldrep Party: D Site: \ndistrict: SC-HD-063\nName: Jay Jordan Party: R Site: \nName: Isaac Wilson Party: D Site: \ndistrict: SC-HD-033\nName: Travis Moore Party: R Site: \nName: Thomas Riddle Party: CONSTITUTION PARTY Site: \ndistrict: SC-HD-034\nName: Roger Nutt Party: R Site: \ndistrict: SC-HD-071\nName: Nathan Ballentine Party: R Site: \nName: Terry Seawright Party: D Site: \nName: Lawrence Lee Party: L Site: \ndistrict: SC-HD-008\nName: Jonathon Hill Party: R Site: \nName: Jackie Todd Party: ALLIANCE PARTY OF SOUTH CAROLINA Site: \ndistrict: SC-HD-028\nName: Ashley Trantham Party: R Site: \nName: Ty Washington Party: D Site: \ndistrict: SC-HD-022\nName: Jason Elliott Party: R Site: \nName: B.K. Brown Party: D Site: \ndistrict: SC-HD-124\nName: Shannon Erickson Party: R Site: \nName: Barb Nash Party: D Site: \ndistrict: SC-HD-035\nName: Bill Chumley Party: R Site: \nName: Helen Pendarvis Party: D Site: \ndistrict: SC-HD-118\nName: Bill Herbkersman Party: R Site: \nName: Mitchell Siegel Party: D Site: \ndistrict: SC-HD-045\nName: Brandon Newton Party: R Site: \nName: Keith Grey Party: D Site: \ndistrict: SC-HD-047\nName: Tommy Pope Party: R Site: \nName: Ryan Arioli Party: D Site: \ndistrict: SC-HD-003\nName: Eunice Lehmacher Party: D Site: \nName: Jerry Carter Party: R Site: \ndistrict: SC-HD-099\nName: Jen Gibson Party: D Site: \nName: Mark Smith Party: R Site: \ndistrict: AR-HD-7\nName: Sonia Eubanks Barker Party: R Site: \nName: George Calloway Jr. Party: D Site: \ndistrict: NV-HD-26\ndistrict: SC-HD-068\nName: Heather Ammons Crawford Party: R Site: \nName: Mike Childs Party: ALLIANCE PARTY OF SOUTH CAROLINA Site: \ndistrict: SC-HD-056\nName: Tim McGinnis Party: R Site: \nName: Bruce Fischer Party: D Site: \ndistrict: IL-HD-111\nName: Monica Bristow Party: D Site: \nName: Amy Elik Party: R Site: \ndistrict: AR-HD-49\nName: Steve Hollowell Party: R Site: \nName: Justin Reeves Party: D Site: \ndistrict: UT-HD-54\nName: Meaghan Miller Party: D Site: \nName: Mike Kohler Party: R Site: \ndistrict: AR-HD-3\nName: Danny Watson Party: R Site: \nName: Larry Faulkner Party: D Site: \ndistrict: NV-HD-23\ndistrict: SC-HD-110\nName: William S. Cogswell Jr. Party: R Site: \nName: Rebecca Niess Cingolani Party: D Site: \ndistrict: AR-HD-8\nName: Jeff R. Wardlaw Party: R Site: \nName: Christopher Ogburn Party: D Site: \ndistrict: SC-HD-097\nName: Mandy Kimmons Party: R Site: \nName: Ronee De Canio Party: D Site: \ndistrict: SC-HD-075\nName: Kirkman Finlay III Party: R Site: \nName: Rhodes Bailey Party: D Site: \ndistrict: AR-HD-14\nName: Roger Lynch Party: R Site: \nName: Rick Bransford Party: D Site: \nName: Christia Jones Party: INDEPENDENT Site: \ndistrict: IL-HD-20\nName: Brad Stephens Party: R Site: \nName: Michelle Darbro Party: D Site: \ndistrict: TN-HD-97\nName: Gabby Salinas Party: D Site: \nName: John Gillespie Party: R Site: \ndistrict: AR-HD-97\nName: Harlan Breaux Party: R Site: \nName: Suzie Bell Party: D Site: \ndistrict: TN-HD-49\nName: Mike Sparks Party: R Site: \nName: Brandon Thomas Party: D Site: \ndistrict: TX-SD-13\nName: Borris Miles Party: D Site: \nName: Milinda Morris Party: R Site: \ndistrict: TX-SD-27\nName: Eddie Lucio Party: D Site: \nName: Vanessa Tijerina Party: R Site: \ndistrict: AR-HD-94\nName: Jene Huffman-Gilreath Party: D Site: \nName: John Carr Party: R Site: \ndistrict: TX-SD-20\nName: Juan Hinojosa Party: D Site: \nName: Judith Cutright Party: R Site: \ndistrict: TX-SD-29\nName: Cesar Blanco Party: D Site: \nName: Bethany Hatch Party: R Site: \nName: David Marino Party: L Site: \ndistrict: GA-SD-6\nName: Jen Jordan Party: D Site: \nName: Harrison Lance Party: R Site: \ndistrict: TX-SD-21\nName: Judith Zaffirini Party: D Site: \nName: Frank Pomeroy Party: R Site: \ndistrict: IN-HD-66\nName: Terry Goodin Party: D Site: \nName: Zach Payne Party: R Site: \ndistrict: IL-HD-97\nName: Mark Batinick Party: R Site: \nName: Harry Benton Party: D Site: \ndistrict: UT-HD-10\nName: LaWanna Shurtliff Party: D Site: \nName: Travis Campbell Party: R Site: \ndistrict: IL-HD-54\nName: Thomas R. Morrison Party: R Site: \nName: Maggie Trevor Party: D Site: \ndistrict: TN-HD-18\nName: Virginia Couch Party: D Site: \nName: Eddie Mannis Party: R Site: \ndistrict: SC-HD-114\nName: Lin Bennett Party: R Site: \nName: Ed Sutton Party: D Site: \nName: Brad Jayne Party: ALLIANCE PARTY OF SOUTH CAROLINA Site: \ndistrict: IN-HD-36\nName: Terri Austin Party: D Site: \nName: Kyle Pierce Party: R Site: \ndistrict: IL-HD-47\nName: Deanne Mazzochi Party: R Site: \nName: Jennifer Zordani Party: D Site: \ndistrict: IL-HD-42\nName: Amy Grant Party: R Site: \nName: Ken Mejia-Beal Party: D Site: \ndistrict: IL-HD-70\nName: Jeff Keicher Party: R Site: \nName: Paul Stoddard Party: D Site: \ndistrict: IN-HD-12\nName: Mike Andrade Party: D Site: \nName: Tom Wichlinski Party: R Site: \ndistrict: IL-HD-93\nName: Norine Hammond Party: R Site: \nName: Scott Stoll Party: D Site: \ndistrict: IL-HD-65\nName: Dan Ugaste Party: R Site: \nName: Martha Paschke Party: D Site: \ndistrict: GA-SD-41\nName: Kim Jackson Party: D Site: \nName: William Freeman Party: R Site: \ndistrict: AR-HD-41\nName: Karilyn Brown Party: R Site: \nName: Jannie Cotton Party: D Site: \ndistrict: IL-HD-41\nName: Grant Wehrli Party: R Site: \nName: Janet Yang Rohr Party: D Site: \ndistrict: IL-HD-68\nName: John M. Cabello Party: R Site: \nName: Dave Vella Party: D Site: \ndistrict: GA-SD-12\nName: Freddie Sims Party: D Site: \nName: Tracy Taylor Party: R Site: \ndistrict: IN-HD-87\nName: Carey Hamilton Party: D Site: \nName: Ryan Royer Party: R Site: \ndistrict: GA-SD-44\nName: Gail Davenport Party: D Site: \nName: Benjamin Brooks Party: R Site: \ndistrict: IL-HD-79\nName: Charlene Eads Party: D Site: \nName: Jackie Haas Party: R Site: \ndistrict: GA-SD-43\nName: Tonya Anderson Party: D Site: \nName: Melanie Williams Party: R Site: \ndistrict: AR-HD-32\nName: Jim Sorvillo Party: R Site: \nName: Ashley Hudson Party: D Site: \ndistrict: IN-HD-43\nName: Tonya Pfaff Party: D Site: \nName: Bill Treadway Party: R Site: \ndistrict: AR-HD-38\nName: Carlton Wing Party: R Site: \nName: Matthew Stallings Party: D Site: \ndistrict: AR-HD-39\nName: Mark Lowery Party: R Site: \nName: Kayla Applegate Party: D Site: \ndistrict: IL-HD-66\nName: Allen Skillicorn Party: R Site: \nName: Suzanne Ness Party: D Site: \ndistrict: IN-HD-100\nName: Robert Johnson Party: D Site: \nName: Wayne Harmon Party: R Site: \ndistrict: IL-HD-104\nName: Mike Marron Party: R Site: \nName: Cynthia Cunningham Party: D Site: \ndistrict: IN-HD-94\nName: Cherrish Pryor Party: D Site: \nName: Felipe Rios Party: R Site: \ndistrict: IL-HD-64\nName: Tom Weber Party: R Site: \nName: Leslie Armstrong-McLeod Party: D Site: \ndistrict: UT-HD-31\nName: Elizabeth Weight Party: D Site: \nName: Matt Macpherson Party: R Site: \ndistrict: IN-HD-97\nName: Justin Moed Party: D Site: \nName: John Schmitz Party: R Site: \nName: Mark Renholzberger Party: L Site: \ndistrict: UT-HD-22\nName: Clare Collard Party: D Site: \nName: Anthony Loubet Party: R Site: \nName: Marilee Roose Party: CONSTITUTION PARTY Site: \ndistrict: IN-HD-27\nName: Sheila Ann Klinker Party: D Site: \nName: James Hass Party: R Site: \ndistrict: UT-HD-34\nName: Karen Kwan Party: D Site: \nName: David Young Party: R Site: \ndistrict: IN-HD-34\nName: Sue Errington Party: D Site: \nName: Dale Basham Party: R Site: \ndistrict: UT-HD-32\nName: Suzanne Harrison Party: D Site: \nName: Cindie Quintana Party: R Site: \ndistrict: AR-HD-9\nName: LeAnne Burch Party: D Site: \nName: Howard Beaty Party: R Site: \ndistrict: UT-HD-44\nName: Andrew Stoddard Party: D Site: \nName: Kyle Bird Party: R Site: \nName: John Jackson Party: UNITED UTAH PARTY Site: \ndistrict: SC-HD-044\nName: Mandy Powers Norrell Party: D Site: \nName: Sandy McGarry Party: R Site: \ndistrict: IL-HD-95\nName: Avery Bourne Party: R Site: \nName: Chase Wilhelm Party: D Site: \ndistrict: IL-HD-91\nName: Josh Grys Party: D Site: \nName: Mark Luft Party: R Site: \ndistrict: IL-HD-37\nName: Michelle Fadeley Party: D Site: \nName: Tim Ozinga Party: R Site: \ndistrict: UT-HD-23\nName: Sandra Hollins Party: D Site: \nName: Bradley Borden Party: R Site: \ndistrict: AR-HD-89\nName: Megan Godfrey Party: D Site: \nName: Jed Duggar Party: R Site: \ndistrict: IL-HD-71\nName: Tony McCombie Party: R Site: \nName: Joan Padilla Party: D Site: \ndistrict: SC-HD-115\nName: Spencer Wetmore Party: D Site: \nName: Josh Stokes Party: R Site: \ndistrict: UT-HD-40\nName: Stephanie Pitcher Party: D Site: \nName: Jeremiah Clark Party: R Site: \ndistrict: UT-HD-35\nName: Mark Wheatley Party: D Site: \nName: Luke Gustafson Party: R Site: \nName: Adam Bean Party: UNITED UTAH PARTY Site: \ndistrict: UT-HD-25\nName: Joel Briscoe Party: D Site: \nName: Karel Mcdonough Party: R Site: \nName: Cabot Nelson Party: UNITED UTAH PARTY Site: \ndistrict: IL-HD-82\nName: Jim Durkin Party: R Site: \nName: Kassem Moukahal Party: D Site: \ndistrict: UT-HD-28\nName: Brian King Party: D Site: \nName: Carol Hunter Party: R Site: \ndistrict: UT-HD-36\nName: Doug Owens Party: D Site: \nName: Lisa Bagley Party: R Site: \nName: Nishan Beglarian Party: CONSTITUTION PARTY Site: \ndistrict: UT-HD-46\nName: Gay Lynn Bennion Party: D Site: \nName: Jaren Davis Party: R Site: \nName: Lee Anne Walker Party: L Site: \ndistrict: UT-HD-37\nName: Carol Moss Party: D Site: \nName: Maryann Christensen Party: R Site: \ndistrict: TN-HD-67\nName: Jason Hodges Party: D Site: \nName: John Dawson Party: R Site: \ndistrict: IL-HD-109\nName: John Spencer Party: D Site: \nName: Adam Niemerg Party: R Site: \ndistrict: IL-HD-73\nName: Ryan Spain Party: R Site: \ndistrict: IL-HD-90\nName: Tom Demmer Party: R Site: \nName: Seth Wiggins Party: D Site: \ndistrict: IL-HD-107\nName: Blaine Wilhour Party: R Site: \nName: David Seiler Party: D Site: \ndistrict: TN-HD-13\nName: Gloria Johnson Party: D Site: \nName: Elaine Davis Party: R Site: \ndistrict: IL-HD-63\nName: Steven Reick Party: R Site: \nName: Brian Sager Party: D Site: \ndistrict: IL-HD-74\nName: Daniel Swanson Party: R Site: \nName: Christopher Demink Party: D Site: \n"
    },
    {
     "output_type": "error",
     "ename": "WebDriverException",
     "evalue": "Message: disconnected: Unable to receive message from renderer\n  (Session info: chrome=84.0.4147.135)\n",
     "traceback": [
      "\u001b[0;31m---------------------------------------------------------------------------\u001b[0m",
      "\u001b[0;31mWebDriverException\u001b[0m                        Traceback (most recent call last)",
      "\u001b[0;32m<ipython-input-142-420589f165da>\u001b[0m in \u001b[0;36m<module>\u001b[0;34m\u001b[0m\n\u001b[1;32m      5\u001b[0m \u001b[0;34m\u001b[0m\u001b[0m\n\u001b[1;32m      6\u001b[0m     \u001b[0mdist_page_url\u001b[0m \u001b[0;34m=\u001b[0m \u001b[0mget_ballotpedia_page\u001b[0m\u001b[0;34m(\u001b[0m \u001b[0mdf\u001b[0m\u001b[0;34m.\u001b[0m\u001b[0miloc\u001b[0m\u001b[0;34m[\u001b[0m\u001b[0mi\u001b[0m\u001b[0;34m]\u001b[0m\u001b[0;34m[\u001b[0m\u001b[0;34m'district'\u001b[0m\u001b[0;34m]\u001b[0m \u001b[0;34m)\u001b[0m\u001b[0;34m\u001b[0m\u001b[0;34m\u001b[0m\u001b[0m\n\u001b[0;32m----> 7\u001b[0;31m     \u001b[0mdriver\u001b[0m\u001b[0;34m.\u001b[0m\u001b[0mget\u001b[0m\u001b[0;34m(\u001b[0m\u001b[0mdist_page_url\u001b[0m\u001b[0;34m)\u001b[0m\u001b[0;34m\u001b[0m\u001b[0;34m\u001b[0m\u001b[0m\n\u001b[0m\u001b[1;32m      8\u001b[0m \u001b[0;34m\u001b[0m\u001b[0m\n\u001b[1;32m      9\u001b[0m     \u001b[0msoup\u001b[0m \u001b[0;34m=\u001b[0m \u001b[0mBeautifulSoup\u001b[0m\u001b[0;34m(\u001b[0m\u001b[0mdriver\u001b[0m\u001b[0;34m.\u001b[0m\u001b[0mpage_source\u001b[0m\u001b[0;34m,\u001b[0m \u001b[0;34m'html.parser'\u001b[0m\u001b[0;34m)\u001b[0m\u001b[0;34m\u001b[0m\u001b[0;34m\u001b[0m\u001b[0m\n",
      "\u001b[0;32m~/Library/Python/3.7/lib/python/site-packages/selenium/webdriver/remote/webdriver.py\u001b[0m in \u001b[0;36mget\u001b[0;34m(self, url)\u001b[0m\n\u001b[1;32m    331\u001b[0m         \u001b[0mLoads\u001b[0m \u001b[0ma\u001b[0m \u001b[0mweb\u001b[0m \u001b[0mpage\u001b[0m \u001b[0;32min\u001b[0m \u001b[0mthe\u001b[0m \u001b[0mcurrent\u001b[0m \u001b[0mbrowser\u001b[0m \u001b[0msession\u001b[0m\u001b[0;34m.\u001b[0m\u001b[0;34m\u001b[0m\u001b[0;34m\u001b[0m\u001b[0m\n\u001b[1;32m    332\u001b[0m         \"\"\"\n\u001b[0;32m--> 333\u001b[0;31m         \u001b[0mself\u001b[0m\u001b[0;34m.\u001b[0m\u001b[0mexecute\u001b[0m\u001b[0;34m(\u001b[0m\u001b[0mCommand\u001b[0m\u001b[0;34m.\u001b[0m\u001b[0mGET\u001b[0m\u001b[0;34m,\u001b[0m \u001b[0;34m{\u001b[0m\u001b[0;34m'url'\u001b[0m\u001b[0;34m:\u001b[0m \u001b[0murl\u001b[0m\u001b[0;34m}\u001b[0m\u001b[0;34m)\u001b[0m\u001b[0;34m\u001b[0m\u001b[0;34m\u001b[0m\u001b[0m\n\u001b[0m\u001b[1;32m    334\u001b[0m \u001b[0;34m\u001b[0m\u001b[0m\n\u001b[1;32m    335\u001b[0m     \u001b[0;34m@\u001b[0m\u001b[0mproperty\u001b[0m\u001b[0;34m\u001b[0m\u001b[0;34m\u001b[0m\u001b[0m\n",
      "\u001b[0;32m~/Library/Python/3.7/lib/python/site-packages/selenium/webdriver/remote/webdriver.py\u001b[0m in \u001b[0;36mexecute\u001b[0;34m(self, driver_command, params)\u001b[0m\n\u001b[1;32m    319\u001b[0m         \u001b[0mresponse\u001b[0m \u001b[0;34m=\u001b[0m \u001b[0mself\u001b[0m\u001b[0;34m.\u001b[0m\u001b[0mcommand_executor\u001b[0m\u001b[0;34m.\u001b[0m\u001b[0mexecute\u001b[0m\u001b[0;34m(\u001b[0m\u001b[0mdriver_command\u001b[0m\u001b[0;34m,\u001b[0m \u001b[0mparams\u001b[0m\u001b[0;34m)\u001b[0m\u001b[0;34m\u001b[0m\u001b[0;34m\u001b[0m\u001b[0m\n\u001b[1;32m    320\u001b[0m         \u001b[0;32mif\u001b[0m \u001b[0mresponse\u001b[0m\u001b[0;34m:\u001b[0m\u001b[0;34m\u001b[0m\u001b[0;34m\u001b[0m\u001b[0m\n\u001b[0;32m--> 321\u001b[0;31m             \u001b[0mself\u001b[0m\u001b[0;34m.\u001b[0m\u001b[0merror_handler\u001b[0m\u001b[0;34m.\u001b[0m\u001b[0mcheck_response\u001b[0m\u001b[0;34m(\u001b[0m\u001b[0mresponse\u001b[0m\u001b[0;34m)\u001b[0m\u001b[0;34m\u001b[0m\u001b[0;34m\u001b[0m\u001b[0m\n\u001b[0m\u001b[1;32m    322\u001b[0m             response['value'] = self._unwrap_value(\n\u001b[1;32m    323\u001b[0m                 response.get('value', None))\n",
      "\u001b[0;32m~/Library/Python/3.7/lib/python/site-packages/selenium/webdriver/remote/errorhandler.py\u001b[0m in \u001b[0;36mcheck_response\u001b[0;34m(self, response)\u001b[0m\n\u001b[1;32m    240\u001b[0m                 \u001b[0malert_text\u001b[0m \u001b[0;34m=\u001b[0m \u001b[0mvalue\u001b[0m\u001b[0;34m[\u001b[0m\u001b[0;34m'alert'\u001b[0m\u001b[0;34m]\u001b[0m\u001b[0;34m.\u001b[0m\u001b[0mget\u001b[0m\u001b[0;34m(\u001b[0m\u001b[0;34m'text'\u001b[0m\u001b[0;34m)\u001b[0m\u001b[0;34m\u001b[0m\u001b[0;34m\u001b[0m\u001b[0m\n\u001b[1;32m    241\u001b[0m             \u001b[0;32mraise\u001b[0m \u001b[0mexception_class\u001b[0m\u001b[0;34m(\u001b[0m\u001b[0mmessage\u001b[0m\u001b[0;34m,\u001b[0m \u001b[0mscreen\u001b[0m\u001b[0;34m,\u001b[0m \u001b[0mstacktrace\u001b[0m\u001b[0;34m,\u001b[0m \u001b[0malert_text\u001b[0m\u001b[0;34m)\u001b[0m\u001b[0;34m\u001b[0m\u001b[0;34m\u001b[0m\u001b[0m\n\u001b[0;32m--> 242\u001b[0;31m         \u001b[0;32mraise\u001b[0m \u001b[0mexception_class\u001b[0m\u001b[0;34m(\u001b[0m\u001b[0mmessage\u001b[0m\u001b[0;34m,\u001b[0m \u001b[0mscreen\u001b[0m\u001b[0;34m,\u001b[0m \u001b[0mstacktrace\u001b[0m\u001b[0;34m)\u001b[0m\u001b[0;34m\u001b[0m\u001b[0;34m\u001b[0m\u001b[0m\n\u001b[0m\u001b[1;32m    243\u001b[0m \u001b[0;34m\u001b[0m\u001b[0m\n\u001b[1;32m    244\u001b[0m     \u001b[0;32mdef\u001b[0m \u001b[0m_value_or_default\u001b[0m\u001b[0;34m(\u001b[0m\u001b[0mself\u001b[0m\u001b[0;34m,\u001b[0m \u001b[0mobj\u001b[0m\u001b[0;34m,\u001b[0m \u001b[0mkey\u001b[0m\u001b[0;34m,\u001b[0m \u001b[0mdefault\u001b[0m\u001b[0;34m)\u001b[0m\u001b[0;34m:\u001b[0m\u001b[0;34m\u001b[0m\u001b[0;34m\u001b[0m\u001b[0m\n",
      "\u001b[0;31mWebDriverException\u001b[0m: Message: disconnected: Unable to receive message from renderer\n  (Session info: chrome=84.0.4147.135)\n"
     ]
    }
   ],
   "source": [
    "driver = webdriver.Chrome(moneyball_dir / 'chromedriver')\n",
    "for i in range (1000,len(df.index)):\n",
    "    # MA urls are difficult to map, haven't figured them all out yet\n",
    "    if df.iloc[i]['state'] == 'MA': continue\n",
    "\n",
    "    dist_page_url = get_ballotpedia_page( df.iloc[i]['district'] )\n",
    "    driver.get(dist_page_url)\n",
    "\n",
    "    soup = BeautifulSoup(driver.page_source, 'html.parser')\n",
    "\n",
    "    print('district: ' + df.iloc[i]['district'])\n",
    "\n",
    "    # table_soup = soup.select('#mw-content-text > div:nth-child(26) > div.results_table_container > table')[0]\n",
    "    table_soup = soup.find('table', {\"class\": \"results_table\"})\n",
    "    if table_soup is None or len(table_soup) < 0: continue\n",
    "\n",
    "    for cand_row in table_soup.find_all(\"td\", class_=\"votebox-results-cell--text\"):\n",
    "        cand_name = cand_row.find('a').text\n",
    "        if '(' not in cand_row.text: continue \n",
    "        cand_party = cand_row.text.split('(',1)[1].replace(')', '').strip().upper()\n",
    "        cand_b_href = cand_row.find('a')['href']\n",
    "        cand_p_site = ''\n",
    "\n",
    "        # dont waste time with campaign sites for invaluable districts \n",
    "        if i < 1000:\n",
    "            driver.get(cand_b_href)\n",
    "            cand_b_page_soup = BeautifulSoup(driver.page_source, 'html.parser')\n",
    "            body = cand_b_page_soup.find(\"div\", id=\"bodyContent\")\n",
    "            infobox = body.find_all(\"div\", class_='infobox person')\n",
    "            if infobox is not None and len(infobox) >0:\n",
    "                cand_p_obj = infobox[0].find(\"a\", string=\"Campaign website\" )\n",
    "                cand_p_site = '' if cand_p_obj is None else cand_p_obj['href']\n",
    "\n",
    "        if cand_party == 'R':\n",
    "            df.iloc[i]['r_cand'] = cand_name\n",
    "            df.iloc[i]['r_cand_b_link'] = cand_b_href\n",
    "            df.iloc[i]['r_cand_p_link'] = cand_p_site\n",
    "        elif cand_party == 'D':\n",
    "            df.iloc[i]['d_cand'] = cand_name\n",
    "            df.iloc[i]['d_cand_b_link'] = cand_b_href\n",
    "            df.iloc[i]['d_cand_p_link'] = cand_p_site\n",
    "        else: \n",
    "            df.iloc[i]['y_cand'] = cand_name\n",
    "            df.iloc[i]['y_cand_party'] = cand_party\n",
    "            df.iloc[i]['y_cand_b_link'] = cand_b_href\n",
    "            df.iloc[i]['y_cand_p_link'] = cand_p_site\n",
    "\n",
    "        print(f\"\"\"Name: {cand_name} Party: {cand_party} Site: {cand_p_site}\"\"\")\n",
    "\n"
   ]
  },
  {
   "cell_type": "code",
   "execution_count": 146,
   "metadata": {},
   "outputs": [
    {
     "output_type": "execute_result",
     "data": {
      "text/plain": "     state   district        rep_nominee          dem_nominee incumbent  \\\n0       TX  TX-HD-112  Angie Chen Button      Brandy Chambers         R   \n1       TX   TX-HD-26       Jacey Jetton  L. Sarah DeMerchant      Open   \n2       TX   TX-HD-66       Matt Shaheen        Sharon Hirsch         R   \n3       TX   TX-HD-67         Jeff Leach      Lorenzo Sanchez         R   \n4       TX   TX-HD-96         David Cook            Joe Drago      Open   \n...    ...        ...                ...                  ...       ...   \n2176    UT   UT-SD-13      Jake Anderegg       Lyndsey Jarman         R   \n2177    UT   UT-SD-19                TBA           Katy Owens      Open   \n2178    UT   UT-SD-24                TBA                  NaN      Open   \n2179    UT   UT-SD-25                TBA         Nancy Huntly      Open   \n2180    UT   UT-SD-29                TBA          Chuck Goode      Open   \n\n                 r_cand               d_cand        y_cand y_cand_party  \\\n0     Angie Chen Button      Brandy Chambers  Shane Newsom            L   \n1          Jacey Jetton  L. Sarah DeMerchant           NaN          NaN   \n2          Matt Shaheen        Sharon Hirsch   Shawn Jones            L   \n3            Jeff Leach      Lorenzo Sanchez           NaN          NaN   \n4            David Cook            Joe Drago  Nelson Range            L   \n...                 ...                  ...           ...          ...   \n2176                NaN                  NaN           NaN          NaN   \n2177                NaN                  NaN           NaN          NaN   \n2178                NaN                  NaN           NaN          NaN   \n2179                NaN                  NaN           NaN          NaN   \n2180                NaN                  NaN           NaN          NaN   \n\n                                          r_cand_b_link  \\\n0             https://ballotpedia.org/Angie_Chen_Button   \n1                  https://ballotpedia.org/Jacey_Jetton   \n2                  https://ballotpedia.org/Matt_Shaheen   \n3                    https://ballotpedia.org/Jeff_Leach   \n4     https://ballotpedia.org/David_Cook_(Texas_Hous...   \n...                                                 ...   \n2176                                                NaN   \n2177                                                NaN   \n2178                                                NaN   \n2179                                                NaN   \n2180                                                NaN   \n\n                                    d_cand_b_link  \\\n0         https://ballotpedia.org/Brandy_Chambers   \n1     https://ballotpedia.org/L._Sarah_DeMerchant   \n2           https://ballotpedia.org/Sharon_Hirsch   \n3         https://ballotpedia.org/Lorenzo_Sanchez   \n4               https://ballotpedia.org/Joe_Drago   \n...                                           ...   \n2176                                          NaN   \n2177                                          NaN   \n2178                                          NaN   \n2179                                          NaN   \n2180                                          NaN   \n\n                             y_cand_b_link  \\\n0     https://ballotpedia.org/Shane_Newsom   \n1                                      NaN   \n2      https://ballotpedia.org/Shawn_Jones   \n3                                      NaN   \n4     https://ballotpedia.org/Nelson_Range   \n...                                    ...   \n2176                                   NaN   \n2177                                   NaN   \n2178                                   NaN   \n2179                                   NaN   \n2180                                   NaN   \n\n                           r_cand_p_link                        d_cand_p_link  \\\n0            http://www.angiebutton.com/         https://brandykchambers.com/   \n1           https://www.jaceyjetton.com/  https://www.democratdemerchant.com/   \n2      http://mattshaheen.com/index.html           https://www.sharon4tx.com/   \n3              http://www.jeffleach.com/     https://www.lorenzofortexas.com/   \n4     https://www.davidcookfortexas.com/     https://dragofortexas.com/home-1   \n...                                  ...                                  ...   \n2176                                 NaN                                  NaN   \n2177                                 NaN                                  NaN   \n2178                                 NaN                                  NaN   \n2179                                 NaN                                  NaN   \n2180                                 NaN                                  NaN   \n\n                           y_cand_p_link  \n0     https://www.newsomforstaterep.com/  \n1                                    NaN  \n2                                         \n3                                    NaN  \n4      https://nelsonrangefortexas96.com  \n...                                  ...  \n2176                                 NaN  \n2177                                 NaN  \n2178                                 NaN  \n2179                                 NaN  \n2180                                 NaN  \n\n[2181 rows x 15 columns]",
      "text/html": "<div>\n<style scoped>\n    .dataframe tbody tr th:only-of-type {\n        vertical-align: middle;\n    }\n\n    .dataframe tbody tr th {\n        vertical-align: top;\n    }\n\n    .dataframe thead th {\n        text-align: right;\n    }\n</style>\n<table border=\"1\" class=\"dataframe\">\n  <thead>\n    <tr style=\"text-align: right;\">\n      <th></th>\n      <th>state</th>\n      <th>district</th>\n      <th>rep_nominee</th>\n      <th>dem_nominee</th>\n      <th>incumbent</th>\n      <th>r_cand</th>\n      <th>d_cand</th>\n      <th>y_cand</th>\n      <th>y_cand_party</th>\n      <th>r_cand_b_link</th>\n      <th>d_cand_b_link</th>\n      <th>y_cand_b_link</th>\n      <th>r_cand_p_link</th>\n      <th>d_cand_p_link</th>\n      <th>y_cand_p_link</th>\n    </tr>\n  </thead>\n  <tbody>\n    <tr>\n      <th>0</th>\n      <td>TX</td>\n      <td>TX-HD-112</td>\n      <td>Angie Chen Button</td>\n      <td>Brandy Chambers</td>\n      <td>R</td>\n      <td>Angie Chen Button</td>\n      <td>Brandy Chambers</td>\n      <td>Shane Newsom</td>\n      <td>L</td>\n      <td>https://ballotpedia.org/Angie_Chen_Button</td>\n      <td>https://ballotpedia.org/Brandy_Chambers</td>\n      <td>https://ballotpedia.org/Shane_Newsom</td>\n      <td>http://www.angiebutton.com/</td>\n      <td>https://brandykchambers.com/</td>\n      <td>https://www.newsomforstaterep.com/</td>\n    </tr>\n    <tr>\n      <th>1</th>\n      <td>TX</td>\n      <td>TX-HD-26</td>\n      <td>Jacey Jetton</td>\n      <td>L. Sarah DeMerchant</td>\n      <td>Open</td>\n      <td>Jacey Jetton</td>\n      <td>L. Sarah DeMerchant</td>\n      <td>NaN</td>\n      <td>NaN</td>\n      <td>https://ballotpedia.org/Jacey_Jetton</td>\n      <td>https://ballotpedia.org/L._Sarah_DeMerchant</td>\n      <td>NaN</td>\n      <td>https://www.jaceyjetton.com/</td>\n      <td>https://www.democratdemerchant.com/</td>\n      <td>NaN</td>\n    </tr>\n    <tr>\n      <th>2</th>\n      <td>TX</td>\n      <td>TX-HD-66</td>\n      <td>Matt Shaheen</td>\n      <td>Sharon Hirsch</td>\n      <td>R</td>\n      <td>Matt Shaheen</td>\n      <td>Sharon Hirsch</td>\n      <td>Shawn Jones</td>\n      <td>L</td>\n      <td>https://ballotpedia.org/Matt_Shaheen</td>\n      <td>https://ballotpedia.org/Sharon_Hirsch</td>\n      <td>https://ballotpedia.org/Shawn_Jones</td>\n      <td>http://mattshaheen.com/index.html</td>\n      <td>https://www.sharon4tx.com/</td>\n      <td></td>\n    </tr>\n    <tr>\n      <th>3</th>\n      <td>TX</td>\n      <td>TX-HD-67</td>\n      <td>Jeff Leach</td>\n      <td>Lorenzo Sanchez</td>\n      <td>R</td>\n      <td>Jeff Leach</td>\n      <td>Lorenzo Sanchez</td>\n      <td>NaN</td>\n      <td>NaN</td>\n      <td>https://ballotpedia.org/Jeff_Leach</td>\n      <td>https://ballotpedia.org/Lorenzo_Sanchez</td>\n      <td>NaN</td>\n      <td>http://www.jeffleach.com/</td>\n      <td>https://www.lorenzofortexas.com/</td>\n      <td>NaN</td>\n    </tr>\n    <tr>\n      <th>4</th>\n      <td>TX</td>\n      <td>TX-HD-96</td>\n      <td>David Cook</td>\n      <td>Joe Drago</td>\n      <td>Open</td>\n      <td>David Cook</td>\n      <td>Joe Drago</td>\n      <td>Nelson Range</td>\n      <td>L</td>\n      <td>https://ballotpedia.org/David_Cook_(Texas_Hous...</td>\n      <td>https://ballotpedia.org/Joe_Drago</td>\n      <td>https://ballotpedia.org/Nelson_Range</td>\n      <td>https://www.davidcookfortexas.com/</td>\n      <td>https://dragofortexas.com/home-1</td>\n      <td>https://nelsonrangefortexas96.com</td>\n    </tr>\n    <tr>\n      <th>...</th>\n      <td>...</td>\n      <td>...</td>\n      <td>...</td>\n      <td>...</td>\n      <td>...</td>\n      <td>...</td>\n      <td>...</td>\n      <td>...</td>\n      <td>...</td>\n      <td>...</td>\n      <td>...</td>\n      <td>...</td>\n      <td>...</td>\n      <td>...</td>\n      <td>...</td>\n    </tr>\n    <tr>\n      <th>2176</th>\n      <td>UT</td>\n      <td>UT-SD-13</td>\n      <td>Jake Anderegg</td>\n      <td>Lyndsey Jarman</td>\n      <td>R</td>\n      <td>NaN</td>\n      <td>NaN</td>\n      <td>NaN</td>\n      <td>NaN</td>\n      <td>NaN</td>\n      <td>NaN</td>\n      <td>NaN</td>\n      <td>NaN</td>\n      <td>NaN</td>\n      <td>NaN</td>\n    </tr>\n    <tr>\n      <th>2177</th>\n      <td>UT</td>\n      <td>UT-SD-19</td>\n      <td>TBA</td>\n      <td>Katy Owens</td>\n      <td>Open</td>\n      <td>NaN</td>\n      <td>NaN</td>\n      <td>NaN</td>\n      <td>NaN</td>\n      <td>NaN</td>\n      <td>NaN</td>\n      <td>NaN</td>\n      <td>NaN</td>\n      <td>NaN</td>\n      <td>NaN</td>\n    </tr>\n    <tr>\n      <th>2178</th>\n      <td>UT</td>\n      <td>UT-SD-24</td>\n      <td>TBA</td>\n      <td>NaN</td>\n      <td>Open</td>\n      <td>NaN</td>\n      <td>NaN</td>\n      <td>NaN</td>\n      <td>NaN</td>\n      <td>NaN</td>\n      <td>NaN</td>\n      <td>NaN</td>\n      <td>NaN</td>\n      <td>NaN</td>\n      <td>NaN</td>\n    </tr>\n    <tr>\n      <th>2179</th>\n      <td>UT</td>\n      <td>UT-SD-25</td>\n      <td>TBA</td>\n      <td>Nancy Huntly</td>\n      <td>Open</td>\n      <td>NaN</td>\n      <td>NaN</td>\n      <td>NaN</td>\n      <td>NaN</td>\n      <td>NaN</td>\n      <td>NaN</td>\n      <td>NaN</td>\n      <td>NaN</td>\n      <td>NaN</td>\n      <td>NaN</td>\n    </tr>\n    <tr>\n      <th>2180</th>\n      <td>UT</td>\n      <td>UT-SD-29</td>\n      <td>TBA</td>\n      <td>Chuck Goode</td>\n      <td>Open</td>\n      <td>NaN</td>\n      <td>NaN</td>\n      <td>NaN</td>\n      <td>NaN</td>\n      <td>NaN</td>\n      <td>NaN</td>\n      <td>NaN</td>\n      <td>NaN</td>\n      <td>NaN</td>\n      <td>NaN</td>\n    </tr>\n  </tbody>\n</table>\n<p>2181 rows × 15 columns</p>\n</div>"
     },
     "metadata": {},
     "execution_count": 146
    }
   ],
   "source": [
    "df"
   ]
  },
  {
   "cell_type": "code",
   "execution_count": 144,
   "metadata": {},
   "outputs": [
    {
     "output_type": "execute_result",
     "data": {
      "text/plain": "state                                               IL\ndistrict                                      IL-HD-95\nrep_nominee                               Avery Bourne\ndem_nominee                              Chase Wilhelm\nincumbent                                            R\nr_cand                                    Avery Bourne\nd_cand                                   Chase Wilhelm\ny_cand                                             NaN\ny_cand_party                                       NaN\nr_cand_b_link     https://ballotpedia.org/Avery_Bourne\nd_cand_b_link    https://ballotpedia.org/Chase_Wilhelm\ny_cand_b_link                                      NaN\nr_cand_p_link                                         \nd_cand_p_link                                         \ny_cand_p_link                                      NaN\nName: 1909, dtype: object"
     },
     "metadata": {},
     "execution_count": 144
    }
   ],
   "source": [
    "df.iloc[1909]"
   ]
  },
  {
   "cell_type": "code",
   "execution_count": 145,
   "metadata": {},
   "outputs": [],
   "source": [
    "df.to_csv(moneyball_dir / 'scraper_output.csv', index=False)"
   ]
  },
  {
   "cell_type": "code",
   "execution_count": null,
   "metadata": {},
   "outputs": [],
   "source": []
  }
 ]
}