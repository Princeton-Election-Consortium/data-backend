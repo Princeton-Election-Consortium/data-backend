{
 "metadata": {
  "language_info": {
   "codemirror_mode": {
    "name": "ipython",
    "version": 3
   },
   "file_extension": ".py",
   "mimetype": "text/x-python",
   "name": "python",
   "nbconvert_exporter": "python",
   "pygments_lexer": "ipython3",
   "version": 3
  },
  "orig_nbformat": 2,
  "kernelspec": {
   "name": "python_defaultSpec_1598396886223",
   "display_name": "Python 3.7.3 64-bit"
  }
 },
 "nbformat": 4,
 "nbformat_minor": 2,
 "cells": [
  {
   "cell_type": "code",
   "execution_count": 8,
   "metadata": {},
   "outputs": [],
   "source": [
    "import pandas as pd \n",
    "import csv\n",
    "from pathlib import Path\n",
    "\n",
    "from collections import OrderedDict\n",
    "\n",
    "from bs4 import BeautifulSoup\n",
    "from selenium import webdriver\n",
    "from selenium.webdriver.common.by import By\n",
    "from selenium.webdriver.support.ui import WebDriverWait\n",
    "from selenium.webdriver.support import expected_conditions as EC\n",
    "from selenium.common.exceptions import TimeoutException\n",
    "import time\n",
    "\n",
    "from num2words import num2words\n",
    "\n",
    "from collections import OrderedDict"
   ]
  },
  {
   "cell_type": "code",
   "execution_count": 9,
   "metadata": {},
   "outputs": [],
   "source": [
    "# Util method to come between state formats \n",
    "# returnType must be either 'full' 'two_digit' or 'FIPS'\n",
    "def get_state_code(input, returnType = 'FIPS'):\n",
    "    if (returnType != 'full' and returnType != 'two_digit' and returnType != 'FIPS'):\n",
    "        raise ValueError(\"returnType must be either 'full' 'two_digit' or 'FIPS'\")\n",
    "\n",
    "    code_hash = {\n",
    "        'AL': {'full': 'Alabama', 'two_digit': 'AL', 'FIPS': 1},\n",
    "        'AK': {'full': 'Alaska', 'two_digit': 'AK', 'FIPS': 2},\n",
    "        'AZ': {'full': 'Arizona', 'two_digit': 'AZ', 'FIPS': 4},\n",
    "        'AR': {'full': 'Arkansas', 'two_digit': 'AR', 'FIPS': 5},\n",
    "        'CA': {'full': 'California', 'two_digit': 'CA', 'FIPS': 6},\n",
    "        'CO': {'full': 'Colorado', 'two_digit': 'CO', 'FIPS': 8},\n",
    "        'CT': {'full': 'Connecticut', 'two_digit': 'CT', 'FIPS': 9},\n",
    "        'DE': {'full': 'Delaware', 'two_digit': 'DE', 'FIPS': 10},\n",
    "        'DC': {'full': 'District of Columbia', 'two_digit': 'DC', 'FIPS': 11},\n",
    "        'FL': {'full': 'Florida', 'two_digit': 'FL', 'FIPS': 12},\n",
    "        'GA': {'full': 'Georgia', 'two_digit': 'GA', 'FIPS': 13},\n",
    "        'HI': {'full': 'Hawaii', 'two_digit': 'HI', 'FIPS': 15},\n",
    "        'ID': {'full': 'Idaho', 'two_digit': 'ID', 'FIPS': 16},\n",
    "        'IL': {'full': 'Illinois', 'two_digit': 'IL', 'FIPS': 17},\n",
    "        'IN': {'full': 'Indiana', 'two_digit': 'IN', 'FIPS': 18},\n",
    "        'IA': {'full': 'Iowa', 'two_digit': 'IA', 'FIPS': 19},\n",
    "        'KS': {'full': 'Kansas', 'two_digit': 'KS', 'FIPS': 20},\n",
    "        'KY': {'full': 'Kentucky', 'two_digit': 'KY', 'FIPS': 21},\n",
    "        'LA': {'full': 'Louisiana', 'two_digit': 'LA', 'FIPS': 22},\n",
    "        'ME': {'full': 'Maine', 'two_digit': 'ME', 'FIPS': 23},\n",
    "        'MD': {'full': 'Maryland', 'two_digit': 'MD', 'FIPS': 24},\n",
    "        'MA': {'full': 'Massachusetts', 'two_digit': 'MA', 'FIPS': 25},\n",
    "        'MI': {'full': 'Michigan', 'two_digit': 'MI', 'FIPS': 26},\n",
    "        'MN': {'full': 'Minnesota', 'two_digit': 'MN', 'FIPS': 27},\n",
    "        'MS': {'full': 'Mississippi', 'two_digit': 'MS', 'FIPS': 28},\n",
    "        'MO': {'full': 'Missouri', 'two_digit': 'MO', 'FIPS': 29},\n",
    "        'MT': {'full': 'Montana', 'two_digit': 'MT', 'FIPS': 30},\n",
    "        'NE': {'full': 'Nebraska', 'two_digit': 'NE', 'FIPS': 31},\n",
    "        'NV': {'full': 'Nevada', 'two_digit': 'NV', 'FIPS': 32},\n",
    "        'NH': {'full': 'New Hampshire', 'two_digit': 'NH', 'FIPS': 33},\n",
    "        'NJ': {'full': 'New Jersey', 'two_digit': 'NJ', 'FIPS': 34},\n",
    "        'NM': {'full': 'New Mexico', 'two_digit': 'NM', 'FIPS': 35},\n",
    "        'NY': {'full': 'New York', 'two_digit': 'NY', 'FIPS': 36},\n",
    "        'NC': {'full': 'North Carolina', 'two_digit': 'NC', 'FIPS': 37},\n",
    "        'ND': {'full': 'North Dakota', 'two_digit': 'ND', 'FIPS': 38},\n",
    "        'OH': {'full': 'Ohio', 'two_digit': 'OH', 'FIPS': 39},\n",
    "        'OK': {'full': 'Oklahoma', 'two_digit': 'OK', 'FIPS': 40},\n",
    "        'OR': {'full': 'Oregon', 'two_digit': 'OR', 'FIPS': 41},\n",
    "        'PA': {'full': 'Pennsylvania', 'two_digit': 'PA', 'FIPS': 42},\n",
    "        'RI': {'full': 'Rhode Island', 'two_digit': 'RI', 'FIPS': 44},\n",
    "        'SC': {'full': 'South Carolina', 'two_digit': 'SC', 'FIPS': 45},\n",
    "        'SD': {'full': 'South Dakota', 'two_digit': 'SD', 'FIPS': 46},\n",
    "        'TN': {'full': 'Tennessee', 'two_digit': 'TN', 'FIPS': 47},\n",
    "        'TX': {'full': 'Texas', 'two_digit': 'TX', 'FIPS': 48},\n",
    "        'UT': {'full': 'Utah', 'two_digit': 'UT', 'FIPS': 49},\n",
    "        'VT': {'full': 'Vermont', 'two_digit': 'VT', 'FIPS': 50},\n",
    "        'VA': {'full': 'Virginia', 'two_digit': 'VA', 'FIPS': 51},\n",
    "        'WA': {'full': 'Washington', 'two_digit': 'WA', 'FIPS': 53},\n",
    "        'WV': {'full': 'West Virginia', 'two_digit': 'WV', 'FIPS': 54},\n",
    "        'WI': {'full': 'Wisconsin', 'two_digit': 'WI', 'FIPS': 55},\n",
    "        'WY': {'full': 'Wyoming', 'two_digit': 'WY', 'FIPS': 56},\n",
    "        'PR': {'full': 'Puerto Rico', 'two_digit': 'PR', 'FIPS': 72}\n",
    "    }\n",
    "    for row in code_hash:\n",
    "        for value in code_hash[row]:\n",
    "            if code_hash[row][value] == input:\n",
    "                return code_hash[row][returnType]\n",
    "    return None"
   ]
  },
  {
   "cell_type": "code",
   "execution_count": 103,
   "metadata": {},
   "outputs": [],
   "source": [
    "def get_ballotpedia_page(district):\n",
    "    ballotpedia = 'https://ballotpedia.org/'\n",
    "    ballotpedia += get_state_code(district[0:2], returnType='full') + '_'\n",
    "    district_name = district[6:]\n",
    "    # deal with annoying MA districts *** still not working for all --> just dont scrape MA\n",
    "    district_name = district[6:]\n",
    "    if len(district_name) > 3:\n",
    "        i = 0\n",
    "        while district_name[i] in ['0','1','2','3','4','5','6','7','8','9']:\n",
    "            i += 1\n",
    "        if i > 0:\n",
    "            num_str = district_name[0:i]\n",
    "            # use to='ordinal' parameter if '-nd' '-rd' etc wanted automatically\n",
    "            num_words = num2words(num_str, to='ordinal').capitalize()\n",
    "            name_str = district_name[i:].replace('th ', ' ').replace('st ', ' ').replace('nd ', ' ').replace('rd ', ' ')\n",
    "            dist_str = (num_words + name_str).replace(' ', '_')\n",
    "            ballotpedia += 'House_of_Representatives_' if (district[3:5] == 'HD') else 'State_Senate_'\n",
    "            ballotpedia += dist_str + '_District'\n",
    "            return(ballotpedia)\n",
    "    \n",
    "    # all non MA districts\n",
    "    if district[0:2] == 'WI':\n",
    "        ballotpedia += 'State_Assembly_District_' if (district[3:5] == 'HD') else 'State_Senate_District_'\n",
    "    else:\n",
    "        ballotpedia += 'House_of_Representatives_District_' if (district[3:5] == 'HD') else 'State_Senate_District_'\n",
    "    district_name = district[6:]\n",
    "    while (district_name[0] == '0'):\n",
    "        district_name = district_name[1:]\n",
    "    ballotpedia += district_name.replace(' ', '_').replace('&','%26')\n",
    "\n",
    "    return ballotpedia\n"
   ]
  },
  {
   "cell_type": "code",
   "execution_count": 54,
   "metadata": {
    "tags": []
   },
   "outputs": [
    {
     "output_type": "execute_result",
     "data": {
      "text/plain": "'https://ballotpedia.org/North Carolina_House_of_Representatives_District_113'"
     },
     "metadata": {},
     "execution_count": 54
    }
   ],
   "source": [
    "# th st nd rd \n",
    "get_ballotpedia_page('NC-HD-113')"
   ]
  },
  {
   "cell_type": "code",
   "execution_count": 56,
   "metadata": {},
   "outputs": [
    {
     "output_type": "execute_result",
     "data": {
      "text/plain": "'https://ballotpedia.org/Minnesota_State_Senate_District_5'"
     },
     "metadata": {},
     "execution_count": 56
    }
   ],
   "source": [
    "get_ballotpedia_page(\"MN-SD-05\")"
   ]
  },
  {
   "cell_type": "code",
   "execution_count": null,
   "metadata": {},
   "outputs": [],
   "source": []
  },
  {
   "cell_type": "code",
   "execution_count": 12,
   "metadata": {},
   "outputs": [],
   "source": [
    "moneyball_dir = Path.cwd() "
   ]
  },
  {
   "cell_type": "code",
   "execution_count": 13,
   "metadata": {},
   "outputs": [],
   "source": [
    "# setup dataframe to store data as its scraped\n",
    "df = pd.read_csv(moneyball_dir / 'processed_data_8_11.csv')\n",
    "df = df[['state', 'district', 'rep_nominee', 'dem_nominee', 'incumbent']]\n",
    "df = pd.concat([df, pd.DataFrame(columns=['r_cand', 'd_cand', 'y_cand', 'y_cand_party', 'r_cand_b_link', 'd_cand_b_link', 'y_cand_b_link', 'r_cand_p_link', 'd_cand_p_link', 'y_cand_p_link' ])])"
   ]
  },
  {
   "cell_type": "code",
   "execution_count": 61,
   "metadata": {},
   "outputs": [
    {
     "output_type": "execute_result",
     "data": {
      "text/plain": "  state   district        rep_nominee          dem_nominee incumbent r_cand  \\\n0    TX  TX-HD-112  Angie Chen Button      Brandy Chambers         R    NaN   \n1    TX   TX-HD-26       Jacey Jetton  L. Sarah DeMerchant      Open    NaN   \n2    TX   TX-HD-66       Matt Shaheen        Sharon Hirsch         R    NaN   \n3    TX   TX-HD-67         Jeff Leach      Lorenzo Sanchez         R    NaN   \n4    TX   TX-HD-96         David Cook            Joe Drago      Open    NaN   \n\n  d_cand y_cand y_cand_party r_cand_b_link d_cand_b_link y_cand_b_link  \\\n0    NaN    NaN          NaN           NaN           NaN           NaN   \n1    NaN    NaN          NaN           NaN           NaN           NaN   \n2    NaN    NaN          NaN           NaN           NaN           NaN   \n3    NaN    NaN          NaN           NaN           NaN           NaN   \n4    NaN    NaN          NaN           NaN           NaN           NaN   \n\n  r_cand_p_link d_cand_p_link y_cand_p_link  \n0           NaN           NaN           NaN  \n1           NaN           NaN           NaN  \n2           NaN           NaN           NaN  \n3           NaN           NaN           NaN  \n4           NaN           NaN           NaN  ",
      "text/html": "<div>\n<style scoped>\n    .dataframe tbody tr th:only-of-type {\n        vertical-align: middle;\n    }\n\n    .dataframe tbody tr th {\n        vertical-align: top;\n    }\n\n    .dataframe thead th {\n        text-align: right;\n    }\n</style>\n<table border=\"1\" class=\"dataframe\">\n  <thead>\n    <tr style=\"text-align: right;\">\n      <th></th>\n      <th>state</th>\n      <th>district</th>\n      <th>rep_nominee</th>\n      <th>dem_nominee</th>\n      <th>incumbent</th>\n      <th>r_cand</th>\n      <th>d_cand</th>\n      <th>y_cand</th>\n      <th>y_cand_party</th>\n      <th>r_cand_b_link</th>\n      <th>d_cand_b_link</th>\n      <th>y_cand_b_link</th>\n      <th>r_cand_p_link</th>\n      <th>d_cand_p_link</th>\n      <th>y_cand_p_link</th>\n    </tr>\n  </thead>\n  <tbody>\n    <tr>\n      <th>0</th>\n      <td>TX</td>\n      <td>TX-HD-112</td>\n      <td>Angie Chen Button</td>\n      <td>Brandy Chambers</td>\n      <td>R</td>\n      <td>NaN</td>\n      <td>NaN</td>\n      <td>NaN</td>\n      <td>NaN</td>\n      <td>NaN</td>\n      <td>NaN</td>\n      <td>NaN</td>\n      <td>NaN</td>\n      <td>NaN</td>\n      <td>NaN</td>\n    </tr>\n    <tr>\n      <th>1</th>\n      <td>TX</td>\n      <td>TX-HD-26</td>\n      <td>Jacey Jetton</td>\n      <td>L. Sarah DeMerchant</td>\n      <td>Open</td>\n      <td>NaN</td>\n      <td>NaN</td>\n      <td>NaN</td>\n      <td>NaN</td>\n      <td>NaN</td>\n      <td>NaN</td>\n      <td>NaN</td>\n      <td>NaN</td>\n      <td>NaN</td>\n      <td>NaN</td>\n    </tr>\n    <tr>\n      <th>2</th>\n      <td>TX</td>\n      <td>TX-HD-66</td>\n      <td>Matt Shaheen</td>\n      <td>Sharon Hirsch</td>\n      <td>R</td>\n      <td>NaN</td>\n      <td>NaN</td>\n      <td>NaN</td>\n      <td>NaN</td>\n      <td>NaN</td>\n      <td>NaN</td>\n      <td>NaN</td>\n      <td>NaN</td>\n      <td>NaN</td>\n      <td>NaN</td>\n    </tr>\n    <tr>\n      <th>3</th>\n      <td>TX</td>\n      <td>TX-HD-67</td>\n      <td>Jeff Leach</td>\n      <td>Lorenzo Sanchez</td>\n      <td>R</td>\n      <td>NaN</td>\n      <td>NaN</td>\n      <td>NaN</td>\n      <td>NaN</td>\n      <td>NaN</td>\n      <td>NaN</td>\n      <td>NaN</td>\n      <td>NaN</td>\n      <td>NaN</td>\n      <td>NaN</td>\n    </tr>\n    <tr>\n      <th>4</th>\n      <td>TX</td>\n      <td>TX-HD-96</td>\n      <td>David Cook</td>\n      <td>Joe Drago</td>\n      <td>Open</td>\n      <td>NaN</td>\n      <td>NaN</td>\n      <td>NaN</td>\n      <td>NaN</td>\n      <td>NaN</td>\n      <td>NaN</td>\n      <td>NaN</td>\n      <td>NaN</td>\n      <td>NaN</td>\n      <td>NaN</td>\n    </tr>\n  </tbody>\n</table>\n</div>"
     },
     "metadata": {},
     "execution_count": 61
    }
   ],
   "source": [
    "df.head()"
   ]
  },
  {
   "cell_type": "code",
   "execution_count": 132,
   "metadata": {
    "tags": [
     "outputPrepend"
    ]
   },
   "outputs": [
    {
     "output_type": "stream",
     "name": "stdout",
     "text": "Site: https://www.ginnyforga20.com/\nName: Charlice Byrd Party: R Site: https://charlicebyrd.com/\ndistrict: GA-HD-46\nName: John Carson Party: R Site: https://www.votejohncarson.com/\nName: Caroline Holko Party: D Site: http://www.carolineholko.com/\ndistrict: KS-SD-1\nName: Dennis Pyle Party: R Site: \nName: Kirk Miller Party: D Site: \ndistrict: CT-HD-115\nName: Dorinda Keenan Borer Party: D Site: \ndistrict: MN-HD-05B\nName: Joe Abeyta Party: D Site: https://joeabeytaforstaterep.com/\nName: Spencer Igo Party: R Site: https://spencerigo.com/\ndistrict: CT-HD-126\nName: Charlie Stallworth Party: D Site: https://www.charliestallworth.com/\nName: Lee Grisby II Party: R Site: \ndistrict: WI-HD-95\nName: Jill Billings Party: D Site: \nName: Jerome Gundersen Party: R Site: \ndistrict: NV-HD-31\ndistrict: GA-HD-122\nName: Jodi Lott Party: R Site: \nName: Doris Crutchfield Party: D Site: \ndistrict: NV-HD-9\ndistrict: CT-HD-146\nName: David Michel Party: D Site: \nName: George Hallenbeck Party: R Site: \ndistrict: SC-SD-16\nName: Ramin Mammadov Party: D Site: https://ramforscsenate.com/\nName: Michael Johnson Party: R Site: https://www.michaeljohnsonforsenate.com/\ndistrict: GA-HD-144\nName: Danny Mathis Party: R Site: \nName: Mary Whipple-Lue Party: D Site: \ndistrict: CT-HD-100\nName: Quentin Phipps Party: D Site: \nName: Anthony Gennaro Party: R Site: \ndistrict: PA-HD-155\nName: Danielle Friel Otten Party: D Site: http://danielle4pa.com/\nName: Michael Taylor Party: R Site: \ndistrict: GA-HD-45\nName: Matt Dollar Party: R Site: http://mattdollar.com/\nName: Sara Ghazal Party: D Site: https://www.ghazalforgeorgia.com/\ndistrict: GA-HD-71\nName: Philip Singleton Party: R Site: https://www.philipsingleton.com/\nName: Jill Prouty Party: D Site: https://jillforgeorgia.com/\ndistrict: GA-HD-73\nName: Karen Mathiak Party: R Site: https://weneedkaren.com/\nName: William Harris Party: D Site: https://williamharris2020.com/\ndistrict: CT-HD-92\nName: Patricia Dillon Party: D Site: \ndistrict: PA-HD-137\nName: Joe Emrick Party: R Site: \nName: Katelind Brennan Party: D Site: \ndistrict: GA-HD-33\nName: Kerry Hamm Party: D Site: \nName: Rob Leverett Party: R Site: https://www.voterobleverett.com/\ndistrict: GA-HD-170\nName: Penny Houston Party: R Site: \nName: Andre Oliver Party: D Site: https://www.electandreoliverstaterepresentative-district170.com/\ndistrict: WI-SD-30\nName: Jonathon Hansen Party: D Site: https://www.hansenforwisconsin.com/\nName: Eric Wimberger Party: R Site: https://www.ericwimberger.com/\ndistrict: GA-HD-16\nName: Trey Kelley Party: R Site: http://www.kelleyforhouse.com/\nName: Lyndsay Arrendale Party: D Site: https://www.votearrendale.com/\ndistrict: PA-SD-45\nName: James Brewster Party: D Site: https://www.brewster4senate.com/\nName: Nicole Ziccarelli Party: R Site: https://www.nicoleziccarelli.com/\ndistrict: KY-HD-45\nName: Shirley Mitchell Party: D Site: https://www.shirleyforkentucky.com/\nName: Killian Timoney Party: R Site: \ndistrict: GA-HD-72\nName: Josh Bonner Party: R Site: https://www.bonnerforstatehouse.com/\nName: Fred Rovner Party: D Site: https://fredrovnerforgeorgia.com\ndistrict: MN-HD-37A\nName: Erin Koegel Party: D Site: http://erinformn.com/\nName: Ken Wendling Party: R Site: https://wendlingforhouse.com/\ndistrict: WI-HD-55\nName: Dan Schierl Party: D Site: https://www.schierlforassembly.com/\nName: Rachael Cabral-Guevara Party: R Site: https://rachaelforassembly.com/\ndistrict: GA-HD-115\nName: Bruce Williamson Party: R Site: https://williamsonforwalton.wordpress.com/\nName: Debbie Reed Party: D Site: \ndistrict: GA-HD-155\nName: Clay Pirkle Party: R Site: http://claypirkle.com/\nName: Lethia Kittrell Party: D Site: https://www.kittrellvote2020.com/\ndistrict: GA-HD-169\nName: Dominic LaRiccia Party: R Site: \nName: Michael Moore Party: D Site: \ndistrict: CT-HD-93\nName: Toni Walker Party: D Site: \ndistrict: GA-HD-68\nName: J. Collins Party: R Site: \ndistrict: GA-HD-158\nName: Larry Parrish Party: R Site: \nName: Ann P.D. Gleason Party: D Site: https://www.annpdgleasonforga.com/\ndistrict: GA-HD-50\nName: Angelika Kausche Party: D Site: https://www.angelikaforgeorgia.com/\nName: Jay Lin Party: R Site: https://www.jaylinforga.com/\ndistrict: GA-HD-17\nName: Martin Momtahan Party: R Site: https://martinmomtahan.gop/\nName: Q. Dailey Party: D Site: \ndistrict: GA-HD-129\nName: Susan Holmes Party: R Site: \nName: Sharonda Bell Party: D Site: \nName: Joe Reed Party: INDEPENDENT Site: https://www.joereed4gastatehouse.com\ndistrict: GA-HD-130\nName: David Knight Party: R Site: http://www.davidknightforgeorgia.com/\nName: Sheila Henley Party: D Site: \ndistrict: GA-HD-18\nName: Pat Rhudy Party: D Site: https://sites.google.com/site/electpatrhudy/home\nName: Tyler Smith Party: R Site: https://smithforhouse.com/\ndistrict: WI-HD-62\nName: Robert Wittke Party: R Site: \nName: August Schutz Party: D Site: https://www.augustforassembly.com/\ndistrict: GA-HD-22\nName: Wes Cantrell Party: R Site: https://cantrellforhouse.com/\nName: Charles Ravenscraft Party: D Site: https://ravenscraftforhd22.com/\ndistrict: PA-HD-50\nName: Pam Snyder Party: D Site: https://votepamsnyder.com/\nName: Larry Yost Party: R Site: https://www.voteyost2020.com/\ndistrict: CT-HD-72\nName: Larry Butler Party: D Site: \nName: Vernon Matthews Party: R Site: \ndistrict: GA-HD-12\nName: Eddie Lumsden Party: R Site: \nName: Jonathan Gilreath-Harvey Party: D Site: \ndistrict: WI-HD-85\nName: Patrick Snyder Party: R Site: http://www.patsnyderfor85th.com/\nName: Jeff Johnson Party: D Site: https://johnsonforwisconsin.com/\ndistrict: WI-HD-76\nName: Francesca Hong Party: D Site: https://www.hong4assembly.com/\nName: Patrick Hull Party: R Site: \ndistrict: CT-HD-20\nName: Kate Farrar Party: D Site: https://www.kateforct.com/\nName: Alberto Cortes Party: R Site: https://alcortes2020.com/\ndistrict: CT-HD-144\nName: Caroline Simmons Party: D Site: \nName: Barry Michelson Party: R Site: \ndistrict: GA-HD-148\nName: Noel Williams Jr. Party: R Site: \nName: Regina Awung Party: D Site: http://supportforreginaawung.com/\ndistrict: OR-HD-29\nName: Susan McLain Party: D Site: http://www.susanmclain.org/\nName: Dale Fishback Party: R Site: https://fishpac29.org/\ndistrict: CT-HD-39\nName: Anthony Nolan Party: D Site: \nName: Kat Goulart Party: R Site: \ndistrict: GA-HD-112\nName: Dave Belton Party: R Site: \nName: Dr. Malcolm Adams Party: D Site: \ndistrict: MN-HD-48A\nName: Laurie Pryor Party: D Site: http://lauriepryor.org/\nName: Eric Wessels Party: R Site: https://ericwesselsformnhouse.com/\ndistrict: CT-HD-97\nName: Alphonse Paolillo Party: D Site: \nName: Erin Reilly Party: R Site: https://erinforct.org/\ndistrict: PA-HD-15\nName: Joshua Kail Party: R Site: https://www.joshkail.com/\nName: Robert Williams Party: D Site: https://www.williamsforpa15.com/\ndistrict: GA-HD-32\nName: Alan Powell Party: R Site: \nName: Alisha Allen Party: D Site: \ndistrict: CT-HD-26\nName: Peter Tercyak Party: D Site: \nName: Piotr Ceglarz Party: R Site: \ndistrict: GA-HD-131\nName: Chris Benton Party: D Site: \nName: Beth Camp Party: R Site: https://campforgeorgia.com/\ndistrict: GA-HD-102\nName: Gregg Kennard Party: D Site: https://rep-greggkennard.com/\nName: Soo Hong Party: R Site: https://www.hongforgeorgia.com/\ndistrict: GA-HD-11\nName: Rick Jasperse Party: R Site: https://www.rickjasperse.org/\nName: Kayla Hollifield Party: D Site: https://hollifieldforhouse.com/\ndistrict: GA-HD-180\nName: Steven Sainz Party: R Site: http://stevensainz.com/\ndistrict: GA-HD-10\nName: Nick Mitchell Party: D Site: \nName: Victor Anderson Party: R Site: \ndistrict: CT-SD-4\nName: Steve Cassano Party: D Site: https://www.cassano2020.com/\nName: Matthew Corey Party: R Site: http://www.coreyforsenate.com/\ndistrict: CT-HD-11\nName: Jeffrey Currey Party: D Site: \nName: Matt Harper Party: R Site: https://mattharper2020.com/\ndistrict: CT-HD-121\nName: Joe Gresko Party: D Site: \nName: Edward Scinto Party: R Site: \ndistrict: GA-HD-176\nName: James Burchett Party: R Site: http://jamesdburchett.com/\nName: Evans Primus Jr. Party: D Site: https://evansprimusjr.net/\ndistrict: NV-HD-29\ndistrict: GA-HD-69\nName: Randy Nix Party: R Site: \nName: Herbert Giles Party: D Site: https://www.herbertgiles.com/\ndistrict: FL-HD-95\ndistrict: CT-HD-133\nName: Cristin Vahey Party: D Site: https://cristinmccarthyvahey.com/\nName: Joanne Romano-Csonka Party: R Site: https://www.romanocsonka133.net/\ndistrict: GA-HD-31\nName: Thomas Benton Party: R Site: http://www.tommybenton.com/\nName: Pete Fuller Party: D Site: https://fullerforgeorgia.com/\ndistrict: NM-SD-31\nName: Joseph Cervantes Party: D Site: https://www.joe4nm.com/\nName: John Roberts Party: R Site: \ndistrict: CT-HD-137\nName: Chris Perone Party: D Site: \nName: Ellen Wink Party: R Site: \ndistrict: NM-SD-3\nName: Shannon Pinto Party: D Site: \nName: Arthur Allison Party: R Site: \ndistrict: FL-HD-87\nName: David Silvers Party: D Site: https://www.votedavidsilvers.com/\nName: Herb Sennett Party: R Site: https://www.candidateherbsennettflorida87.com/\ndistrict: GA-HD-134\nName: Richard H. Smith Party: R Site: \nName: Carl Sprayberry Party: D Site: \ndistrict: GA-HD-54\nName: Betsy Holland Party: D Site: https://betsyforgeorgia.com/\nName: Lyndsey Rudder Party: R Site: https://www.voterudder.com\ndistrict: CT-HD-109\nName: David Arconti, Jr. Party: D Site: \nName: Michael Henry Party: R Site: https://sites.google.com/view/electmikehenry109/home\ndistrict: MN-HD-26B\nName: Nels Pierson Party: R Site: http://www.nels.com/\nName: Randy Brock Party: D Site: https://randybrock.mn/\ndistrict: KY-HD-96\nName: Kathy Hinkle Party: D Site: https://www.hinkleforkentucky.com\nName: Patrick Flannery Party: R Site: \ndistrict: CT-HD-18\nName: Jillian Gilchrest Party: D Site: http://www.jilliangilchrest.com/\nName: Rick Bush Party: R Site: \ndistrict: NV-HD-34\ndistrict: FL-HD-96\nName: Christine Hunschofsky Party: D Site: https://www.christineforflorida.com/\nName: Muhammad Amin Party: INDEPENDENT (WRITE-IN Site: \ndistrict: GA-HD-7\nName: David Ralston Party: R Site: http://voteralston.com/\nName: Rick Day Party: D Site: \ndistrict: KS-SD-25\nName: Mary Ware Party: D Site: https://www.wareforkansas.com/\nName: Vail Fruechting Party: R Site: \ndistrict: CT-HD-10\nName: Henry Genga Party: D Site: \ndistrict: NM-SD-22\nName: Benny Shendo Party: D Site: \nName: Susan Aguayo Party: R Site: https://susan4nmsenate.com/\ndistrict: CT-HD-96\nName: Roland J. Lemar Party: D Site: \nName: Eric Mastroianni Party: R Site: \ndistrict: GA-HD-179\nName: Don Hogan Party: R Site: \nName: Julie Jordan Party: D Site: https://www.julieforgeorgia.com/\ndistrict: NM-SD-14\nName: Michael Padilla Party: D Site: http://votepadilla.com/\nName: Mary Ingham Party: R Site: \ndistrict: NM-SD-26\nName: Jacob Candelaria Party: D Site: http://jacobcandelaria.com/\nName: Manuel Lardizabal Party: R Site: \ndistrict: MN-HD-57A\nName: Robert Bierman Party: D Site: https://www.electrobertbierman.com/\nName: Megan Olson Party: R Site: https://www.votemeganolson.com/\ndistrict: GA-HD-108\nName: Jasmine Clark Party: D Site: https://www.jasmineclarkforgeorgia.com/\nName: Johnny Crist Party: R Site: https://www.johnnycristforgeorgia.com/\ndistrict: GA-HD-9\nName: Sharon Ravert Party: D Site: http://www.electsharonravert.com/\nName: Will Wade Party: R Site: https://www.votewillwade.com/\ndistrict: GA-HD-8\nName: Dave Cooper Party: D Site: https://www.davecooper4georgia.com/\nName: Stan Gunter Party: R Site: https://stangunterforgeorgia.com/\ndistrict: CT-HD-136\nName: Jonathan Steinberg Party: D Site: \nName: Chip Stephens Party: R Site: \ndistrict: NM-SD-12\nName: Jerry Ortiz y Pino Party: D Site: \nName: Lisa Meyer-Hagen Party: R Site: https://lisaforsenatedistrict12.com/\ndistrict: NM-SD-24\nName: Nancy Rodriguez Party: D Site: \nName: Leighton Cornish Party: R Site: https://www.cornishnm.com/\nName: Scott Milenski Party: L Site: \ndistrict: CT-HD-5\nName: Brandon McGee Party: D Site: \nName: Charles Jackson Party: R Site: \ndistrict: GA-HD-37\nName: Mary Frances Williams Party: D Site: https://maryfranceswilliams.com/\nName: Rose Wing Party: R Site: https://www.rosewingforgeorgia.com/\ndistrict: KS-SD-13\nName: Richard Hilderbrand Party: R Site: http://www.richardhilderbrand.com\nName: Nancy Ingle Party: D Site: http://nancyingleforstatesenate.com/\ndistrict: NM-SD-38\nName: Carrie Hamblen Party: D Site: https://hamblennmsenate38.com/\nName: Charles Wendler Party: R Site: \ndistrict: KS-SD-17\nName: Jeff Longbine Party: R Site: http://www.jefflongbine.com/\nName: Stephen Vecchione Party: D Site: \ndistrict: CT-HD-12\nName: Geoff Luxenberg Party: D Site: \ndistrict: KY-HD-39\nName: Carolyn Dupont Party: D Site: https://dupontky.com/\nName: Matt Lockett Party: R Site: https://www.lockett4ky.com/\ndistrict: GA-HD-166\nName: Jesse Petrea Party: R Site: https://www.jessepetrea.com/\nName: Michael Mack Party: D Site: \ndistrict: CT-HD-9\nName: Jason Rojas Party: D Site: \nName: Cathy Hopperstad Party: R Site: https://www.electhopperstad2020.com/\ndistrict: NM-SD-4\nName: George Munoz Party: D Site: https://munozfornm.com/\nName: Angela Olive Party: R Site: https://oliveusfornm.wixsite.com/mysite\ndistrict: KY-HD-6\nName: Chris Freeland Party: R Site: \nName: Al Cunningham Party: D Site: https://www.alcunningham.com/\ndistrict: FL-HD-107\ndistrict: FL-HD-108\ndistrict: FL-HD-109\ndistrict: NC-SD-10\nName: Brent Jackson Party: R Site: http://www.brentjacksonforsenate.com\nName: Vernon Moore Party: D Site: \ndistrict: FL-HD-117\ndistrict: KY-HD-72\nName: Matthew Koch Party: R Site: https://kochforkentucky.com\nName: Todd Neace Party: D Site: https://toddneace4ky.com/\ndistrict: MN-HD-19B\nName: Luke Frederick Party: D Site: https://frederickforhouse.com/\nName: Jeremy Loger Party: R Site: \ndistrict: NM-SD-29\nName: Gregory Baca Party: R Site: http://bacaforsenatenm.com/\nName: Paul Baca Party: D Site: https://paul4nm.com/\ndistrict: CT-HD-41\nName: Joe de la Cruz Party: D Site: \nName: Alexander Antipas Party: R Site: \ndistrict: GA-HD-51\nName: Josh McLaurin Party: D Site: http://www.joshforgeorgia.com/\nName: Alex Kaufman Party: R Site: https://www.votealexkaufman.com/\ndistrict: PA-HD-88\nName: Sheryl Delozier Party: R Site: \nName: Tara Shakespeare Party: D Site: https://www.taraforpa.com/\ndistrict: NM-SD-16\nName: Antoinette Sedillo Lopez Party: D Site: https://sites.google.com/view/antoinette-sedillo-lopez/home?authuser=0\nName: Chelsea Flanders Party: R Site: http://chelseafornmsenate.com/\ndistrict: MN-HD-20B\nName: Todd Lippert Party: D Site: https://toddlippert.com/\nName: Joe Moravchik Party: R Site: https://www.joeformnhouse.com/\ndistrict: CT-HD-46\nName: Emmett Riley Party: D Site: \nName: Robert Bell Party: R Site: https://robertbell2020.com/\ndistrict: KY-HD-47\nName: Jack Couch Party: D Site: \nName: Felicia Rabourn Party: R Site: https://www.rabournforkentucky.com/\ndistrict: NM-SD-6\nName: Roberto Gonzales Party: D Site: \ndistrict: FL-HD-99\ndistrict: CT-HD-49\nName: Susan Johnson Party: D Site: \ndistrict: WI-HD-24\nName: Daniel Knodl Party: R Site: http://danknodl.com\nName: Emily Siegrist Party: D Site: https://www.emilysiegristforwi.com\ndistrict: NM-SD-8\nName: Pete Campos Party: D Site: http://petecampos.com/site/\nName: Melissa Fryzel Party: R Site: https://www.melissafornm.com/\ndistrict: FL-HD-101\nName: Vincent Parlatore Party: R Site: \ndistrict: NM-SD-13\nName: William O'Neill Party: D Site: \nName: Michaela Chavez Party: R Site: \nName: Frederick Snoy II Party: L Site: \ndistrict: NM-SD-5\nName: Leo Jaramillo Party: D Site: https://www.leojaramillo.com/\nName: Diamantina Storment Party: R Site: \nName: Lee Weinland Party: L Site: \ndistrict: CT-HD-19\nName: Tammy Exum Party: D Site: \ndistrict: CT-HD-98\nName: Sean Scanlon Party: D Site: \ndistrict: WI-HD-21\nName: Jessie Rodriguez Party: R Site: https://www.jessieforassembly.com/\nName: Erik Brooks Party: D Site: https://brooksforassembly.com\ndistrict: CT-HD-33\nName: Brandon Chafee Party: D Site: https://www.brandonchafee.com/\nName: Linda Szynkowicz Party: R Site: https://szynkowicz2020.com/\ndistrict: FL-HD-92\nName: Patricia Hawkins-Williams Party: D Site: \nName: Nancy St. Clair Party: NONPARTISAN Site: https://electnancystclair.com\ndistrict: FL-HD-46\ndistrict: CT-HD-91\nName: Michael D'Agostino Party: D Site: \nName: Thomas Figlar Party: R Site: \ndistrict: FL-HD-62\nName: Susan Valdes Party: D Site: https://www.valdes4house62.com/\nName: Angel Urbina Party: R Site: https://www.angelsurbina.com/\nName: Laurie Rodriguez-Person Party: INDEPENDENT Site: \ndistrict: NC-SD-7\nName: Jim Perry Party: R Site: https://jimperrync.com\nName: Donna Lake Party: D Site: https://www.donnalake2020.com/\ndistrict: NC-SD-46\nName: Warren Daniel Party: R Site: http://www.danielforsenate.com/\nName: Edward Phifer III Party: D Site: https://www.electedwardphifer4ncsenate.com/\ndistrict: KS-SD-11\nName: Joy Koesten Party: D Site: https://www.joykoesten.com\nName: Kellie Warren Party: R Site: https://kelliewarrenforsenate.com\ndistrict: NC-SD-35\nName: Todd Johnson Party: R Site: https://www.votetoddjohnson.com\nName: Jose Santiago Party: D Site: \ndistrict: KY-HD-58\nName: Will Barnett Party: D Site: https://www.votewillbarnett.org/\nName: Jennifer Decker Party: R Site: https://jenniferhensondecker.com/\ndistrict: NC-SD-13\nName: Danny Earl Britt Party: R Site: https://www.britt4senate.com\nName: Barbara Yates-Lockamy Party: D Site: \ndistrict: NC-SD-42\nName: H. Dean Proctor Party: R Site: \nName: Tina Miles Party: D Site: \ndistrict: FL-HD-102\nName: Felicia Simone Robinson Party: D Site: https://electfeliciarobinson.com/\ndistrict: KY-HD-73\nName: Kenneth Blair Party: D Site: \nName: Ryan Dotson Party: R Site: \ndistrict: CT-HD-88\nName: Joshua Elliott Party: D Site: \nName: Kathleen Hoyt Party: R Site: https://www.hoytforhamden.com/\ndistrict: FL-HD-94\ndistrict: PA-HD-58\nName: Eric Davanzo Party: R Site: \nName: Robert Prah Jr. Party: D Site: https://www.prahfor58.com/\ndistrict: NC-SD-29\nName: Duskin Lassiter Party: D Site: \nName: Steven Jarvis Party: R Site: \ndistrict: FL-HD-97\ndistrict: MN-HD-04B\nName: Paul Marquart Party: D Site: \nName: Brian Anderson Party: R Site: \ndistrict: FL-HD-88\nName: Omari Hardy Party: D Site: https://omarihardy.com/\nName: Danielle Madsen Party: R Site: https://www.danielleforfloridahouse.com/\nName: Rubin Anderson Party: INDEPENDENT Site: https://racampaign.weebly.com/\ndistrict: NC-SD-47\nName: Ralph Hise Party: R Site: http://ralphhise.com\nName: David Wheeler Party: D Site: http://wheelernc.com/\ndistrict: NC-SD-12\nName: Jim Burgin Party: R Site: https://www.burginforsenate.com\nName: John Kirkman Party: D Site: \ndistrict: PA-SD-19\nName: Carolyn Comitta Party: D Site: https://www.votecarolyncomitta.com/\nName: Kevin Runey Party: R Site: \ndistrict: NC-SD-44\nName: Ted Alexander Party: R Site: http://tedforsenate.com\nName: David Lee Lattimore Party: D Site: \ndistrict: MN-HD-38A\nName: Kris Fredrick Party: D Site: http://voteforkris.com\nName: Donald Raleigh Party: R Site: https://donaldraleigh.com/\ndistrict: KY-HD-33\nName: Jason Michael Nemes Party: R Site: http://www.jasonnemes.com\nName: Margaret Plattner Party: D Site: https://www.plattnerforkyrep.com/\ndistrict: FL-HD-98\nName: Michael Gottlieb Party: D Site: \nName: Joseph Cruz Party: R Site: \ndistrict: CT-HD-15\nName: Bobby Gibson Party: D Site: \ndistrict: MN-HD-50B\nName: Andrew Carlson Party: D Site: http://andrewcarlsonforstaterep.com/index.html\nName: Gary Heyer Party: R Site: https://www.votegaryheyer.com/\ndistrict: NV-HD-11\ndistrict: NC-SD-48\nName: Chuck Edwards Party: R Site: https://www.chuckedwardsnc.com\nName: Brian Caskey Party: D Site: https://www.briancaskey.com/\ndistrict: NC-SD-43\nName: Kathy Harrington Party: R Site: https://www.harringtonforncsenate.com\nName: William Young Party: D Site: \ndistrict: FL-HD-61\nName: Dianne Hart Party: D Site: http://www.votediannehart.com/\ndistrict: CT-HD-54\nName: Gregory Haddad Party: D Site: https://www.gregghaddad.com/\ndistrict: FL-HD-48\nName: Jesus Martinez Party: R Site: https://www.jesusmartinez48.com/\ndistrict: FL-HD-70\nName: Michele Rayner Party: D Site: https://micheleforflorida.com/\ndistrict: NC-SD-36\nName: Paul Newton Party: R Site: https://newton4senate.com\nName: Marcus J. Singleton Party: D Site: \n"
    }
   ],
   "source": [
    "driver = webdriver.Chrome(moneyball_dir / 'chromedriver')\n",
    "for i in range (732,1000):\n",
    "    # MA urls are difficult to map, haven't figured them all out yet\n",
    "    if df.iloc[i]['state'] == 'MA': continue\n",
    "\n",
    "    dist_page_url = get_ballotpedia_page( df.iloc[i]['district'] )\n",
    "    driver.get(dist_page_url)\n",
    "\n",
    "    soup = BeautifulSoup(driver.page_source, 'html.parser')\n",
    "\n",
    "    print('district: ' + df.iloc[i]['district'])\n",
    "\n",
    "    # table_soup = soup.select('#mw-content-text > div:nth-child(26) > div.results_table_container > table')[0]\n",
    "    table_soup = soup.find('table', {\"class\": \"results_table\"})\n",
    "    if table_soup is None or len(table_soup) < 0: continue\n",
    "\n",
    "    for cand_row in table_soup.find_all(\"td\", class_=\"votebox-results-cell--text\"):\n",
    "        cand_name = cand_row.find('a').text\n",
    "        if '(' not in cand_row.text: continue \n",
    "        cand_party = cand_row.text.split('(',1)[1].replace(')', '').strip().upper()\n",
    "        cand_b_href = cand_row.find('a')['href']\n",
    "        cand_p_site = ''\n",
    "\n",
    "        # dont waste time with campaign sites for invaluable districts \n",
    "        if i < 1000:\n",
    "            driver.get(cand_b_href)\n",
    "            cand_b_page_soup = BeautifulSoup(driver.page_source, 'html.parser')\n",
    "            body = cand_b_page_soup.find(\"div\", id=\"bodyContent\")\n",
    "            infobox = body.find_all(\"div\", class_='infobox person')\n",
    "            if infobox is not None and len(infobox) >0:\n",
    "                cand_p_obj = infobox[0].find(\"a\", string=\"Campaign website\" )\n",
    "                cand_p_site = '' if cand_p_obj is None else cand_p_obj['href']\n",
    "\n",
    "        if cand_party == 'R':\n",
    "            df.iloc[i]['r_cand'] = cand_name\n",
    "            df.iloc[i]['r_cand_b_link'] = cand_b_href\n",
    "            df.iloc[i]['r_cand_p_link'] = cand_p_site\n",
    "        elif cand_party == 'D':\n",
    "            df.iloc[i]['d_cand'] = cand_name\n",
    "            df.iloc[i]['d_cand_b_link'] = cand_b_href\n",
    "            df.iloc[i]['d_cand_p_link'] = cand_p_site\n",
    "        else: \n",
    "            df.iloc[i]['y_cand'] = cand_name\n",
    "            df.iloc[i]['y_cand_party'] = cand_party\n",
    "            df.iloc[i]['y_cand_b_link'] = cand_b_href\n",
    "            df.iloc[i]['y_cand_p_link'] = cand_p_site\n",
    "\n",
    "        print(f\"\"\"Name: {cand_name} Party: {cand_party} Site: {cand_p_site}\"\"\")\n",
    "\n"
   ]
  },
  {
   "cell_type": "code",
   "execution_count": 70,
   "metadata": {},
   "outputs": [
    {
     "output_type": "execute_result",
     "data": {
      "text/plain": "     state   district        rep_nominee          dem_nominee incumbent  \\\n0       TX  TX-HD-112  Angie Chen Button      Brandy Chambers         R   \n1       TX   TX-HD-26       Jacey Jetton  L. Sarah DeMerchant      Open   \n2       TX   TX-HD-66       Matt Shaheen        Sharon Hirsch         R   \n3       TX   TX-HD-67         Jeff Leach      Lorenzo Sanchez         R   \n4       TX   TX-HD-96         David Cook            Joe Drago      Open   \n...    ...        ...                ...                  ...       ...   \n2176    UT   UT-SD-13      Jake Anderegg       Lyndsey Jarman         R   \n2177    UT   UT-SD-19                TBA           Katy Owens      Open   \n2178    UT   UT-SD-24                TBA                  NaN      Open   \n2179    UT   UT-SD-25                TBA         Nancy Huntly      Open   \n2180    UT   UT-SD-29                TBA          Chuck Goode      Open   \n\n                 r_cand               d_cand        y_cand y_cand_party  \\\n0     Angie Chen Button      Brandy Chambers  Shane Newsom            L   \n1          Jacey Jetton  L. Sarah DeMerchant           NaN          NaN   \n2          Matt Shaheen        Sharon Hirsch   Shawn Jones            L   \n3            Jeff Leach      Lorenzo Sanchez           NaN          NaN   \n4            David Cook            Joe Drago  Nelson Range            L   \n...                 ...                  ...           ...          ...   \n2176                NaN                  NaN           NaN          NaN   \n2177                NaN                  NaN           NaN          NaN   \n2178                NaN                  NaN           NaN          NaN   \n2179                NaN                  NaN           NaN          NaN   \n2180                NaN                  NaN           NaN          NaN   \n\n                                          r_cand_b_link  \\\n0             https://ballotpedia.org/Angie_Chen_Button   \n1                  https://ballotpedia.org/Jacey_Jetton   \n2                  https://ballotpedia.org/Matt_Shaheen   \n3                    https://ballotpedia.org/Jeff_Leach   \n4     https://ballotpedia.org/David_Cook_(Texas_Hous...   \n...                                                 ...   \n2176                                                NaN   \n2177                                                NaN   \n2178                                                NaN   \n2179                                                NaN   \n2180                                                NaN   \n\n                                    d_cand_b_link  \\\n0         https://ballotpedia.org/Brandy_Chambers   \n1     https://ballotpedia.org/L._Sarah_DeMerchant   \n2           https://ballotpedia.org/Sharon_Hirsch   \n3         https://ballotpedia.org/Lorenzo_Sanchez   \n4               https://ballotpedia.org/Joe_Drago   \n...                                           ...   \n2176                                          NaN   \n2177                                          NaN   \n2178                                          NaN   \n2179                                          NaN   \n2180                                          NaN   \n\n                             y_cand_b_link  \\\n0     https://ballotpedia.org/Shane_Newsom   \n1                                      NaN   \n2      https://ballotpedia.org/Shawn_Jones   \n3                                      NaN   \n4     https://ballotpedia.org/Nelson_Range   \n...                                    ...   \n2176                                   NaN   \n2177                                   NaN   \n2178                                   NaN   \n2179                                   NaN   \n2180                                   NaN   \n\n                           r_cand_p_link                        d_cand_p_link  \\\n0            http://www.angiebutton.com/         https://brandykchambers.com/   \n1           https://www.jaceyjetton.com/  https://www.democratdemerchant.com/   \n2      http://mattshaheen.com/index.html           https://www.sharon4tx.com/   \n3              http://www.jeffleach.com/     https://www.lorenzofortexas.com/   \n4     https://www.davidcookfortexas.com/     https://dragofortexas.com/home-1   \n...                                  ...                                  ...   \n2176                                 NaN                                  NaN   \n2177                                 NaN                                  NaN   \n2178                                 NaN                                  NaN   \n2179                                 NaN                                  NaN   \n2180                                 NaN                                  NaN   \n\n                           y_cand_p_link  \n0     https://www.newsomforstaterep.com/  \n1                                    NaN  \n2                                         \n3                                    NaN  \n4      https://nelsonrangefortexas96.com  \n...                                  ...  \n2176                                 NaN  \n2177                                 NaN  \n2178                                 NaN  \n2179                                 NaN  \n2180                                 NaN  \n\n[2181 rows x 15 columns]",
      "text/html": "<div>\n<style scoped>\n    .dataframe tbody tr th:only-of-type {\n        vertical-align: middle;\n    }\n\n    .dataframe tbody tr th {\n        vertical-align: top;\n    }\n\n    .dataframe thead th {\n        text-align: right;\n    }\n</style>\n<table border=\"1\" class=\"dataframe\">\n  <thead>\n    <tr style=\"text-align: right;\">\n      <th></th>\n      <th>state</th>\n      <th>district</th>\n      <th>rep_nominee</th>\n      <th>dem_nominee</th>\n      <th>incumbent</th>\n      <th>r_cand</th>\n      <th>d_cand</th>\n      <th>y_cand</th>\n      <th>y_cand_party</th>\n      <th>r_cand_b_link</th>\n      <th>d_cand_b_link</th>\n      <th>y_cand_b_link</th>\n      <th>r_cand_p_link</th>\n      <th>d_cand_p_link</th>\n      <th>y_cand_p_link</th>\n    </tr>\n  </thead>\n  <tbody>\n    <tr>\n      <th>0</th>\n      <td>TX</td>\n      <td>TX-HD-112</td>\n      <td>Angie Chen Button</td>\n      <td>Brandy Chambers</td>\n      <td>R</td>\n      <td>Angie Chen Button</td>\n      <td>Brandy Chambers</td>\n      <td>Shane Newsom</td>\n      <td>L</td>\n      <td>https://ballotpedia.org/Angie_Chen_Button</td>\n      <td>https://ballotpedia.org/Brandy_Chambers</td>\n      <td>https://ballotpedia.org/Shane_Newsom</td>\n      <td>http://www.angiebutton.com/</td>\n      <td>https://brandykchambers.com/</td>\n      <td>https://www.newsomforstaterep.com/</td>\n    </tr>\n    <tr>\n      <th>1</th>\n      <td>TX</td>\n      <td>TX-HD-26</td>\n      <td>Jacey Jetton</td>\n      <td>L. Sarah DeMerchant</td>\n      <td>Open</td>\n      <td>Jacey Jetton</td>\n      <td>L. Sarah DeMerchant</td>\n      <td>NaN</td>\n      <td>NaN</td>\n      <td>https://ballotpedia.org/Jacey_Jetton</td>\n      <td>https://ballotpedia.org/L._Sarah_DeMerchant</td>\n      <td>NaN</td>\n      <td>https://www.jaceyjetton.com/</td>\n      <td>https://www.democratdemerchant.com/</td>\n      <td>NaN</td>\n    </tr>\n    <tr>\n      <th>2</th>\n      <td>TX</td>\n      <td>TX-HD-66</td>\n      <td>Matt Shaheen</td>\n      <td>Sharon Hirsch</td>\n      <td>R</td>\n      <td>Matt Shaheen</td>\n      <td>Sharon Hirsch</td>\n      <td>Shawn Jones</td>\n      <td>L</td>\n      <td>https://ballotpedia.org/Matt_Shaheen</td>\n      <td>https://ballotpedia.org/Sharon_Hirsch</td>\n      <td>https://ballotpedia.org/Shawn_Jones</td>\n      <td>http://mattshaheen.com/index.html</td>\n      <td>https://www.sharon4tx.com/</td>\n      <td></td>\n    </tr>\n    <tr>\n      <th>3</th>\n      <td>TX</td>\n      <td>TX-HD-67</td>\n      <td>Jeff Leach</td>\n      <td>Lorenzo Sanchez</td>\n      <td>R</td>\n      <td>Jeff Leach</td>\n      <td>Lorenzo Sanchez</td>\n      <td>NaN</td>\n      <td>NaN</td>\n      <td>https://ballotpedia.org/Jeff_Leach</td>\n      <td>https://ballotpedia.org/Lorenzo_Sanchez</td>\n      <td>NaN</td>\n      <td>http://www.jeffleach.com/</td>\n      <td>https://www.lorenzofortexas.com/</td>\n      <td>NaN</td>\n    </tr>\n    <tr>\n      <th>4</th>\n      <td>TX</td>\n      <td>TX-HD-96</td>\n      <td>David Cook</td>\n      <td>Joe Drago</td>\n      <td>Open</td>\n      <td>David Cook</td>\n      <td>Joe Drago</td>\n      <td>Nelson Range</td>\n      <td>L</td>\n      <td>https://ballotpedia.org/David_Cook_(Texas_Hous...</td>\n      <td>https://ballotpedia.org/Joe_Drago</td>\n      <td>https://ballotpedia.org/Nelson_Range</td>\n      <td>https://www.davidcookfortexas.com/</td>\n      <td>https://dragofortexas.com/home-1</td>\n      <td>https://nelsonrangefortexas96.com</td>\n    </tr>\n    <tr>\n      <th>...</th>\n      <td>...</td>\n      <td>...</td>\n      <td>...</td>\n      <td>...</td>\n      <td>...</td>\n      <td>...</td>\n      <td>...</td>\n      <td>...</td>\n      <td>...</td>\n      <td>...</td>\n      <td>...</td>\n      <td>...</td>\n      <td>...</td>\n      <td>...</td>\n      <td>...</td>\n    </tr>\n    <tr>\n      <th>2176</th>\n      <td>UT</td>\n      <td>UT-SD-13</td>\n      <td>Jake Anderegg</td>\n      <td>Lyndsey Jarman</td>\n      <td>R</td>\n      <td>NaN</td>\n      <td>NaN</td>\n      <td>NaN</td>\n      <td>NaN</td>\n      <td>NaN</td>\n      <td>NaN</td>\n      <td>NaN</td>\n      <td>NaN</td>\n      <td>NaN</td>\n      <td>NaN</td>\n    </tr>\n    <tr>\n      <th>2177</th>\n      <td>UT</td>\n      <td>UT-SD-19</td>\n      <td>TBA</td>\n      <td>Katy Owens</td>\n      <td>Open</td>\n      <td>NaN</td>\n      <td>NaN</td>\n      <td>NaN</td>\n      <td>NaN</td>\n      <td>NaN</td>\n      <td>NaN</td>\n      <td>NaN</td>\n      <td>NaN</td>\n      <td>NaN</td>\n      <td>NaN</td>\n    </tr>\n    <tr>\n      <th>2178</th>\n      <td>UT</td>\n      <td>UT-SD-24</td>\n      <td>TBA</td>\n      <td>NaN</td>\n      <td>Open</td>\n      <td>NaN</td>\n      <td>NaN</td>\n      <td>NaN</td>\n      <td>NaN</td>\n      <td>NaN</td>\n      <td>NaN</td>\n      <td>NaN</td>\n      <td>NaN</td>\n      <td>NaN</td>\n      <td>NaN</td>\n    </tr>\n    <tr>\n      <th>2179</th>\n      <td>UT</td>\n      <td>UT-SD-25</td>\n      <td>TBA</td>\n      <td>Nancy Huntly</td>\n      <td>Open</td>\n      <td>NaN</td>\n      <td>NaN</td>\n      <td>NaN</td>\n      <td>NaN</td>\n      <td>NaN</td>\n      <td>NaN</td>\n      <td>NaN</td>\n      <td>NaN</td>\n      <td>NaN</td>\n      <td>NaN</td>\n    </tr>\n    <tr>\n      <th>2180</th>\n      <td>UT</td>\n      <td>UT-SD-29</td>\n      <td>TBA</td>\n      <td>Chuck Goode</td>\n      <td>Open</td>\n      <td>NaN</td>\n      <td>NaN</td>\n      <td>NaN</td>\n      <td>NaN</td>\n      <td>NaN</td>\n      <td>NaN</td>\n      <td>NaN</td>\n      <td>NaN</td>\n      <td>NaN</td>\n      <td>NaN</td>\n    </tr>\n  </tbody>\n</table>\n<p>2181 rows × 15 columns</p>\n</div>"
     },
     "metadata": {},
     "execution_count": 70
    }
   ],
   "source": [
    "df"
   ]
  },
  {
   "cell_type": "code",
   "execution_count": 131,
   "metadata": {},
   "outputs": [
    {
     "output_type": "execute_result",
     "data": {
      "text/plain": "state                           NV\ndistrict                  NV-HD-21\nrep_nominee      Cherlyn Arrington\ndem_nominee                    TBA\nincumbent                     Open\nr_cand                         NaN\nd_cand                         NaN\ny_cand                         NaN\ny_cand_party                   NaN\nr_cand_b_link                  NaN\nd_cand_b_link                  NaN\ny_cand_b_link                  NaN\nr_cand_p_link                  NaN\nd_cand_p_link                  NaN\ny_cand_p_link                  NaN\nName: 732, dtype: object"
     },
     "metadata": {},
     "execution_count": 131
    }
   ],
   "source": [
    "df.iloc[732]"
   ]
  },
  {
   "cell_type": "code",
   "execution_count": 135,
   "metadata": {},
   "outputs": [
    {
     "output_type": "execute_result",
     "data": {
      "text/plain": "state                                                  TX\ndistrict                                        TX-HD-108\nrep_nominee                                  Morgan Meyer\ndem_nominee                              Joanna Cattanach\nincumbent                                               R\nr_cand                                       Morgan Meyer\nd_cand                                   Joanna Cattanach\ny_cand                                          Ed Rankin\ny_cand_party                                            L\nr_cand_b_link        https://ballotpedia.org/Morgan_Meyer\nd_cand_b_link    https://ballotpedia.org/Joanna_Cattanach\ny_cand_b_link           https://ballotpedia.org/Ed_Rankin\nr_cand_p_link              http://morganmeyerfortexas.com\nd_cand_p_link                 https://joannafortexas.com/\ny_cand_p_link                                            \nName: 9, dtype: object"
     },
     "metadata": {},
     "execution_count": 135
    }
   ],
   "source": [
    "df.iloc[9]"
   ]
  },
  {
   "cell_type": "code",
   "execution_count": 136,
   "metadata": {},
   "outputs": [],
   "source": [
    "df.to_csv(moneyball_dir / 'scraper_output.csv', index=False)"
   ]
  },
  {
   "cell_type": "code",
   "execution_count": null,
   "metadata": {},
   "outputs": [],
   "source": []
  }
 ]
}