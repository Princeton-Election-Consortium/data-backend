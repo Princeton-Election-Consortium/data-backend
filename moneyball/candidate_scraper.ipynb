{
 "metadata": {
  "language_info": {
   "codemirror_mode": {
    "name": "ipython",
    "version": 3
   },
   "file_extension": ".py",
   "mimetype": "text/x-python",
   "name": "python",
   "nbconvert_exporter": "python",
   "pygments_lexer": "ipython3",
   "version": 3
  },
  "orig_nbformat": 2,
  "kernelspec": {
   "name": "python_defaultSpec_1597213663900",
   "display_name": "Python 3.7.3 64-bit"
  }
 },
 "nbformat": 4,
 "nbformat_minor": 2,
 "cells": [
  {
   "cell_type": "code",
   "execution_count": 42,
   "metadata": {},
   "outputs": [],
   "source": [
    "import pandas as pd \n",
    "import csv\n",
    "from pathlib import Path\n",
    "\n",
    "from collections import OrderedDict\n",
    "\n",
    "from bs4 import BeautifulSoup\n",
    "from selenium import webdriver\n",
    "from selenium.webdriver.common.by import By\n",
    "from selenium.webdriver.support.ui import WebDriverWait\n",
    "from selenium.webdriver.support import expected_conditions as EC\n",
    "from selenium.common.exceptions import TimeoutException\n",
    "import time\n",
    "\n",
    "from num2words import num2words\n",
    "\n",
    "from collections import OrderedDict"
   ]
  },
  {
   "cell_type": "code",
   "execution_count": 25,
   "metadata": {},
   "outputs": [],
   "source": [
    "# Util method to come between state formats \n",
    "# returnType must be either 'full' 'two_digit' or 'FIPS'\n",
    "def get_state_code(input, returnType = 'FIPS'):\n",
    "    if (returnType != 'full' and returnType != 'two_digit' and returnType != 'FIPS'):\n",
    "        raise ValueError(\"returnType must be either 'full' 'two_digit' or 'FIPS'\")\n",
    "\n",
    "    code_hash = {\n",
    "        'AL': {'full': 'Alabama', 'two_digit': 'AL', 'FIPS': 1},\n",
    "        'AK': {'full': 'Alaska', 'two_digit': 'AK', 'FIPS': 2},\n",
    "        'AZ': {'full': 'Arizona', 'two_digit': 'AZ', 'FIPS': 4},\n",
    "        'AR': {'full': 'Arkansas', 'two_digit': 'AR', 'FIPS': 5},\n",
    "        'CA': {'full': 'California', 'two_digit': 'CA', 'FIPS': 6},\n",
    "        'CO': {'full': 'Colorado', 'two_digit': 'CO', 'FIPS': 8},\n",
    "        'CT': {'full': 'Connecticut', 'two_digit': 'CT', 'FIPS': 9},\n",
    "        'DE': {'full': 'Delaware', 'two_digit': 'DE', 'FIPS': 10},\n",
    "        'DC': {'full': 'District of Columbia', 'two_digit': 'DC', 'FIPS': 11},\n",
    "        'FL': {'full': 'Florida', 'two_digit': 'FL', 'FIPS': 12},\n",
    "        'GA': {'full': 'Georgia', 'two_digit': 'GA', 'FIPS': 13},\n",
    "        'HI': {'full': 'Hawaii', 'two_digit': 'HI', 'FIPS': 15},\n",
    "        'ID': {'full': 'Idaho', 'two_digit': 'ID', 'FIPS': 16},\n",
    "        'IL': {'full': 'Illinois', 'two_digit': 'IL', 'FIPS': 17},\n",
    "        'IN': {'full': 'Indiana', 'two_digit': 'IN', 'FIPS': 18},\n",
    "        'IA': {'full': 'Iowa', 'two_digit': 'IA', 'FIPS': 19},\n",
    "        'KS': {'full': 'Kansas', 'two_digit': 'KS', 'FIPS': 20},\n",
    "        'KY': {'full': 'Kentucky', 'two_digit': 'KY', 'FIPS': 21},\n",
    "        'LA': {'full': 'Louisiana', 'two_digit': 'LA', 'FIPS': 22},\n",
    "        'ME': {'full': 'Maine', 'two_digit': 'ME', 'FIPS': 23},\n",
    "        'MD': {'full': 'Maryland', 'two_digit': 'MD', 'FIPS': 24},\n",
    "        'MA': {'full': 'Massachusetts', 'two_digit': 'MA', 'FIPS': 25},\n",
    "        'MI': {'full': 'Michigan', 'two_digit': 'MI', 'FIPS': 26},\n",
    "        'MN': {'full': 'Minnesota', 'two_digit': 'MN', 'FIPS': 27},\n",
    "        'MS': {'full': 'Mississippi', 'two_digit': 'MS', 'FIPS': 28},\n",
    "        'MO': {'full': 'Missouri', 'two_digit': 'MO', 'FIPS': 29},\n",
    "        'MT': {'full': 'Montana', 'two_digit': 'MT', 'FIPS': 30},\n",
    "        'NE': {'full': 'Nebraska', 'two_digit': 'NE', 'FIPS': 31},\n",
    "        'NV': {'full': 'Nevada', 'two_digit': 'NV', 'FIPS': 32},\n",
    "        'NH': {'full': 'New Hampshire', 'two_digit': 'NH', 'FIPS': 33},\n",
    "        'NJ': {'full': 'New Jersey', 'two_digit': 'NJ', 'FIPS': 34},\n",
    "        'NM': {'full': 'New Mexico', 'two_digit': 'NM', 'FIPS': 35},\n",
    "        'NY': {'full': 'New York', 'two_digit': 'NY', 'FIPS': 36},\n",
    "        'NC': {'full': 'North Carolina', 'two_digit': 'NC', 'FIPS': 37},\n",
    "        'ND': {'full': 'North Dakota', 'two_digit': 'ND', 'FIPS': 38},\n",
    "        'OH': {'full': 'Ohio', 'two_digit': 'OH', 'FIPS': 39},\n",
    "        'OK': {'full': 'Oklahoma', 'two_digit': 'OK', 'FIPS': 40},\n",
    "        'OR': {'full': 'Oregon', 'two_digit': 'OR', 'FIPS': 41},\n",
    "        'PA': {'full': 'Pennsylvania', 'two_digit': 'PA', 'FIPS': 42},\n",
    "        'RI': {'full': 'Rhode Island', 'two_digit': 'RI', 'FIPS': 44},\n",
    "        'SC': {'full': 'South Carolina', 'two_digit': 'SC', 'FIPS': 45},\n",
    "        'SD': {'full': 'South Dakota', 'two_digit': 'SD', 'FIPS': 46},\n",
    "        'TN': {'full': 'Tennessee', 'two_digit': 'TN', 'FIPS': 47},\n",
    "        'TX': {'full': 'Texas', 'two_digit': 'TX', 'FIPS': 48},\n",
    "        'UT': {'full': 'Utah', 'two_digit': 'UT', 'FIPS': 49},\n",
    "        'VT': {'full': 'Vermont', 'two_digit': 'VT', 'FIPS': 50},\n",
    "        'VA': {'full': 'Virginia', 'two_digit': 'VA', 'FIPS': 51},\n",
    "        'WA': {'full': 'Washington', 'two_digit': 'WA', 'FIPS': 53},\n",
    "        'WV': {'full': 'West Virginia', 'two_digit': 'WV', 'FIPS': 54},\n",
    "        'WI': {'full': 'Wisconsin', 'two_digit': 'WI', 'FIPS': 55},\n",
    "        'WY': {'full': 'Wyoming', 'two_digit': 'WY', 'FIPS': 56},\n",
    "        'PR': {'full': 'Puerto Rico', 'two_digit': 'PR', 'FIPS': 72}\n",
    "    }\n",
    "    for row in code_hash:\n",
    "        for value in code_hash[row]:\n",
    "            if code_hash[row][value] == input:\n",
    "                return code_hash[row][returnType]\n",
    "    return None"
   ]
  },
  {
   "cell_type": "code",
   "execution_count": 78,
   "metadata": {},
   "outputs": [],
   "source": [
    "def get_ballotpedia_page(district):\n",
    "    ballotpedia = 'https://ballotpedia.org/'\n",
    "    ballotpedia += get_state_code(district[0:2], returnType='full') + '_'\n",
    "    district_name = district[6:]\n",
    "    # deal with annoying MA districts *** still not working for all --> just dont scrape MA\n",
    "    district_name = district[6:]\n",
    "    if len(district_name) > 3:\n",
    "        i = 0\n",
    "        while district_name[i] in ['0','1','2','3','4','5','6','7','8','9']:\n",
    "            i += 1\n",
    "        if i > 0:\n",
    "            num_str = district_name[0:i]\n",
    "            # use to='ordinal' parameter if '-nd' '-rd' etc wanted automatically\n",
    "            num_words = num2words(num_str, to='ordinal').capitalize()\n",
    "            name_str = district_name[i:].replace('th ', ' ').replace('st ', ' ').replace('nd ', ' ').replace('rd ', ' ')\n",
    "            dist_str = (num_words + name_str).replace(' ', '_')\n",
    "            ballotpedia += 'House_of_Representatives_' if (district[3:5] == 'HD') else 'State_Senate_'\n",
    "            ballotpedia += dist_str + '_District'\n",
    "            return(ballotpedia)\n",
    "    \n",
    "    # all non MA districts\n",
    "    ballotpedia += 'House_of_Representatives_District_' if (district[3:5] == 'HD') else 'State_Senate_District_'\n",
    "    district_name = district[6:]\n",
    "    ballotpedia += district[6:].replace(' ', '_').replace('&','%26')\n",
    "\n",
    "    return ballotpedia\n"
   ]
  },
  {
   "cell_type": "code",
   "execution_count": 82,
   "metadata": {
    "tags": []
   },
   "outputs": [
    {
     "output_type": "execute_result",
     "data": {
      "text/plain": "'https://ballotpedia.org/North Carolina_House_of_Representatives_District_113'"
     },
     "metadata": {},
     "execution_count": 82
    }
   ],
   "source": [
    "# th st nd rd \n",
    "get_ballotpedia_page('NC-HD-113')"
   ]
  },
  {
   "cell_type": "code",
   "execution_count": 19,
   "metadata": {},
   "outputs": [],
   "source": [
    "moneyball_dir = Path.cwd() "
   ]
  },
  {
   "cell_type": "code",
   "execution_count": 83,
   "metadata": {},
   "outputs": [],
   "source": [
    "# setup dataframe to store data as its scraped\n",
    "df = pd.read_csv(moneyball_dir / 'processed_data_8_11.csv')\n",
    "df = df[['state', 'district', 'rep_nominee', 'dem_nominee', 'incumbent']]\n",
    "df = pd.concat([df, pd.DataFrame(columns=['r_cand', 'd_cand', 'y_cand', 'y_cand_party', 'r_cand_b_link', 'd_cand_b_link', 'y_cand_b_link', 'r_cand_p_link', 'd_cand_p_link', 'y_cand_p_link' ])])"
   ]
  },
  {
   "cell_type": "code",
   "execution_count": 89,
   "metadata": {},
   "outputs": [
    {
     "output_type": "execute_result",
     "data": {
      "text/plain": "  state   district        rep_nominee          dem_nominee incumbent  \\\n0    TX  TX-HD-112  Angie Chen Button      Brandy Chambers         R   \n1    TX   TX-HD-26       Jacey Jetton  L. Sarah DeMerchant      Open   \n2    TX   TX-HD-66       Matt Shaheen        Sharon Hirsch         R   \n3    TX   TX-HD-67         Jeff Leach      Lorenzo Sanchez         R   \n4    TX   TX-HD-96         David Cook            Joe Drago      Open   \n\n      r_cand d_cand y_cand y_cand_party r_cand_b_link d_cand_b_link  \\\n0  TX-HD-112    NaN    NaN          NaN           NaN           NaN   \n1   TX-HD-26    NaN    NaN          NaN           NaN           NaN   \n2   TX-HD-66    NaN    NaN          NaN           NaN           NaN   \n3   TX-HD-67    NaN    NaN          NaN           NaN           NaN   \n4   TX-HD-96    NaN    NaN          NaN           NaN           NaN   \n\n  y_cand_b_link r_cand_p_link d_cand_p_link y_cand_p_link  \n0           NaN           NaN           NaN           NaN  \n1           NaN           NaN           NaN           NaN  \n2           NaN           NaN           NaN           NaN  \n3           NaN           NaN           NaN           NaN  \n4           NaN           NaN           NaN           NaN  ",
      "text/html": "<div>\n<style scoped>\n    .dataframe tbody tr th:only-of-type {\n        vertical-align: middle;\n    }\n\n    .dataframe tbody tr th {\n        vertical-align: top;\n    }\n\n    .dataframe thead th {\n        text-align: right;\n    }\n</style>\n<table border=\"1\" class=\"dataframe\">\n  <thead>\n    <tr style=\"text-align: right;\">\n      <th></th>\n      <th>state</th>\n      <th>district</th>\n      <th>rep_nominee</th>\n      <th>dem_nominee</th>\n      <th>incumbent</th>\n      <th>r_cand</th>\n      <th>d_cand</th>\n      <th>y_cand</th>\n      <th>y_cand_party</th>\n      <th>r_cand_b_link</th>\n      <th>d_cand_b_link</th>\n      <th>y_cand_b_link</th>\n      <th>r_cand_p_link</th>\n      <th>d_cand_p_link</th>\n      <th>y_cand_p_link</th>\n    </tr>\n  </thead>\n  <tbody>\n    <tr>\n      <th>0</th>\n      <td>TX</td>\n      <td>TX-HD-112</td>\n      <td>Angie Chen Button</td>\n      <td>Brandy Chambers</td>\n      <td>R</td>\n      <td>TX-HD-112</td>\n      <td>NaN</td>\n      <td>NaN</td>\n      <td>NaN</td>\n      <td>NaN</td>\n      <td>NaN</td>\n      <td>NaN</td>\n      <td>NaN</td>\n      <td>NaN</td>\n      <td>NaN</td>\n    </tr>\n    <tr>\n      <th>1</th>\n      <td>TX</td>\n      <td>TX-HD-26</td>\n      <td>Jacey Jetton</td>\n      <td>L. Sarah DeMerchant</td>\n      <td>Open</td>\n      <td>TX-HD-26</td>\n      <td>NaN</td>\n      <td>NaN</td>\n      <td>NaN</td>\n      <td>NaN</td>\n      <td>NaN</td>\n      <td>NaN</td>\n      <td>NaN</td>\n      <td>NaN</td>\n      <td>NaN</td>\n    </tr>\n    <tr>\n      <th>2</th>\n      <td>TX</td>\n      <td>TX-HD-66</td>\n      <td>Matt Shaheen</td>\n      <td>Sharon Hirsch</td>\n      <td>R</td>\n      <td>TX-HD-66</td>\n      <td>NaN</td>\n      <td>NaN</td>\n      <td>NaN</td>\n      <td>NaN</td>\n      <td>NaN</td>\n      <td>NaN</td>\n      <td>NaN</td>\n      <td>NaN</td>\n      <td>NaN</td>\n    </tr>\n    <tr>\n      <th>3</th>\n      <td>TX</td>\n      <td>TX-HD-67</td>\n      <td>Jeff Leach</td>\n      <td>Lorenzo Sanchez</td>\n      <td>R</td>\n      <td>TX-HD-67</td>\n      <td>NaN</td>\n      <td>NaN</td>\n      <td>NaN</td>\n      <td>NaN</td>\n      <td>NaN</td>\n      <td>NaN</td>\n      <td>NaN</td>\n      <td>NaN</td>\n      <td>NaN</td>\n    </tr>\n    <tr>\n      <th>4</th>\n      <td>TX</td>\n      <td>TX-HD-96</td>\n      <td>David Cook</td>\n      <td>Joe Drago</td>\n      <td>Open</td>\n      <td>TX-HD-96</td>\n      <td>NaN</td>\n      <td>NaN</td>\n      <td>NaN</td>\n      <td>NaN</td>\n      <td>NaN</td>\n      <td>NaN</td>\n      <td>NaN</td>\n      <td>NaN</td>\n      <td>NaN</td>\n    </tr>\n  </tbody>\n</table>\n</div>"
     },
     "metadata": {},
     "execution_count": 89
    }
   ],
   "source": [
    "df.head()"
   ]
  },
  {
   "cell_type": "code",
   "execution_count": 21,
   "metadata": {},
   "outputs": [],
   "source": [
    "driver = webdriver.Chrome(moneyball_dir / 'chromedriver')\n",
    "driver.get('http://www.google.com/')\n",
    "time.sleep(5) # Let the user actually see something!"
   ]
  },
  {
   "cell_type": "code",
   "execution_count": 91,
   "metadata": {
    "tags": []
   },
   "outputs": [
    {
     "output_type": "error",
     "ename": "NoSuchWindowException",
     "evalue": "Message: no such window: window was already closed\n  (Session info: chrome=84.0.4147.125)\n",
     "traceback": [
      "\u001b[0;31m---------------------------------------------------------------------------\u001b[0m",
      "\u001b[0;31mNoSuchWindowException\u001b[0m                     Traceback (most recent call last)",
      "\u001b[0;32m<ipython-input-91-842ad09a138e>\u001b[0m in \u001b[0;36m<module>\u001b[0;34m\u001b[0m\n\u001b[1;32m      2\u001b[0m \u001b[0;32mfor\u001b[0m \u001b[0mi\u001b[0m \u001b[0;32min\u001b[0m \u001b[0mrange\u001b[0m \u001b[0;34m(\u001b[0m\u001b[0mlen\u001b[0m\u001b[0;34m(\u001b[0m\u001b[0mdf\u001b[0m\u001b[0;34m)\u001b[0m\u001b[0;34m)\u001b[0m\u001b[0;34m:\u001b[0m\u001b[0;34m\u001b[0m\u001b[0;34m\u001b[0m\u001b[0m\n\u001b[1;32m      3\u001b[0m     \u001b[0mdist_page_url\u001b[0m \u001b[0;34m=\u001b[0m \u001b[0mget_ballotpedia_page\u001b[0m\u001b[0;34m(\u001b[0m \u001b[0mdf\u001b[0m\u001b[0;34m.\u001b[0m\u001b[0miloc\u001b[0m\u001b[0;34m[\u001b[0m\u001b[0mi\u001b[0m\u001b[0;34m]\u001b[0m\u001b[0;34m[\u001b[0m\u001b[0;34m'district'\u001b[0m\u001b[0;34m]\u001b[0m \u001b[0;34m)\u001b[0m\u001b[0;34m\u001b[0m\u001b[0;34m\u001b[0m\u001b[0m\n\u001b[0;32m----> 4\u001b[0;31m     \u001b[0mdriver\u001b[0m\u001b[0;34m.\u001b[0m\u001b[0mget\u001b[0m\u001b[0;34m(\u001b[0m\u001b[0mdist_page_url\u001b[0m\u001b[0;34m)\u001b[0m\u001b[0;34m\u001b[0m\u001b[0;34m\u001b[0m\u001b[0m\n\u001b[0m\u001b[1;32m      5\u001b[0m \u001b[0;34m\u001b[0m\u001b[0m\n\u001b[1;32m      6\u001b[0m     \u001b[0;31m# df.at[i, 'r_cand'] = dist_page_url\u001b[0m\u001b[0;34m\u001b[0m\u001b[0;34m\u001b[0m\u001b[0;34m\u001b[0m\u001b[0m\n",
      "\u001b[0;32m~/Library/Python/3.7/lib/python/site-packages/selenium/webdriver/remote/webdriver.py\u001b[0m in \u001b[0;36mget\u001b[0;34m(self, url)\u001b[0m\n\u001b[1;32m    331\u001b[0m         \u001b[0mLoads\u001b[0m \u001b[0ma\u001b[0m \u001b[0mweb\u001b[0m \u001b[0mpage\u001b[0m \u001b[0;32min\u001b[0m \u001b[0mthe\u001b[0m \u001b[0mcurrent\u001b[0m \u001b[0mbrowser\u001b[0m \u001b[0msession\u001b[0m\u001b[0;34m.\u001b[0m\u001b[0;34m\u001b[0m\u001b[0;34m\u001b[0m\u001b[0m\n\u001b[1;32m    332\u001b[0m         \"\"\"\n\u001b[0;32m--> 333\u001b[0;31m         \u001b[0mself\u001b[0m\u001b[0;34m.\u001b[0m\u001b[0mexecute\u001b[0m\u001b[0;34m(\u001b[0m\u001b[0mCommand\u001b[0m\u001b[0;34m.\u001b[0m\u001b[0mGET\u001b[0m\u001b[0;34m,\u001b[0m \u001b[0;34m{\u001b[0m\u001b[0;34m'url'\u001b[0m\u001b[0;34m:\u001b[0m \u001b[0murl\u001b[0m\u001b[0;34m}\u001b[0m\u001b[0;34m)\u001b[0m\u001b[0;34m\u001b[0m\u001b[0;34m\u001b[0m\u001b[0m\n\u001b[0m\u001b[1;32m    334\u001b[0m \u001b[0;34m\u001b[0m\u001b[0m\n\u001b[1;32m    335\u001b[0m     \u001b[0;34m@\u001b[0m\u001b[0mproperty\u001b[0m\u001b[0;34m\u001b[0m\u001b[0;34m\u001b[0m\u001b[0m\n",
      "\u001b[0;32m~/Library/Python/3.7/lib/python/site-packages/selenium/webdriver/remote/webdriver.py\u001b[0m in \u001b[0;36mexecute\u001b[0;34m(self, driver_command, params)\u001b[0m\n\u001b[1;32m    319\u001b[0m         \u001b[0mresponse\u001b[0m \u001b[0;34m=\u001b[0m \u001b[0mself\u001b[0m\u001b[0;34m.\u001b[0m\u001b[0mcommand_executor\u001b[0m\u001b[0;34m.\u001b[0m\u001b[0mexecute\u001b[0m\u001b[0;34m(\u001b[0m\u001b[0mdriver_command\u001b[0m\u001b[0;34m,\u001b[0m \u001b[0mparams\u001b[0m\u001b[0;34m)\u001b[0m\u001b[0;34m\u001b[0m\u001b[0;34m\u001b[0m\u001b[0m\n\u001b[1;32m    320\u001b[0m         \u001b[0;32mif\u001b[0m \u001b[0mresponse\u001b[0m\u001b[0;34m:\u001b[0m\u001b[0;34m\u001b[0m\u001b[0;34m\u001b[0m\u001b[0m\n\u001b[0;32m--> 321\u001b[0;31m             \u001b[0mself\u001b[0m\u001b[0;34m.\u001b[0m\u001b[0merror_handler\u001b[0m\u001b[0;34m.\u001b[0m\u001b[0mcheck_response\u001b[0m\u001b[0;34m(\u001b[0m\u001b[0mresponse\u001b[0m\u001b[0;34m)\u001b[0m\u001b[0;34m\u001b[0m\u001b[0;34m\u001b[0m\u001b[0m\n\u001b[0m\u001b[1;32m    322\u001b[0m             response['value'] = self._unwrap_value(\n\u001b[1;32m    323\u001b[0m                 response.get('value', None))\n",
      "\u001b[0;32m~/Library/Python/3.7/lib/python/site-packages/selenium/webdriver/remote/errorhandler.py\u001b[0m in \u001b[0;36mcheck_response\u001b[0;34m(self, response)\u001b[0m\n\u001b[1;32m    240\u001b[0m                 \u001b[0malert_text\u001b[0m \u001b[0;34m=\u001b[0m \u001b[0mvalue\u001b[0m\u001b[0;34m[\u001b[0m\u001b[0;34m'alert'\u001b[0m\u001b[0;34m]\u001b[0m\u001b[0;34m.\u001b[0m\u001b[0mget\u001b[0m\u001b[0;34m(\u001b[0m\u001b[0;34m'text'\u001b[0m\u001b[0;34m)\u001b[0m\u001b[0;34m\u001b[0m\u001b[0;34m\u001b[0m\u001b[0m\n\u001b[1;32m    241\u001b[0m             \u001b[0;32mraise\u001b[0m \u001b[0mexception_class\u001b[0m\u001b[0;34m(\u001b[0m\u001b[0mmessage\u001b[0m\u001b[0;34m,\u001b[0m \u001b[0mscreen\u001b[0m\u001b[0;34m,\u001b[0m \u001b[0mstacktrace\u001b[0m\u001b[0;34m,\u001b[0m \u001b[0malert_text\u001b[0m\u001b[0;34m)\u001b[0m\u001b[0;34m\u001b[0m\u001b[0;34m\u001b[0m\u001b[0m\n\u001b[0;32m--> 242\u001b[0;31m         \u001b[0;32mraise\u001b[0m \u001b[0mexception_class\u001b[0m\u001b[0;34m(\u001b[0m\u001b[0mmessage\u001b[0m\u001b[0;34m,\u001b[0m \u001b[0mscreen\u001b[0m\u001b[0;34m,\u001b[0m \u001b[0mstacktrace\u001b[0m\u001b[0;34m)\u001b[0m\u001b[0;34m\u001b[0m\u001b[0;34m\u001b[0m\u001b[0m\n\u001b[0m\u001b[1;32m    243\u001b[0m \u001b[0;34m\u001b[0m\u001b[0m\n\u001b[1;32m    244\u001b[0m     \u001b[0;32mdef\u001b[0m \u001b[0m_value_or_default\u001b[0m\u001b[0;34m(\u001b[0m\u001b[0mself\u001b[0m\u001b[0;34m,\u001b[0m \u001b[0mobj\u001b[0m\u001b[0;34m,\u001b[0m \u001b[0mkey\u001b[0m\u001b[0;34m,\u001b[0m \u001b[0mdefault\u001b[0m\u001b[0;34m)\u001b[0m\u001b[0;34m:\u001b[0m\u001b[0;34m\u001b[0m\u001b[0;34m\u001b[0m\u001b[0m\n",
      "\u001b[0;31mNoSuchWindowException\u001b[0m: Message: no such window: window was already closed\n  (Session info: chrome=84.0.4147.125)\n"
     ]
    }
   ],
   "source": [
    "driver = webdriver.Chrome(moneyball_dir / 'chromedriver')\n",
    "for i in range (len(df)):\n",
    "    dist_page_url = get_ballotpedia_page( df.iloc[i]['district'] )\n",
    "    driver.get(dist_page_url)\n",
    "\n",
    "    # df.at[i, 'r_cand'] = dist_page_url"
   ]
  },
  {
   "cell_type": "code",
   "execution_count": 107,
   "metadata": {},
   "outputs": [],
   "source": [
    "driver = webdriver.Chrome(moneyball_dir / 'chromedriver')\n",
    "dist_page_url = get_ballotpedia_page( df.iloc[0]['district'] )\n",
    "driver.get(dist_page_url)\n",
    "soup = BeautifulSoup(driver.page_source, 'html.parser')\n",
    "driver.quit()"
   ]
  },
  {
   "cell_type": "code",
   "execution_count": 128,
   "metadata": {},
   "outputs": [],
   "source": [
    "table_soup = soup.select('#mw-content-text > div:nth-child(26) > div.results_table_container > table')[0]"
   ]
  },
  {
   "cell_type": "code",
   "execution_count": 129,
   "metadata": {
    "tags": []
   },
   "outputs": [
    {
     "output_type": "stream",
     "name": "stdout",
     "text": "<table class=\"results_table\">\n<tbody><tr class=\"non_result_row\" style=\"margin-top: 6px;\">\n<td colspan=\"2\"></td>\n<td><div>Candidate</div></td>\n</tr>\n<tr class=\"results_row\">\n<td class=\"votebox-results-cell--check\"></td>\n<td>\n<div class=\"image-candidate-thumbnail-wrapper Republican\">\n<p> <img alt=\"Image of https://s3.amazonaws.com/ballotpedia-api4/files/thumbs/100/100/Angie_Chen_Button.jpg\" class=\"image-candidate-thumbnail\" onerror=\"imgError(this);\" src=\"https://s3.amazonaws.com/ballotpedia-api4/files/thumbs/100/100/Angie_Chen_Button.jpg\"/>\n</p>\n</div>\n</td>\n<td class=\"votebox-results-cell--text\"><b><u><a href=\"https://ballotpedia.org/Angie_Chen_Button\">Angie Chen Button</a></u></b> (R)\t\t\t\t\t\t\t\t\t\t</td>\n</tr>\n<tr class=\"results_row\">\n<td class=\"votebox-results-cell--check\"></td>\n<td>\n<div class=\"image-candidate-thumbnail-wrapper Democratic\">\n<p> <img alt=\"Image of https://s3.amazonaws.com/ballotpedia-api4/files/thumbs/100/100/Brandy_Chambers.JPG\" class=\"image-candidate-thumbnail\" onerror=\"imgError(this);\" src=\"https://s3.amazonaws.com/ballotpedia-api4/files/thumbs/100/100/Brandy_Chambers.JPG\"/>\n</p>\n</div>\n</td>\n<td class=\"votebox-results-cell--text\"><a href=\"https://ballotpedia.org/Brandy_Chambers\">Brandy Chambers</a> (D)\t\t\t\t\t\t\t\t\t\t</td>\n</tr>\n<tr class=\"results_row\">\n<td class=\"votebox-results-cell--check\"></td>\n<td>\n<div class=\"image-candidate-thumbnail-wrapper Libertarian\">\n<p> <img alt=\"Image of https://s3.amazonaws.com/ballotpedia-api4/files/thumbs/100/100/ShaneNewsom.jpg\" class=\"image-candidate-thumbnail\" onerror=\"imgError(this);\" src=\"https://s3.amazonaws.com/ballotpedia-api4/files/thumbs/100/100/ShaneNewsom.jpg\"/>\n</p>\n</div>\n</td>\n<td class=\"votebox-results-cell--text\"><a href=\"https://ballotpedia.org/Shane_Newsom\">Shane Newsom</a> (L)\t\t\t\t\t\t\t\t\t\t</td>\n</tr>\n</tbody></table>\n"
    }
   ],
   "source": [
    "print(table_soup)"
   ]
  },
  {
   "cell_type": "code",
   "execution_count": 130,
   "metadata": {
    "tags": []
   },
   "outputs": [
    {
     "output_type": "stream",
     "name": "stdout",
     "text": "<td class=\"votebox-results-cell--text\"><b><u><a href=\"https://ballotpedia.org/Angie_Chen_Button\">Angie Chen Button</a></u></b> (R)\t\t\t\t\t\t\t\t\t\t</td>\n<td class=\"votebox-results-cell--text\"><a href=\"https://ballotpedia.org/Brandy_Chambers\">Brandy Chambers</a> (D)\t\t\t\t\t\t\t\t\t\t</td>\n<td class=\"votebox-results-cell--text\"><a href=\"https://ballotpedia.org/Shane_Newsom\">Shane Newsom</a> (L)\t\t\t\t\t\t\t\t\t\t</td>\n"
    }
   ],
   "source": [
    "for cand_row in table_soup.find_all(\"td\", class_=\"votebox-results-cell--text\"):\n",
    "    print(cand_row)"
   ]
  },
  {
   "cell_type": "code",
   "execution_count": 118,
   "metadata": {},
   "outputs": [
    {
     "output_type": "error",
     "ename": "AttributeError",
     "evalue": "ResultSet object has no attribute 'find_all'. You're probably treating a list of elements like a single element. Did you call find_all() when you meant to call find()?",
     "traceback": [
      "\u001b[0;31m---------------------------------------------------------------------------\u001b[0m",
      "\u001b[0;31mAttributeError\u001b[0m                            Traceback (most recent call last)",
      "\u001b[0;32m<ipython-input-118-527d87825ee7>\u001b[0m in \u001b[0;36m<module>\u001b[0;34m\u001b[0m\n\u001b[0;32m----> 1\u001b[0;31m \u001b[0mtable_soup\u001b[0m\u001b[0;34m.\u001b[0m\u001b[0mfind_all\u001b[0m\u001b[0;34m(\u001b[0m\u001b[0;34m\"td\"\u001b[0m\u001b[0;34m,\u001b[0m \u001b[0mclass_\u001b[0m\u001b[0;34m=\u001b[0m\u001b[0;34m\"votebox-results-cell--text\"\u001b[0m\u001b[0;34m)\u001b[0m\u001b[0;34m\u001b[0m\u001b[0;34m\u001b[0m\u001b[0m\n\u001b[0m",
      "\u001b[0;32m~/Library/Python/3.7/lib/python/site-packages/bs4/element.py\u001b[0m in \u001b[0;36m__getattr__\u001b[0;34m(self, key)\u001b[0m\n\u001b[1;32m   2159\u001b[0m         \u001b[0;34m\"\"\"Raise a helpful exception to explain a common code fix.\"\"\"\u001b[0m\u001b[0;34m\u001b[0m\u001b[0;34m\u001b[0m\u001b[0m\n\u001b[1;32m   2160\u001b[0m         raise AttributeError(\n\u001b[0;32m-> 2161\u001b[0;31m             \u001b[0;34m\"ResultSet object has no attribute '%s'. You're probably treating a list of elements like a single element. Did you call find_all() when you meant to call find()?\"\u001b[0m \u001b[0;34m%\u001b[0m \u001b[0mkey\u001b[0m\u001b[0;34m\u001b[0m\u001b[0;34m\u001b[0m\u001b[0m\n\u001b[0m\u001b[1;32m   2162\u001b[0m         )\n",
      "\u001b[0;31mAttributeError\u001b[0m: ResultSet object has no attribute 'find_all'. You're probably treating a list of elements like a single element. Did you call find_all() when you meant to call find()?"
     ]
    }
   ],
   "source": [
    "table_soup.find_all(\"td\", class_=\"votebox-results-cell--text\")"
   ]
  },
  {
   "cell_type": "code",
   "execution_count": null,
   "metadata": {},
   "outputs": [],
   "source": []
  }
 ]
}