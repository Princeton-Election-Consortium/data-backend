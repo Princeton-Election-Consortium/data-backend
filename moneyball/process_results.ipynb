{
 "metadata": {
  "language_info": {
   "codemirror_mode": {
    "name": "ipython",
    "version": 3
   },
   "file_extension": ".py",
   "mimetype": "text/x-python",
   "name": "python",
   "nbconvert_exporter": "python",
   "pygments_lexer": "ipython3",
   "version": "3.7.8-final"
  },
  "orig_nbformat": 2,
  "kernelspec": {
   "name": "python3",
   "display_name": "Python 3"
  }
 },
 "nbformat": 4,
 "nbformat_minor": 2,
 "cells": [
  {
   "cell_type": "code",
   "execution_count": 55,
   "metadata": {},
   "outputs": [],
   "source": [
    "import pandas as pd \n",
    "import geopandas as gpd\n",
    "import csv\n",
    "from pathlib import Path"
   ]
  },
  {
   "cell_type": "code",
   "execution_count": null,
   "metadata": {},
   "outputs": [],
   "source": [
    "pd.set_option(\"min_rows\")"
   ]
  },
  {
   "cell_type": "code",
   "execution_count": 5,
   "metadata": {},
   "outputs": [
    {
     "output_type": "execute_result",
     "data": {
      "text/plain": [
       "  state   district favored confidence        rep_nominee          dem_nominee  \\\n",
       "0    TX  TX-HD-112   FALSE    Toss-Up  Angie Chen Button      Brandy Chambers   \n",
       "1    TX   TX-HD-26       R       Tilt       Jacey Jetton  L. Sarah DeMerchant   \n",
       "2    TX   TX-HD-66   FALSE    Toss-Up       Matt Shaheen        Sharon Hirsch   \n",
       "3    TX   TX-HD-67   FALSE    Toss-Up         Jeff Leach      Lorenzo Sanchez   \n",
       "4    TX   TX-HD-96   FALSE    Toss-Up         David Cook            Joe Drago   \n",
       "\n",
       "  incumbent third_party_cand third_party  redistricting_voter_power  \\\n",
       "0         R     Shane Newsom           L                 100.000000   \n",
       "1      Open              NaN         NaN                  93.418871   \n",
       "2         R      Shawn Jones           L                  91.250686   \n",
       "3         R              NaN         NaN                  87.276685   \n",
       "4      Open     Nelson Range           L                  86.885977   \n",
       "\n",
       "  anti_gerrymandering_party  geoid chamber  \\\n",
       "0                         D  48112      HD   \n",
       "1                         D  48026      HD   \n",
       "2                         D  48066      HD   \n",
       "3                         D  48067      HD   \n",
       "4                         D  48096      HD   \n",
       "\n",
       "                                       district_link  \\\n",
       "0  https://ballotpedia.org/Texas_House_of_Represe...   \n",
       "1  https://ballotpedia.org/Texas_House_of_Represe...   \n",
       "2  https://ballotpedia.org/Texas_House_of_Represe...   \n",
       "3  https://ballotpedia.org/Texas_House_of_Represe...   \n",
       "4  https://ballotpedia.org/Texas_House_of_Represe...   \n",
       "\n",
       "                         dem_cand_link                       rep_cand_link  \\\n",
       "0         https://brandykchambers.com/         http://www.angiebutton.com/   \n",
       "1  https://www.democratdemerchant.com/        https://www.jaceyjetton.com/   \n",
       "2           https://www.sharon4tx.com/   http://mattshaheen.com/index.html   \n",
       "3     https://www.lorenzofortexas.com/           http://www.jeffleach.com/   \n",
       "4     https://dragofortexas.com/home-1  https://www.davidcookfortexas.com/   \n",
       "\n",
       "                       third_cand_link  \n",
       "0   https://www.newsomforstaterep.com/  \n",
       "1                                  NaN  \n",
       "2  https://ballotpedia.org/Shawn_Jones  \n",
       "3                                  NaN  \n",
       "4    https://nelsonrangefortexas96.com  "
      ],
      "text/html": "<div>\n<style scoped>\n    .dataframe tbody tr th:only-of-type {\n        vertical-align: middle;\n    }\n\n    .dataframe tbody tr th {\n        vertical-align: top;\n    }\n\n    .dataframe thead th {\n        text-align: right;\n    }\n</style>\n<table border=\"1\" class=\"dataframe\">\n  <thead>\n    <tr style=\"text-align: right;\">\n      <th></th>\n      <th>state</th>\n      <th>district</th>\n      <th>favored</th>\n      <th>confidence</th>\n      <th>rep_nominee</th>\n      <th>dem_nominee</th>\n      <th>incumbent</th>\n      <th>third_party_cand</th>\n      <th>third_party</th>\n      <th>redistricting_voter_power</th>\n      <th>anti_gerrymandering_party</th>\n      <th>geoid</th>\n      <th>chamber</th>\n      <th>district_link</th>\n      <th>dem_cand_link</th>\n      <th>rep_cand_link</th>\n      <th>third_cand_link</th>\n    </tr>\n  </thead>\n  <tbody>\n    <tr>\n      <th>0</th>\n      <td>TX</td>\n      <td>TX-HD-112</td>\n      <td>FALSE</td>\n      <td>Toss-Up</td>\n      <td>Angie Chen Button</td>\n      <td>Brandy Chambers</td>\n      <td>R</td>\n      <td>Shane Newsom</td>\n      <td>L</td>\n      <td>100.000000</td>\n      <td>D</td>\n      <td>48112</td>\n      <td>HD</td>\n      <td>https://ballotpedia.org/Texas_House_of_Represe...</td>\n      <td>https://brandykchambers.com/</td>\n      <td>http://www.angiebutton.com/</td>\n      <td>https://www.newsomforstaterep.com/</td>\n    </tr>\n    <tr>\n      <th>1</th>\n      <td>TX</td>\n      <td>TX-HD-26</td>\n      <td>R</td>\n      <td>Tilt</td>\n      <td>Jacey Jetton</td>\n      <td>L. Sarah DeMerchant</td>\n      <td>Open</td>\n      <td>NaN</td>\n      <td>NaN</td>\n      <td>93.418871</td>\n      <td>D</td>\n      <td>48026</td>\n      <td>HD</td>\n      <td>https://ballotpedia.org/Texas_House_of_Represe...</td>\n      <td>https://www.democratdemerchant.com/</td>\n      <td>https://www.jaceyjetton.com/</td>\n      <td>NaN</td>\n    </tr>\n    <tr>\n      <th>2</th>\n      <td>TX</td>\n      <td>TX-HD-66</td>\n      <td>FALSE</td>\n      <td>Toss-Up</td>\n      <td>Matt Shaheen</td>\n      <td>Sharon Hirsch</td>\n      <td>R</td>\n      <td>Shawn Jones</td>\n      <td>L</td>\n      <td>91.250686</td>\n      <td>D</td>\n      <td>48066</td>\n      <td>HD</td>\n      <td>https://ballotpedia.org/Texas_House_of_Represe...</td>\n      <td>https://www.sharon4tx.com/</td>\n      <td>http://mattshaheen.com/index.html</td>\n      <td>https://ballotpedia.org/Shawn_Jones</td>\n    </tr>\n    <tr>\n      <th>3</th>\n      <td>TX</td>\n      <td>TX-HD-67</td>\n      <td>FALSE</td>\n      <td>Toss-Up</td>\n      <td>Jeff Leach</td>\n      <td>Lorenzo Sanchez</td>\n      <td>R</td>\n      <td>NaN</td>\n      <td>NaN</td>\n      <td>87.276685</td>\n      <td>D</td>\n      <td>48067</td>\n      <td>HD</td>\n      <td>https://ballotpedia.org/Texas_House_of_Represe...</td>\n      <td>https://www.lorenzofortexas.com/</td>\n      <td>http://www.jeffleach.com/</td>\n      <td>NaN</td>\n    </tr>\n    <tr>\n      <th>4</th>\n      <td>TX</td>\n      <td>TX-HD-96</td>\n      <td>FALSE</td>\n      <td>Toss-Up</td>\n      <td>David Cook</td>\n      <td>Joe Drago</td>\n      <td>Open</td>\n      <td>Nelson Range</td>\n      <td>L</td>\n      <td>86.885977</td>\n      <td>D</td>\n      <td>48096</td>\n      <td>HD</td>\n      <td>https://ballotpedia.org/Texas_House_of_Represe...</td>\n      <td>https://dragofortexas.com/home-1</td>\n      <td>https://www.davidcookfortexas.com/</td>\n      <td>https://nelsonrangefortexas96.com</td>\n    </tr>\n  </tbody>\n</table>\n</div>"
     },
     "metadata": {},
     "execution_count": 5
    }
   ],
   "source": [
    "old = pd.read_csv('processed_data.csv')\n",
    "old.head()"
   ]
  },
  {
   "cell_type": "code",
   "execution_count": 8,
   "metadata": {},
   "outputs": [
    {
     "output_type": "execute_result",
     "data": {
      "text/plain": [
       "  state   district incumbent favored confidence              nom_R  \\\n",
       "0    TX  TX-HD-112         R   FALSE    Toss-Up  Angie Chen Button   \n",
       "1    TX   TX-HD-26     FALSE   FALSE    Toss-Up       Jacey Jetton   \n",
       "2    TX   TX-HD-92     FALSE   FALSE    Toss-Up         Jeff Cason   \n",
       "3    TX   TX-HD-67         R   FALSE    Toss-Up         Jeff Leach   \n",
       "4    TX   TX-HD-96     FALSE   FALSE    Toss-Up         David Cook   \n",
       "\n",
       "              nom_D  nom_I    cvap  VOTER_POWER  redistricting_voter_power  \\\n",
       "0   Brandy Chambers  FALSE  109960     0.000006                   0.000213   \n",
       "1  Sarah DeMarchant  FALSE  115745     0.000005                   0.000200   \n",
       "2    Jeff Whitfield  FALSE  121695     0.000005                   0.000191   \n",
       "3   Lorenzo Sanchez  FALSE  128105     0.000005                   0.000184   \n",
       "4         Joe Drago  FALSE  127240     0.000005                   0.000183   \n",
       "\n",
       "   r_v_p scaled  r_v_p scaled + absolute  \n",
       "0    100.000000               100.000000  \n",
       "1     93.552609                93.552609  \n",
       "2     89.656153                89.656153  \n",
       "3     86.154360                86.154360  \n",
       "4     85.559309                85.559309  "
      ],
      "text/html": "<div>\n<style scoped>\n    .dataframe tbody tr th:only-of-type {\n        vertical-align: middle;\n    }\n\n    .dataframe tbody tr th {\n        vertical-align: top;\n    }\n\n    .dataframe thead th {\n        text-align: right;\n    }\n</style>\n<table border=\"1\" class=\"dataframe\">\n  <thead>\n    <tr style=\"text-align: right;\">\n      <th></th>\n      <th>state</th>\n      <th>district</th>\n      <th>incumbent</th>\n      <th>favored</th>\n      <th>confidence</th>\n      <th>nom_R</th>\n      <th>nom_D</th>\n      <th>nom_I</th>\n      <th>cvap</th>\n      <th>VOTER_POWER</th>\n      <th>redistricting_voter_power</th>\n      <th>r_v_p scaled</th>\n      <th>r_v_p scaled + absolute</th>\n    </tr>\n  </thead>\n  <tbody>\n    <tr>\n      <th>0</th>\n      <td>TX</td>\n      <td>TX-HD-112</td>\n      <td>R</td>\n      <td>FALSE</td>\n      <td>Toss-Up</td>\n      <td>Angie Chen Button</td>\n      <td>Brandy Chambers</td>\n      <td>FALSE</td>\n      <td>109960</td>\n      <td>0.000006</td>\n      <td>0.000213</td>\n      <td>100.000000</td>\n      <td>100.000000</td>\n    </tr>\n    <tr>\n      <th>1</th>\n      <td>TX</td>\n      <td>TX-HD-26</td>\n      <td>FALSE</td>\n      <td>FALSE</td>\n      <td>Toss-Up</td>\n      <td>Jacey Jetton</td>\n      <td>Sarah DeMarchant</td>\n      <td>FALSE</td>\n      <td>115745</td>\n      <td>0.000005</td>\n      <td>0.000200</td>\n      <td>93.552609</td>\n      <td>93.552609</td>\n    </tr>\n    <tr>\n      <th>2</th>\n      <td>TX</td>\n      <td>TX-HD-92</td>\n      <td>FALSE</td>\n      <td>FALSE</td>\n      <td>Toss-Up</td>\n      <td>Jeff Cason</td>\n      <td>Jeff Whitfield</td>\n      <td>FALSE</td>\n      <td>121695</td>\n      <td>0.000005</td>\n      <td>0.000191</td>\n      <td>89.656153</td>\n      <td>89.656153</td>\n    </tr>\n    <tr>\n      <th>3</th>\n      <td>TX</td>\n      <td>TX-HD-67</td>\n      <td>R</td>\n      <td>FALSE</td>\n      <td>Toss-Up</td>\n      <td>Jeff Leach</td>\n      <td>Lorenzo Sanchez</td>\n      <td>FALSE</td>\n      <td>128105</td>\n      <td>0.000005</td>\n      <td>0.000184</td>\n      <td>86.154360</td>\n      <td>86.154360</td>\n    </tr>\n    <tr>\n      <th>4</th>\n      <td>TX</td>\n      <td>TX-HD-96</td>\n      <td>FALSE</td>\n      <td>FALSE</td>\n      <td>Toss-Up</td>\n      <td>David Cook</td>\n      <td>Joe Drago</td>\n      <td>FALSE</td>\n      <td>127240</td>\n      <td>0.000005</td>\n      <td>0.000183</td>\n      <td>85.559309</td>\n      <td>85.559309</td>\n    </tr>\n  </tbody>\n</table>\n</div>"
     },
     "metadata": {},
     "execution_count": 8
    }
   ],
   "source": [
    "sheet = pd.read_csv(\"all_results_10_10_2020-sorted.csv\")\n",
    "sheet.head()"
   ]
  },
  {
   "cell_type": "code",
   "execution_count": 24,
   "metadata": {},
   "outputs": [],
   "source": [
    "# sheet['anti_gerrymandering_party'] = sheet.apply(lambda row: sheet['r_v_p scaled'])\n",
    "def calc_anti_gerrymandering_party(row):\n",
    "    if row['r_v_p scaled'] > 0:\n",
    "        return 'D'\n",
    "    if row['r_v_p scaled'] < 0:\n",
    "        return 'R'\n",
    "\n",
    "sheet['anti_gerrymandering_party'] = sheet.apply(lambda row: calc_anti_gerrymandering_party(row), axis=1)"
   ]
  },
  {
   "cell_type": "code",
   "execution_count": 20,
   "metadata": {},
   "outputs": [],
   "source": [
    "# rename(columns = {'test':'TEST'}, inplace = True) \n",
    "sheet.rename(columns = {'nom_R':'rep_nominee'}, inplace = True)"
   ]
  },
  {
   "cell_type": "code",
   "execution_count": 22,
   "metadata": {},
   "outputs": [],
   "source": [
    "sheet.rename(columns = {'nom_D':'dem_nominee'}, inplace = True)"
   ]
  },
  {
   "cell_type": "code",
   "execution_count": 26,
   "metadata": {},
   "outputs": [],
   "source": [
    "def calc_third_party_cand(row):\n",
    "    if row['nom_I']:\n",
    "        return row['nom_I']\n",
    "    else:\n",
    "        return ''\n",
    "\n",
    "sheet['third_party_cand'] = sheet.apply(lambda row: calc_third_party_cand(row), axis=1)"
   ]
  },
  {
   "cell_type": "code",
   "execution_count": 29,
   "metadata": {},
   "outputs": [
    {
     "output_type": "execute_result",
     "data": {
      "text/plain": [
       "  state   district incumbent favored confidence        rep_nominee  \\\n",
       "0    TX  TX-HD-112         R   FALSE    Toss-Up  Angie Chen Button   \n",
       "1    TX   TX-HD-26     FALSE   FALSE    Toss-Up       Jacey Jetton   \n",
       "2    TX   TX-HD-92     FALSE   FALSE    Toss-Up         Jeff Cason   \n",
       "3    TX   TX-HD-67         R   FALSE    Toss-Up         Jeff Leach   \n",
       "4    TX   TX-HD-96     FALSE   FALSE    Toss-Up         David Cook   \n",
       "\n",
       "        dem_nominee  nom_I    cvap  VOTER_POWER  redistricting_voter_power  \\\n",
       "0   Brandy Chambers  FALSE  109960     0.000006                   0.000213   \n",
       "1  Sarah DeMarchant  FALSE  115745     0.000005                   0.000200   \n",
       "2    Jeff Whitfield  FALSE  121695     0.000005                   0.000191   \n",
       "3   Lorenzo Sanchez  FALSE  128105     0.000005                   0.000184   \n",
       "4         Joe Drago  FALSE  127240     0.000005                   0.000183   \n",
       "\n",
       "   r_v_p scaled  r_v_p scaled + absolute anti_gerrymandering_party  \\\n",
       "0    100.000000               100.000000                         D   \n",
       "1     93.552609                93.552609                         D   \n",
       "2     89.656153                89.656153                         D   \n",
       "3     86.154360                86.154360                         D   \n",
       "4     85.559309                85.559309                         D   \n",
       "\n",
       "  third_party_cand  \n",
       "0            FALSE  \n",
       "1            FALSE  \n",
       "2            FALSE  \n",
       "3            FALSE  \n",
       "4            FALSE  "
      ],
      "text/html": "<div>\n<style scoped>\n    .dataframe tbody tr th:only-of-type {\n        vertical-align: middle;\n    }\n\n    .dataframe tbody tr th {\n        vertical-align: top;\n    }\n\n    .dataframe thead th {\n        text-align: right;\n    }\n</style>\n<table border=\"1\" class=\"dataframe\">\n  <thead>\n    <tr style=\"text-align: right;\">\n      <th></th>\n      <th>state</th>\n      <th>district</th>\n      <th>incumbent</th>\n      <th>favored</th>\n      <th>confidence</th>\n      <th>rep_nominee</th>\n      <th>dem_nominee</th>\n      <th>nom_I</th>\n      <th>cvap</th>\n      <th>VOTER_POWER</th>\n      <th>redistricting_voter_power</th>\n      <th>r_v_p scaled</th>\n      <th>r_v_p scaled + absolute</th>\n      <th>anti_gerrymandering_party</th>\n      <th>third_party_cand</th>\n    </tr>\n  </thead>\n  <tbody>\n    <tr>\n      <th>0</th>\n      <td>TX</td>\n      <td>TX-HD-112</td>\n      <td>R</td>\n      <td>FALSE</td>\n      <td>Toss-Up</td>\n      <td>Angie Chen Button</td>\n      <td>Brandy Chambers</td>\n      <td>FALSE</td>\n      <td>109960</td>\n      <td>0.000006</td>\n      <td>0.000213</td>\n      <td>100.000000</td>\n      <td>100.000000</td>\n      <td>D</td>\n      <td>FALSE</td>\n    </tr>\n    <tr>\n      <th>1</th>\n      <td>TX</td>\n      <td>TX-HD-26</td>\n      <td>FALSE</td>\n      <td>FALSE</td>\n      <td>Toss-Up</td>\n      <td>Jacey Jetton</td>\n      <td>Sarah DeMarchant</td>\n      <td>FALSE</td>\n      <td>115745</td>\n      <td>0.000005</td>\n      <td>0.000200</td>\n      <td>93.552609</td>\n      <td>93.552609</td>\n      <td>D</td>\n      <td>FALSE</td>\n    </tr>\n    <tr>\n      <th>2</th>\n      <td>TX</td>\n      <td>TX-HD-92</td>\n      <td>FALSE</td>\n      <td>FALSE</td>\n      <td>Toss-Up</td>\n      <td>Jeff Cason</td>\n      <td>Jeff Whitfield</td>\n      <td>FALSE</td>\n      <td>121695</td>\n      <td>0.000005</td>\n      <td>0.000191</td>\n      <td>89.656153</td>\n      <td>89.656153</td>\n      <td>D</td>\n      <td>FALSE</td>\n    </tr>\n    <tr>\n      <th>3</th>\n      <td>TX</td>\n      <td>TX-HD-67</td>\n      <td>R</td>\n      <td>FALSE</td>\n      <td>Toss-Up</td>\n      <td>Jeff Leach</td>\n      <td>Lorenzo Sanchez</td>\n      <td>FALSE</td>\n      <td>128105</td>\n      <td>0.000005</td>\n      <td>0.000184</td>\n      <td>86.154360</td>\n      <td>86.154360</td>\n      <td>D</td>\n      <td>FALSE</td>\n    </tr>\n    <tr>\n      <th>4</th>\n      <td>TX</td>\n      <td>TX-HD-96</td>\n      <td>FALSE</td>\n      <td>FALSE</td>\n      <td>Toss-Up</td>\n      <td>David Cook</td>\n      <td>Joe Drago</td>\n      <td>FALSE</td>\n      <td>127240</td>\n      <td>0.000005</td>\n      <td>0.000183</td>\n      <td>85.559309</td>\n      <td>85.559309</td>\n      <td>D</td>\n      <td>FALSE</td>\n    </tr>\n  </tbody>\n</table>\n</div>"
     },
     "metadata": {},
     "execution_count": 29
    }
   ],
   "source": [
    "sheet.head()"
   ]
  },
  {
   "cell_type": "code",
   "execution_count": 49,
   "metadata": {},
   "outputs": [],
   "source": [
    "# converts district code from the money ball csv to a GEOID\n",
    "# ex. \"CT-HD-59\" --> '9059'\n",
    "# ex. \"MN-HD-13A\" --> '2713A'\n",
    "def getGEOID(row, leading_zero = False):\n",
    "    district_str = row['district']\n",
    "    state, chamber, dist_num = district_str.split('-')\n",
    "    GEOID = str(get_state_code(state)) \n",
    "    if leading_zero and len(GEOID) < 2: \n",
    "        GEOID= '0' + GEOID\n",
    "    while len(dist_num) <3: \n",
    "        dist_num = '0' + dist_num\n",
    "    GEOID =  GEOID + dist_num\n",
    "    return GEOID\n",
    "\n",
    "# Util method to come between state formats \n",
    "# returnType must be either 'full' 'two_digit' or 'FIPS'\n",
    "def get_state_code(input, returnType = 'FIPS'):\n",
    "    if (returnType != 'full' and returnType != 'two_digit' and returnType != 'FIPS'):\n",
    "        raise ValueError(\"returnType must be either 'full' 'two_digit' or 'FIPS'\")\n",
    "\n",
    "    code_hash = {\n",
    "        'AL': {'full': 'Alabama', 'two_digit': 'AL', 'FIPS': 1},\n",
    "        'AK': {'full': 'Alaska', 'two_digit': 'AK', 'FIPS': 2},\n",
    "        'AZ': {'full': 'Arizona', 'two_digit': 'AZ', 'FIPS': 4},\n",
    "        'AR': {'full': 'Arkansas', 'two_digit': 'AR', 'FIPS': 5},\n",
    "        'CA': {'full': 'California', 'two_digit': 'CA', 'FIPS': 6},\n",
    "        'CO': {'full': 'Colorado', 'two_digit': 'CO', 'FIPS': 8},\n",
    "        'CT': {'full': 'Connecticut', 'two_digit': 'CT', 'FIPS': 9},\n",
    "        'DE': {'full': 'Delaware', 'two_digit': 'DE', 'FIPS': 10},\n",
    "        'DC': {'full': 'District of Columbia', 'two_digit': 'DC', 'FIPS': 11},\n",
    "        'FL': {'full': 'Florida', 'two_digit': 'FL', 'FIPS': 12},\n",
    "        'GA': {'full': 'Georgia', 'two_digit': 'GA', 'FIPS': 13},\n",
    "        'HI': {'full': 'Hawaii', 'two_digit': 'HI', 'FIPS': 15},\n",
    "        'ID': {'full': 'Idaho', 'two_digit': 'ID', 'FIPS': 16},\n",
    "        'IL': {'full': 'Illinois', 'two_digit': 'IL', 'FIPS': 17},\n",
    "        'IN': {'full': 'Indiana', 'two_digit': 'IN', 'FIPS': 18},\n",
    "        'IA': {'full': 'Iowa', 'two_digit': 'IA', 'FIPS': 19},\n",
    "        'KS': {'full': 'Kansas', 'two_digit': 'KS', 'FIPS': 20},\n",
    "        'KY': {'full': 'Kentucky', 'two_digit': 'KY', 'FIPS': 21},\n",
    "        'LA': {'full': 'Louisiana', 'two_digit': 'LA', 'FIPS': 22},\n",
    "        'ME': {'full': 'Maine', 'two_digit': 'ME', 'FIPS': 23},\n",
    "        'MD': {'full': 'Maryland', 'two_digit': 'MD', 'FIPS': 24},\n",
    "        'MA': {'full': 'Massachusetts', 'two_digit': 'MA', 'FIPS': 25},\n",
    "        'MI': {'full': 'Michigan', 'two_digit': 'MI', 'FIPS': 26},\n",
    "        'MN': {'full': 'Minnesota', 'two_digit': 'MN', 'FIPS': 27},\n",
    "        'MS': {'full': 'Mississippi', 'two_digit': 'MS', 'FIPS': 28},\n",
    "        'MO': {'full': 'Missouri', 'two_digit': 'MO', 'FIPS': 29},\n",
    "        'MT': {'full': 'Montana', 'two_digit': 'MT', 'FIPS': 30},\n",
    "        'NE': {'full': 'Nebraska', 'two_digit': 'NE', 'FIPS': 31},\n",
    "        'NV': {'full': 'Nevada', 'two_digit': 'NV', 'FIPS': 32},\n",
    "        'NH': {'full': 'New Hampshire', 'two_digit': 'NH', 'FIPS': 33},\n",
    "        'NJ': {'full': 'New Jersey', 'two_digit': 'NJ', 'FIPS': 34},\n",
    "        'NM': {'full': 'New Mexico', 'two_digit': 'NM', 'FIPS': 35},\n",
    "        'NY': {'full': 'New York', 'two_digit': 'NY', 'FIPS': 36},\n",
    "        'NC': {'full': 'North Carolina', 'two_digit': 'NC', 'FIPS': 37},\n",
    "        'ND': {'full': 'North Dakota', 'two_digit': 'ND', 'FIPS': 38},\n",
    "        'OH': {'full': 'Ohio', 'two_digit': 'OH', 'FIPS': 39},\n",
    "        'OK': {'full': 'Oklahoma', 'two_digit': 'OK', 'FIPS': 40},\n",
    "        'OR': {'full': 'Oregon', 'two_digit': 'OR', 'FIPS': 41},\n",
    "        'PA': {'full': 'Pennsylvania', 'two_digit': 'PA', 'FIPS': 42},\n",
    "        'RI': {'full': 'Rhode Island', 'two_digit': 'RI', 'FIPS': 44},\n",
    "        'SC': {'full': 'South Carolina', 'two_digit': 'SC', 'FIPS': 45},\n",
    "        'SD': {'full': 'South Dakota', 'two_digit': 'SD', 'FIPS': 46},\n",
    "        'TN': {'full': 'Tennessee', 'two_digit': 'TN', 'FIPS': 47},\n",
    "        'TX': {'full': 'Texas', 'two_digit': 'TX', 'FIPS': 48},\n",
    "        'UT': {'full': 'Utah', 'two_digit': 'UT', 'FIPS': 49},\n",
    "        'VT': {'full': 'Vermont', 'two_digit': 'VT', 'FIPS': 50},\n",
    "        'VA': {'full': 'Virginia', 'two_digit': 'VA', 'FIPS': 51},\n",
    "        'WA': {'full': 'Washington', 'two_digit': 'WA', 'FIPS': 53},\n",
    "        'WV': {'full': 'West Virginia', 'two_digit': 'WV', 'FIPS': 54},\n",
    "        'WI': {'full': 'Wisconsin', 'two_digit': 'WI', 'FIPS': 55},\n",
    "        'WY': {'full': 'Wyoming', 'two_digit': 'WY', 'FIPS': 56},\n",
    "        'PR': {'full': 'Puerto Rico', 'two_digit': 'PR', 'FIPS': 72}\n",
    "    }\n",
    "    for row in code_hash:\n",
    "        for value in code_hash[row]:\n",
    "            if code_hash[row][value] == input:\n",
    "                return code_hash[row][returnType]\n",
    "    return None\n",
    "\n",
    "# extracts the chamber type from the district code in the money ball csv\n",
    "# ex. \"CT-HD-59\" --> 'HD'\n",
    "def getChamber(district_str):\n",
    "    state, chamber, dist_num = district_str.split('-')\n",
    "    return chamber\n",
    "\n",
    "def getChamberRow(row):\n",
    "    return getChamber(row['district'])\n",
    "\n",
    "# extracts the district name.  Used for the non-numerical Massachussets \n",
    "# districts in place of GEOID matching\n",
    "def getName(district_str):\n",
    "    state, chamber, dist_str = district_str.split('-')\n",
    "    if len(dist_str) < 4 : return ''\n",
    "    return dist_str"
   ]
  },
  {
   "cell_type": "code",
   "execution_count": 46,
   "metadata": {},
   "outputs": [],
   "source": [
    "new_sheet = pd.read_csv(\"all_results_10_10_2020-sorted-updated.csv\")\n"
   ]
  },
  {
   "cell_type": "code",
   "execution_count": 48,
   "metadata": {},
   "outputs": [],
   "source": [
    "new_sheet['geoid'] = new_sheet.apply(lambda row: getGEOID(row), axis=1)"
   ]
  },
  {
   "cell_type": "code",
   "execution_count": 51,
   "metadata": {},
   "outputs": [],
   "source": [
    "new_sheet['chamber'] = new_sheet.apply(lambda row:getChamberRow(row), axis=1)"
   ]
  },
  {
   "cell_type": "code",
   "execution_count": 63,
   "metadata": {},
   "outputs": [],
   "source": [
    "url_hash = pd.read_json('url_hash.json', lines=True, orient=str)"
   ]
  },
  {
   "cell_type": "code",
   "execution_count": 121,
   "metadata": {},
   "outputs": [],
   "source": [
    "# new_sheet[\"dem_cand_link\"]\n",
    "# new_sheet[\"rep_cand_link\"]\n",
    "# new_sheet[\"third_cand_link\"]\n",
    "def get_district_link(row):\n",
    "    if row['district'] not in url_hash:\n",
    "        return ''\n",
    "    else:\n",
    "        return url_hash[row['district']]\n",
    "\n",
    "new_sheet[\"district_link\"] = new_sheet.apply(lambda row:get_district_link(row), axis=1)\n",
    "\n",
    "def get_rep_nom_link(row):\n",
    "    if row['rep_nominee'] not in url_hash:\n",
    "        return ''\n",
    "    else:\n",
    "        return url_hash[row['rep_nominee']]\n",
    "\n",
    "new_sheet[\"rep_cand_link\"] = new_sheet.apply(lambda row:get_rep_nom_link(row), axis=1)\n",
    "\n",
    "def get_dem_nom_link(row):\n",
    "    if row['dem_nominee'] not in url_hash:\n",
    "        return ''\n",
    "    else:\n",
    "        return url_hash[row['dem_nominee']]\n",
    "\n",
    "new_sheet[\"dem_cand_link\"] = new_sheet.apply(lambda row:get_dem_nom_link(row), axis=1)\n",
    "\n",
    "def get_third_nom_link(row):\n",
    "    if row['third_party_cand'] == 'FALSE':\n",
    "        return ''\n",
    "    noms = row['third_party_cand'].split(\",\")\n",
    "    links = []\n",
    "    for nom in noms:\n",
    "        if nom not in url_hash:\n",
    "            pass\n",
    "        else:\n",
    "            links.append(url_hash[nom])\n",
    "    return links\n",
    "\n",
    "new_sheet[\"third_cand_link\"] = new_sheet.apply(lambda row:get_third_nom_link(row), axis=1)"
   ]
  },
  {
   "cell_type": "code",
   "execution_count": 122,
   "metadata": {},
   "outputs": [],
   "source": [
    "new_sheet.to_csv(\"all_results_10_10_2020-sorted-updated.csv\")"
   ]
  },
  {
   "cell_type": "code",
   "execution_count": null,
   "metadata": {},
   "outputs": [],
   "source": []
  }
 ]
}