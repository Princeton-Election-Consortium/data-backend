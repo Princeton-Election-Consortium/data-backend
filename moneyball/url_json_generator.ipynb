{
 "metadata": {
  "language_info": {
   "codemirror_mode": {
    "name": "ipython",
    "version": 3
   },
   "file_extension": ".py",
   "mimetype": "text/x-python",
   "name": "python",
   "nbconvert_exporter": "python",
   "pygments_lexer": "ipython3",
   "version": "3.7.3-final"
  },
  "orig_nbformat": 2,
  "kernelspec": {
   "name": "python_defaultSpec_1598558165804",
   "display_name": "Python 3.7.3 64-bit"
  }
 },
 "nbformat": 4,
 "nbformat_minor": 2,
 "cells": [
  {
   "cell_type": "code",
   "execution_count": 36,
   "metadata": {},
   "outputs": [],
   "source": [
    "import pandas as pd \n",
    "import csv\n",
    "from pathlib import Path\n",
    "import json"
   ]
  },
  {
   "cell_type": "code",
   "execution_count": 37,
   "metadata": {},
   "outputs": [],
   "source": [
    "moneyball_dir = Path.cwd() \n",
    "data_dir = Path.cwd() / \"data\""
   ]
  },
  {
   "cell_type": "code",
   "execution_count": 43,
   "metadata": {},
   "outputs": [],
   "source": [
    "df = pd.read_csv(moneyball_dir / 'processed_data_8_26.csv')\n",
    "df = df.fillna('')"
   ]
  },
  {
   "cell_type": "code",
   "execution_count": 44,
   "metadata": {
    "tags": []
   },
   "outputs": [
    {
     "output_type": "stream",
     "name": "stdout",
     "text": "duplicate r candidate: Mike Petersen voter power: 0.0591415892386632\nduplicate r candidate: Dave Baker voter power: 0.0529480322936576\nduplicate r candidate: Paul Anderson voter power: 0.0407106895865616\nduplicate r candidate: David Smith voter power: 0.0095971131061844\nduplicate r candidate: Jerry Carter voter power: 0.0058195148716032\nduplicate d candidate: Patrick Henry voter power: 4.1481854413245465\nduplicate d candidate: David Young voter power: 1.0233097984359647\nduplicate d candidate: Steve Samuelson voter power: 0.0860074885591458\n"
    }
   ],
   "source": [
    "url_dict = {}\n",
    "\n",
    "# add district -> district_url hashes\n",
    "for i in range(len(df)):\n",
    "    url_dict[df.iloc[i]['district']]= df.iloc[i]['district_link']\n",
    "\n",
    "# add r_cand -> r_cand_url hashes\n",
    "for i in range(len(df)):\n",
    "    rep_nominee = df.iloc[i]['rep_nominee']\n",
    "    if len(str(rep_nominee)) < 4: continue \n",
    "    if rep_nominee in url_dict: \n",
    "        print('duplicate r candidate: ' + str(rep_nominee) + ' voter power: ' + str(df.iloc[i]['redistricting_voter_power'])) \n",
    "        continue\n",
    "    url_dict[rep_nominee] = df.iloc[i]['rep_cand_link']\n",
    "\n",
    "# add d_cand -> d_cand_url hashes\n",
    "for i in range(len(df)):\n",
    "    dem_nominee = df.iloc[i]['dem_nominee']\n",
    "    if len(str(dem_nominee)) < 4: continue \n",
    "    if dem_nominee in url_dict: \n",
    "        print('duplicate d candidate: ' + str(dem_nominee) + ' voter power: ' + str(df.iloc[i]['redistricting_voter_power']))\n",
    "        continue\n",
    "    url_dict[dem_nominee] = df.iloc[i]['dem_cand_link']\n"
   ]
  },
  {
   "cell_type": "code",
   "execution_count": 46,
   "metadata": {},
   "outputs": [],
   "source": [
    "with open('url_hash.json', 'w') as fp:\n",
    "    json.dump(url_dict, fp)"
   ]
  },
  {
   "cell_type": "code",
   "execution_count": null,
   "metadata": {},
   "outputs": [],
   "source": []
  }
 ]
}