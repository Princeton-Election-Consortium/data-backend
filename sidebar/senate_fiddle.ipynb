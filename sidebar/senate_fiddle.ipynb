{
 "cells": [
  {
   "cell_type": "code",
   "execution_count": 57,
   "metadata": {},
   "outputs": [],
   "source": [
    "import csv\n",
    "import os\n",
    "from decimal import *\n",
    "import state_code_util\n",
    "\n"
   ]
  },
  {
   "cell_type": "code",
   "execution_count": null,
   "metadata": {},
   "outputs": [],
   "source": []
  },
  {
   "cell_type": "code",
   "execution_count": 10,
   "metadata": {},
   "outputs": [],
   "source": [
    "def get_candidates(path):\n",
    "    candidates = {}\n",
    "    \n",
    "    with open(path, 'r') as f:\n",
    "        reader = csv.DictReader(f)\n",
    "        for row in reader:\n",
    "            candidates[row['code']] = {\n",
    "                'dem' : row['dem'],\n",
    "                'rep' : row['rep']\n",
    "            }\n",
    "    return candidates"
   ]
  },
  {
   "cell_type": "code",
   "execution_count": 29,
   "metadata": {},
   "outputs": [],
   "source": [
    "# *** note *** relies on Senate_jerseyvotes.m to be maximal voting power \n",
    "# sorted in order for table to be like-so\n",
    "def get_jerseyvotes(path):\n",
    "    votes = {}\n",
    "\n",
    "    with open(path, 'r') as f:\n",
    "        reader = csv.reader(f)\n",
    "        for row in reader:\n",
    "            votes[row[1]] = {\n",
    "                'margin' : round(float(row[2]), 1),\n",
    "                'jersey_votes' : round(float(row[3]), 1),\n",
    "            }\n",
    "    return votes"
   ]
  },
  {
   "cell_type": "code",
   "execution_count": 30,
   "metadata": {},
   "outputs": [],
   "source": [
    "def main():\n",
    "    # realpath arg had been __file__ serverside\n",
    "    dir_path = os.path.dirname(os.path.realpath(''))\n",
    "    \n",
    "    path = os.path.join(dir_path, './scraping/outputs/2020.Senate.priors.csv')\n",
    "    names = get_candidates(path)\n",
    "    #print(names)\n",
    "\n",
    "    path = os.path.join(dir_path, './matlab/outputs/Senate_jerseyvotes.csv')\n",
    "    votes = get_jerseyvotes(path)\n",
    "    #print(votes)\n",
    "    \n",
    "\n",
    "\n"
   ]
  },
  {
   "cell_type": "code",
   "execution_count": 31,
   "metadata": {
    "tags": []
   },
   "outputs": [
    {
     "output_type": "stream",
     "name": "stdout",
     "text": "{'MT': {'margin': 3.5, 'jersey_votes': 100.0}, 'KS': {'margin': 1.0, 'jersey_votes': 73.5}, 'ME': {'margin': 4.0, 'jersey_votes': 72.2}, 'IA': {'margin': 2.5, 'jersey_votes': 58.8}, 'KY': {'margin': 0.0, 'jersey_votes': 36.9}, 'NC': {'margin': 2.0, 'jersey_votes': 20.2}, 'AL': {'margin': -8.0, 'jersey_votes': 16.8}, 'NH': {'margin': 10.0, 'jersey_votes': 11.5}, 'SC': {'margin': -4.0, 'jersey_votes': 10.6}, 'GA': {'margin': -2.0, 'jersey_votes': 9.3}, 'MN': {'margin': 10.0, 'jersey_votes': 2.9}, 'MI': {'margin': 12.0, 'jersey_votes': 2.6}, 'GS': {'margin': -11.0, 'jersey_votes': 1.8}, 'AZ': {'margin': 13.0, 'jersey_votes': 1.8}, 'NM': {'margin': 19.0, 'jersey_votes': 1.5}, 'AK': {'margin': -10.0, 'jersey_votes': 1.3}, 'CO': {'margin': 17.3, 'jersey_votes': 0.6}, 'TX': {'margin': -10.5, 'jersey_votes': 0.5}}\n"
    }
   ],
   "source": [
    "main()"
   ]
  },
  {
   "cell_type": "code",
   "execution_count": null,
   "metadata": {},
   "outputs": [],
   "source": []
  },
  {
   "cell_type": "code",
   "execution_count": 58,
   "metadata": {},
   "outputs": [
    {
     "output_type": "error",
     "ename": "NameError",
     "evalue": "name 'get_formatted_state' is not defined",
     "traceback": [
      "\u001b[0;31m---------------------------------------------------------------------------\u001b[0m",
      "\u001b[0;31mNameError\u001b[0m                                 Traceback (most recent call last)",
      "\u001b[0;32m<ipython-input-58-f9f3f12fd849>\u001b[0m in \u001b[0;36m<module>\u001b[0;34m\u001b[0m\n\u001b[0;32m----> 1\u001b[0;31m \u001b[0mprint\u001b[0m\u001b[0;34m(\u001b[0m\u001b[0mget_formatted_state\u001b[0m\u001b[0;34m(\u001b[0m\u001b[0;34m\"AL\"\u001b[0m\u001b[0;34m,\u001b[0m \u001b[0murl_format\u001b[0m\u001b[0;34m=\u001b[0m\u001b[0;32mTrue\u001b[0m\u001b[0;34m)\u001b[0m\u001b[0;34m)\u001b[0m\u001b[0;34m\u001b[0m\u001b[0;34m\u001b[0m\u001b[0m\n\u001b[0m",
      "\u001b[0;31mNameError\u001b[0m: name 'get_formatted_state' is not defined"
     ]
    }
   ],
   "source": [
    "print(get_formatted_state(\"AL\", url_format=True))"
   ]
  },
  {
   "cell_type": "code",
   "execution_count": null,
   "metadata": {},
   "outputs": [],
   "source": []
  }
 ],
 "metadata": {
  "language_info": {
   "codemirror_mode": {
    "name": "ipython",
    "version": 3
   },
   "file_extension": ".py",
   "mimetype": "text/x-python",
   "name": "python",
   "nbconvert_exporter": "python",
   "pygments_lexer": "ipython3",
   "version": "3.7.3-final"
  },
  "orig_nbformat": 2,
  "kernelspec": {
   "name": "python37364bit9b974f366c264f03bcbc187a67b156af",
   "display_name": "Python 3.7.3 64-bit"
  }
 },
 "nbformat": 4,
 "nbformat_minor": 2
}