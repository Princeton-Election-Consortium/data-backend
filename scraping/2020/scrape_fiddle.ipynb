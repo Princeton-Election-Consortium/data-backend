{
 "cells": [
  {
   "cell_type": "code",
   "execution_count": 1,
   "metadata": {},
   "outputs": [],
   "source": [
    "import requests\n",
    "import os\n",
    "import csv\n",
    "import pandas as pd\n",
    "from datetime import datetime, timedelta"
   ]
  },
  {
   "cell_type": "code",
   "execution_count": 14,
   "metadata": {
    "tags": []
   },
   "outputs": [
    {
     "output_type": "stream",
     "name": "stdout",
     "text": "/Users/mikehallee/Desktop/repos/data-backend/scraping\n"
    }
   ],
   "source": [
    "states = []\n",
    "sen_states = []\n",
    "start_date = datetime(year=2020, month=3, day=1)\n",
    "## dir_path = os.path.dirname(os.path.realpath(__file__))\n",
    "## only use this globals() method for ipnyb jupyter notebook in place of __file__\n",
    "dir_path = globals()['_dh'][1]\n",
    "\n",
    "print(dir_path)\n"
   ]
  },
  {
   "cell_type": "code",
   "execution_count": 6,
   "metadata": {},
   "outputs": [],
   "source": [
    "def parse_candidate(row, party='Dem'):\n",
    "    answer_group = row['answers']\n",
    "    choice = next(answer for answer in answer_group if answer['party'] == party)\n",
    "    return choice['choice']"
   ]
  },
  {
   "cell_type": "code",
   "execution_count": 7,
   "metadata": {},
   "outputs": [],
   "source": [
    "def parse_dminusr(row, generic=False):\n",
    "    answer_group = row['answers']\n",
    "    d_sum = 0\n",
    "    r_sum = 0\n",
    "\n",
    "    keyword = 'party'\n",
    "    if generic:\n",
    "        keyword = 'choice'\n",
    "\n",
    "    for answer in answer_group:\n",
    "        if answer[keyword] == 'Dem':\n",
    "            d_sum += float(answer['pct'])\n",
    "        elif answer[keyword] == 'Rep':\n",
    "            r_sum += float(answer['pct'])\n",
    "\n",
    "    return d_sum - r_sum "
   ]
  },
  {
   "cell_type": "code",
   "execution_count": 8,
   "metadata": {},
   "outputs": [],
   "source": [
    "def drop_duplicate_pollsters(df):\n",
    "    # this allows us to sort these in the order we want for deletion\n",
    "    df.loc[df['population'] == 'lv', 'population'] = '1lv'\n",
    "    df.loc[df['population'] == 'rv', 'population'] = '2rv'\n",
    "    df.loc[df['population'] == 'a', 'population'] = '3a'\n",
    "\n",
    "    df = df.sort_values(by=['population']).sort_values(by=['endDate'], ascending=False).drop_duplicates(['pollster'], keep='first')\n",
    "\n",
    "    df.loc[df['population'] == '1lv', 'population'] = 'lv'\n",
    "    df.loc[df['population'] == '2rv', 'population'] = 'rv'\n",
    "    df.loc[df['population'] == '3a', 'population'] = 'a'\n",
    "\n",
    "    return df"
   ]
  },
  {
   "cell_type": "code",
   "execution_count": 9,
   "metadata": {},
   "outputs": [],
   "source": [
    "def get_polls_in_timespan(day=None, polls=None, dynamic_timespan=True):\n",
    "    current_month = datetime.today().month\n",
    "    timespan = timedelta(weeks=2)\n",
    "\n",
    "    if dynamic_timespan:\n",
    "        # before september\n",
    "        if current_month < 9:\n",
    "            timespan = timedelta(weeks=4)\n",
    "        # before october\n",
    "        elif current_month < 10:\n",
    "            timespan = timedelta(weeks=3)\n",
    "        # october-november\n",
    "        else:\n",
    "            timespan = timedelta(weeks=2)\n",
    "\n",
    "    # within timespan\n",
    "    filtered_polls = polls[(polls['endDate'] >= day - timespan)\n",
    "        & (polls['endDate'] <= day)]\n",
    "    \n",
    "    return filtered_polls"
   ]
  },
  {
   "cell_type": "code",
   "execution_count": 10,
   "metadata": {},
   "outputs": [],
   "source": [
    "def clean_and_filter_polls(day=None, polls=None, state=None, dynamic_timespan=True):\n",
    "    if state and state['name'] != 'Georgia-Special':\n",
    "        polls = polls[(polls['dem_cand'] == state['dem']) & (polls['rep_cand'] == state['rep'])]\n",
    "\n",
    "    filtered_polls = get_polls_in_timespan(day=day, polls=polls, dynamic_timespan=dynamic_timespan)\n",
    "    # sort by date\n",
    "    sorted_polls = filtered_polls.sort_values(by=['endDate'], ascending=False)\n",
    "    # one poll per pollster: preference lv > rv > a\n",
    "    deduped_polls = drop_duplicate_pollsters(sorted_polls).sort_values(by=['endDate'], ascending=False)\n",
    "\n",
    "    # 3 polls or last n weeks, whichever is more data\n",
    "    final_polls = deduped_polls\n",
    "    if len(final_polls.index) < 3:\n",
    "        # just grab all the polls and get the three most recent\n",
    "        filtered_polls = polls[polls['endDate'] <= day]\n",
    "        sorted_polls = filtered_polls.sort_values(by=['endDate'], ascending=False)\n",
    "        final_polls = drop_duplicate_pollsters(sorted_polls).sort_values(by=['endDate'], ascending=False).head(3)\n",
    "    \n",
    "    return final_polls"
   ]
  },
  {
   "cell_type": "code",
   "execution_count": null,
   "metadata": {},
   "outputs": [],
   "source": [
    "def write_state_day_stats(day=None, state=None, polls=None, file=None):\n",
    "    num_polls = len(polls.index)\n",
    "    julian_date = day.strftime(\"%j\")\n",
    "    state_num = int(state['num'])\n",
    "    # if no polls, use the prior as a poll with the date at jan 1st\n",
    "    date_most_recent_poll = datetime(year=2020, month=1, day=1).strftime(\"%j\")\n",
    "    median_margin = float(state['prior'])\n",
    "    esd = -999\n",
    "\n",
    "    if num_polls > 0:\n",
    "        date_most_recent_poll = polls['endDate'].iloc[0].strftime(\"%j\")\n",
    "        median_margin = polls['dminusr'].median()\n",
    "        esd = polls['dminusr'].mad() * 1.4826\n",
    "\n",
    "    file.write('%-3d %-4s %-7.2f %-7.2f %-4s %-3d\\n' % (num_polls, date_most_recent_poll, median_margin, \n",
    "        esd, julian_date, state_num))\n",
    "    \n",
    "    return dict(num_polls=num_polls, \n",
    "                julian_date=julian_date, \n",
    "                date_most_recent_poll=date_most_recent_poll, \n",
    "                median_margin=median_margin, \n",
    "                esd=esd, \n",
    "                state_num=state_num)\n"
   ]
  },
  {
   "cell_type": "code",
   "execution_count": 11,
   "metadata": {},
   "outputs": [],
   "source": [
    "def presidential(polls):\n",
    "    pres_polls = polls[polls['type'] == 'president-general']\n",
    "    pres_polls = pres_polls.assign(dminusr=lambda x: x.apply(parse_dminusr, axis=1), \n",
    "        dem_cand=lambda x: x.apply(parse_candidate, axis=1))\n",
    "    pres_polls = pres_polls[pres_polls['dem_cand'] == 'Biden']\n",
    "    # exclude national polls\n",
    "    pres_polls = pres_polls[pres_polls['state'] != 'National']\n",
    "    \n",
    "    all_output = []\n",
    "    path = os.path.join(dir_path, 'outputs/2020.EV.polls.median.txt')\n",
    "    f = open(path, 'w')\n",
    "    for idx in range((datetime.today() - start_date).days):\n",
    "        for state in states:\n",
    "            pres_polls_state = pres_polls[pres_polls['state'] == state['name']] \n",
    "            day = datetime.today() - timedelta(days=idx)\n",
    "            \n",
    "            final_polls = clean_and_filter_polls(day=day, polls=pres_polls_state)\n",
    "            row = write_state_day_stats(day=day, state=state, polls=final_polls, file=f)\n",
    "            all_output.append(row)\n",
    "    \n",
    "    df = pd.DataFrame(all_output)\n",
    "    path = os.path.join(dir_path, 'outputs/2020.EV.polls.median.csv')\n",
    "    df.to_csv(path, index=False, float_format='%.2f')\n",
    "\n",
    "    f.close()"
   ]
  },
  {
   "cell_type": "code",
   "execution_count": null,
   "metadata": {},
   "outputs": [],
   "source": [
    "def senate(polls):\n",
    "    sen_polls = polls[polls['type'] == 'senate']\n",
    "    sen_polls = sen_polls.assign(dminusr=lambda x: x.apply(parse_dminusr, axis=1),\n",
    "        dem_cand=lambda x: x.apply(parse_candidate, axis=1, party='Dem'),\n",
    "        rep_cand=lambda x: x.apply(parse_candidate, axis=1, party='Rep'))\n",
    "\n",
    "    all_output = [] \n",
    "    path = os.path.join(dir_path, 'outputs/2020.Senate.polls.median.txt')\n",
    "    f = open(path, 'w')\n",
    "    for idx in range((datetime.today() - start_date).days):\n",
    "        for state in sen_states:\n",
    "            sen_polls_state = None \n",
    "            if state['name'] == 'Georgia-Special':\n",
    "                sen_polls_state = sen_polls[(sen_polls['state'] == 'Georgia') & (sen_polls['seat_name'] == 'Class III')]\n",
    "            elif state['name'] == 'Georgia':\n",
    "                sen_polls_state = sen_polls[(sen_polls['state'] == 'Georgia') & (sen_polls['seat_name'] == 'Class II')]\n",
    "            else:\n",
    "                sen_polls_state = sen_polls[sen_polls['state'] == state['name']] \n",
    "\n",
    "            day = datetime.today() - timedelta(days=idx)\n",
    "\n",
    "            final_polls = clean_and_filter_polls(day=day, state=state, polls=sen_polls_state)\n",
    "            row = write_state_day_stats(day=day, state=state, polls=final_polls, file=f)\n",
    "            all_output.append(row)\n",
    "\n",
    "    df = pd.DataFrame(all_output)\n",
    "    path = os.path.join(dir_path, 'outputs/2020.Senate.polls.median.csv')\n",
    "    df.to_csv(path, index=False, float_format='%.2f')\n",
    "\n",
    "    f.close()"
   ]
  },
  {
   "cell_type": "code",
   "execution_count": null,
   "metadata": {},
   "outputs": [],
   "source": [
    "def generic(polls):\n",
    "    gen_polls = polls[polls['type'] == 'generic-ballot']\n",
    "    gen_polls = gen_polls.assign(dminusr=lambda x: x.apply(parse_dminusr, axis=1, generic=True))\n",
    "\n",
    "    path = os.path.join(dir_path, 'outputs/2020.generic.polls.median.txt')\n",
    "    f = open(path, 'w')\n",
    "    all_output = []\n",
    "    for idx in range((datetime.today() - start_date).days):\n",
    "        day = datetime.today() - timedelta(days=idx)\n",
    "\n",
    "        final_polls = clean_and_filter_polls(day=day, polls=gen_polls, dynamic_timespan=False)\n",
    "\n",
    "        num_polls = len(final_polls.index)\n",
    "        julian_date = day.strftime(\"%j\")\n",
    "        date_most_recent_poll = final_polls['endDate'].iloc[0].strftime(\"%j\")\n",
    "        median_margin = final_polls['dminusr'].median()\n",
    "        esd = final_polls['dminusr'].mad() * 1.4826\n",
    "\n",
    "        all_output.append(dict(num_polls=num_polls, julian_date=julian_date, date_most_recent_poll=date_most_recent_poll, median_margin=median_margin, esd=esd))\n",
    "\n",
    "        f.write('%-3d %-4s %-7.2f %-7.2f %-4s\\n' % (num_polls, date_most_recent_poll, median_margin, \n",
    "            esd, julian_date))\n",
    "    \n",
    "    df = pd.DataFrame(all_output)\n",
    "    path = os.path.join(dir_path, 'outputs/2020.generic.polls.median.csv')\n",
    "    df.to_csv(path, index=False, float_format='%.2f')\n",
    "\n",
    "    f.close()"
   ]
  },
  {
   "cell_type": "code",
   "execution_count": 12,
   "metadata": {},
   "outputs": [],
   "source": [
    "def main():\n",
    "    data_url = 'https://projects.fivethirtyeight.com/polls/polls.json'\n",
    "    all_polls = pd.read_json(data_url)\n",
    "    all_polls.loc[:, 'endDate'] = pd.to_datetime(all_polls['endDate'])\n",
    "    all_polls.loc[:, 'startDate'] = pd.to_datetime(all_polls['startDate'])\n",
    "    all_2020_polls = all_polls[all_polls['endDate'] > datetime(year=2020, month=1, day=1)]\n",
    "\n",
    "    path = os.path.join(dir_path, '2020.Senate.priors.csv')\n",
    "    with open(path, 'r') as f:\n",
    "        reader = csv.DictReader(f)\n",
    "        for row in reader:\n",
    "            sen_states.append(row)\n",
    "\n",
    "    path = os.path.join(dir_path, '2020.EV.priors.csv')\n",
    "    with open(path, 'r') as f:\n",
    "        reader = csv.DictReader(f)\n",
    "        for row in reader:\n",
    "            states.append(row)\n",
    "\n",
    "    print('Generating presidential medians...')\n",
    "    presidential(all_2020_polls)\n",
    "    print('Generating House medians...')\n",
    "    generic(all_2020_polls)\n",
    "    print('Generating Senate medians...')\n",
    "    senate(all_2020_polls)"
   ]
  },
  {
   "cell_type": "markdown",
   "metadata": {},
   "source": [
    "Test getting nebraska and maine districts"
   ]
  },
  {
   "cell_type": "code",
   "execution_count": 122,
   "metadata": {},
   "outputs": [
    {
     "output_type": "execute_result",
     "data": {
      "text/plain": "(3029, 20)"
     },
     "metadata": {},
     "execution_count": 122
    }
   ],
   "source": [
    "    data_url = 'https://projects.fivethirtyeight.com/polls/polls.json'\n",
    "    all_polls = pd.read_json(data_url)\n",
    "    all_polls.loc[:, 'endDate'] = pd.to_datetime(all_polls['endDate'])\n",
    "    all_polls.loc[:, 'startDate'] = pd.to_datetime(all_polls['startDate'])\n",
    "    all_2020_polls = all_polls[all_polls['endDate'] > datetime(year=2020, month=1, day=1)]\n",
    "\n",
    "    all_2020_polls.shape"
   ]
  },
  {
   "cell_type": "code",
   "execution_count": 123,
   "metadata": {
    "tags": []
   },
   "outputs": [
    {
     "output_type": "stream",
     "name": "stdout",
     "text": "Dropped 34  Adjusted 1\n"
    },
    {
     "output_type": "execute_result",
     "data": {
      "text/plain": "(2995, 20)"
     },
     "metadata": {},
     "execution_count": 123
    }
   ],
   "source": [
    "dropped = 0\n",
    "adjusted = 0\n",
    "\n",
    "for index in all_2020_polls.index: \n",
    "    # get all polls with a specified district\n",
    "    if all_2020_polls.loc[index, 'district'] > 0:\n",
    "        adjusted += 1\n",
    "        if all_2020_polls.loc[index, 'type'] == 'president-general':\n",
    "            # Maine: District 1 subtract 10, District 2 add 10 to convert to statewide\n",
    "            if all_2020_polls.loc[index, 'state'] == \"Maine\":\n",
    "                if all_2020_polls.loc[index, 'district'] == 2:\n",
    "                    all_2020_polls.loc[index, 'answers'][0]['pct'] = float(all_2020_polls.loc[index, 'answers'][0]['pct']) + 10\n",
    "                elif all_2020_polls.loc[index, 'district'] == 1:\n",
    "                    all_2020_polls.loc[index, 'answers'][0]['pct'] = float(all_2020_polls.loc[index, 'answers'][0]['pct']) - 10\n",
    "                else: \n",
    "                    all_2020_polls = all_2020_polls.drop(index)\n",
    "                    dropped+=1\n",
    "\n",
    "            # Nebraska: District 1 subtract 6, District 2 subtract 20, District 3 add 26 to convert to statewide\n",
    "            elif all_2020_polls.loc[index, 'state'] == \"Nebraska\":\n",
    "                if all_2020_polls.loc[index, 'district'] == 1:\n",
    "                    all_2020_polls.loc[index, 'answers'][0]['pct'] = float(all_2020_polls.loc[index, 'answers'][0]['pct']) -6\n",
    "                elif all_2020_polls.loc[index, 'district'] == 2:\n",
    "                    all_2020_polls.loc[index, 'answers'][0]['pct'] = float(all_2020_polls.loc[index, 'answers'][0]['pct']) - 20\n",
    "                elif all_2020_polls.loc[index, 'district'] == 3:\n",
    "                    all_2020_polls.loc[index, 'answers'][0]['pct'] = float(all_2020_polls.loc[index, 'answers'][0]['pct']) + 26\n",
    "                else: \n",
    "                    all_2020_polls = all_2020_polls.drop(index)\n",
    "                    dropped+=1\n",
    "            else: \n",
    "                all_2020_polls = all_2020_polls.drop(index)\n",
    "                dropped+=1\n",
    "        else: \n",
    "            all_2020_polls = all_2020_polls.drop(index) \n",
    "            dropped+=1\n",
    "\n",
    "print(f\"Dropped {dropped}  Adjusted {adjusted - dropped}\")\n",
    "all_2020_polls.shape\n"
   ]
  },
  {
   "cell_type": "code",
   "execution_count": 89,
   "metadata": {
    "tags": []
   },
   "outputs": [
    {
     "output_type": "stream",
     "name": "stdout",
     "text": "(2995, 20)\n(2995, 20)\n"
    }
   ],
   "source": [
    "# drop all polls with a specified district that aren't in either Nebraska or Maine\n",
    "all_2020_polls = all_2020_polls.drop(all_2020_polls[(all_2020_polls.district.notnull()) & (all_2020_polls['state'] != 'Nebraska')  & (all_2020_polls['state'] != 'Maine')].index)\n",
    "print(all_2020_polls.shape)\n",
    "# drop all polls with a specied district that arent president-general\n",
    "all_2020_polls = all_2020_polls.drop(all_2020_polls[(all_2020_polls.district.notnull()) & (all_2020_polls['type'] != 'president-general')].index)\n",
    "print(all_2020_polls.shape)"
   ]
  },
  {
   "cell_type": "code",
   "execution_count": 91,
   "metadata": {
    "tags": []
   },
   "outputs": [
    {
     "output_type": "stream",
     "name": "stdout",
     "text": "id   subgroup  sampleSize population grade  \\\n15874  123320  All polls  448.0       lv         B/C    \n\n                                                              url created_at  \\\n15874  https://twitter.com/allymutnick/status/1260396059685199872 2020-05-12   \n\n       startDate    endDate                                 pollster  \\\n15874 2020-05-07 2020-05-10  DCCC Targeting and Analytics Department   \n\n                                                                                                        answers  \\\n15874  [{'choice': 'Biden', 'pct': '52.0', 'party': 'Dem'}, {'choice': 'Trump', 'pct': '41.0', 'party': 'Rep'}]   \n\n                    type seat_name  tracking  headToHead   cycle     state  \\\n15874  president-general  None      False     False       2020.0  Nebraska   \n\n      partisan  district  inAvg  \n15874  DEM      2.0       1.0    \n"
    }
   ],
   "source": [
    "print(all_2020_polls[all_2020_polls.district.notnull()])"
   ]
  },
  {
   "cell_type": "code",
   "execution_count": 83,
   "metadata": {
    "tags": []
   },
   "outputs": [
    {
     "output_type": "stream",
     "name": "stdout",
     "text": "(35, 20)\n(33, 20)\n"
    }
   ],
   "source": [
    "district_polls = all_2020_polls.loc[all_2020_polls.district.notnull()]\n",
    "district_polls_nnm = all_2020_polls.loc[(all_2020_polls.district.notnull()) & (all_2020_polls['state'] != 'Nebraska')  & (all_2020_polls['state'] != 'Maine')]\n",
    "print(district_polls.shape)\n",
    "print(district_polls_nnm.shape)\n",
    "#print(district_polls)"
   ]
  },
  {
   "cell_type": "code",
   "execution_count": null,
   "metadata": {},
   "outputs": [],
   "source": []
  },
  {
   "cell_type": "code",
   "execution_count": null,
   "metadata": {},
   "outputs": [],
   "source": []
  },
  {
   "cell_type": "code",
   "execution_count": 124,
   "metadata": {
    "tags": []
   },
   "outputs": [
    {
     "output_type": "stream",
     "name": "stdout",
     "text": "id   subgroup  sampleSize population grade  \\\n15874  123320  All polls  448.0       lv         B/C    \n\n                                                              url created_at  \\\n15874  https://twitter.com/allymutnick/status/1260396059685199872 2020-05-12   \n\n       startDate    endDate                                 pollster  \\\n15874 2020-05-07 2020-05-10  DCCC Targeting and Analytics Department   \n\n                                                                                                      answers  \\\n15874  [{'choice': 'Biden', 'pct': 32.0, 'party': 'Dem'}, {'choice': 'Trump', 'pct': '41.0', 'party': 'Rep'}]   \n\n                    type seat_name  tracking  headToHead   cycle     state  \\\n15874  president-general  None      False     False       2020.0  Nebraska   \n\n      partisan  district  inAvg  \n15874  DEM      2.0       1.0    \n"
    }
   ],
   "source": [
    "NE = all_2020_polls.loc[all_2020_polls['state'] == 'Nebraska']\n",
    "NE_P = NE[NE.district.notnull()]\n",
    "print(NE_P)"
   ]
  },
  {
   "cell_type": "code",
   "execution_count": 26,
   "metadata": {},
   "outputs": [
    {
     "output_type": "execute_result",
     "data": {
      "text/plain": "(1, 20)"
     },
     "metadata": {},
     "execution_count": 26
    }
   ],
   "source": [
    "NE_P.shape"
   ]
  },
  {
   "cell_type": "code",
   "execution_count": 116,
   "metadata": {
    "tags": []
   },
   "outputs": [
    {
     "output_type": "stream",
     "name": "stdout",
     "text": "id   subgroup  sampleSize population grade  \\\n14872  119672  All polls  872.0       v          B      \n14873  119673  All polls  872.0       v          B      \n\n                                                                                   url  \\\n14872  https://www.publicpolicypolling.com/wp-content/uploads/2020/03/MaineResults.pdf   \n14873  https://www.publicpolicypolling.com/wp-content/uploads/2020/03/MaineResults.pdf   \n\n      created_at  startDate    endDate               pollster  \\\n14872 2020-03-05 2020-03-02 2020-03-03  Public Policy Polling   \n14873 2020-03-05 2020-03-02 2020-03-03  Public Policy Polling   \n\n                                                                                                          answers  \\\n14872  [{'choice': 'Biden', 'pct': '52.0', 'party': 'Dem'}, {'choice': 'Trump', 'pct': '42.0', 'party': 'Rep'}]     \n14873  [{'choice': 'Sanders', 'pct': '52.0', 'party': 'Dem'}, {'choice': 'Trump', 'pct': '42.0', 'party': 'Rep'}]   \n\n                    type seat_name  tracking  headToHead   cycle  state  \\\n14872  president-general  None      False     False       2020.0  Maine   \n14873  president-general  None      False     False       2020.0  Maine   \n\n      partisan  district  inAvg  \n14872  NaN     NaN        1.0    \n14873  NaN     NaN        0.0    \n"
    }
   ],
   "source": [
    "pd.set_option('display.max_colwidth', -1)\n",
    "ME = all_2020_polls.loc[all_polls['state'] == 'Maine']\n",
    "ME_P = ME.loc[all_polls['type'] == 'president-general']\n",
    "print(ME_P)"
   ]
  },
  {
   "cell_type": "code",
   "execution_count": null,
   "metadata": {},
   "outputs": [],
   "source": []
  }
 ],
 "metadata": {
  "language_info": {
   "codemirror_mode": {
    "name": "ipython",
    "version": 3
   },
   "file_extension": ".py",
   "mimetype": "text/x-python",
   "name": "python",
   "nbconvert_exporter": "python",
   "pygments_lexer": "ipython3",
   "version": "3.7.3-final"
  },
  "orig_nbformat": 2,
  "kernelspec": {
   "name": "python37364bit9b974f366c264f03bcbc187a67b156af",
   "display_name": "Python 3.7.3 64-bit"
  }
 },
 "nbformat": 4,
 "nbformat_minor": 2
}